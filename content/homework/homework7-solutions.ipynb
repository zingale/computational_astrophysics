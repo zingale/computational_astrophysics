{
 "cells": [
  {
   "cell_type": "markdown",
   "id": "3987e5c2-f285-4eda-8f0b-051ed08ff6fc",
   "metadata": {},
   "source": [
    "# Homework 7 solutions"
   ]
  },
  {
   "cell_type": "markdown",
   "id": "50832855-00f3-48e8-a152-42ab176e3c94",
   "metadata": {},
   "source": [
    "We want to solve Burgers' equation using two different first-order difference approximations.  We'll write a single class that has both updates.  First we'll do the grid&mdash;we can essentially reuse the grid from our linear advection solver, but change the boundary conditions to be outflow."
   ]
  },
  {
   "cell_type": "code",
   "execution_count": 1,
   "id": "94b7ecb1-1e2e-4b50-adde-f889634b53ff",
   "metadata": {
    "tags": []
   },
   "outputs": [],
   "source": [
    "import numpy as np\n",
    "import matplotlib.pyplot as plt"
   ]
  },
  {
   "cell_type": "code",
   "execution_count": 2,
   "id": "67c81c9a-0ee4-4ac6-a38c-a383422e13de",
   "metadata": {
    "tags": []
   },
   "outputs": [],
   "source": [
    "class FDGrid:\n",
    "    \"\"\"a finite-difference grid\"\"\"\n",
    "\n",
    "    def __init__(self, nx, ng=1, xmin=0.0, xmax=1.0):\n",
    "        \"\"\"create a grid with nx points, ng ghost points (on each end)\n",
    "        that runs from [xmin, xmax]\"\"\"\n",
    "\n",
    "        self.xmin = xmin\n",
    "        self.xmax = xmax\n",
    "        self.ng = ng\n",
    "        self.nx = nx\n",
    "\n",
    "        # python is zero-based.  Make easy integers to know where the\n",
    "        # real data lives\n",
    "        self.ilo = ng\n",
    "        self.ihi = ng+nx-1\n",
    "\n",
    "        # physical coords\n",
    "        self.dx = (xmax - xmin)/(nx-1)\n",
    "        self.x = xmin + (np.arange(nx+2*ng)-ng)*self.dx\n",
    "\n",
    "        # storage for the solution\n",
    "        self.u = self.scratch_array()\n",
    "        self.uinit = self.scratch_array()\n",
    "        \n",
    "    def scratch_array(self):\n",
    "        \"\"\" return a scratch array dimensioned for our grid \"\"\"\n",
    "        return np.zeros((self.nx+2*self.ng), dtype=np.float64)\n",
    "\n",
    "    def fill_BCs(self):\n",
    "        \"\"\" fill the a single ghostcell with outflow \"\"\"\n",
    "        self.u[self.ilo-1] = self.u[self.ilo]\n",
    "        self.u[self.ihi+1] = self.u[self.ihi]"
   ]
  },
  {
   "cell_type": "markdown",
   "id": "1b0afacd-a534-4b52-9a0a-91b039190593",
   "metadata": {},
   "source": [
    "Now the Burgers' solver.  Again we'll base this on the upwind advection case, but with a few changes:\n",
    "\n",
    "* The timestep computation needs to look at the maximum velocity and be considered each step\n",
    "* The update itself is now different\n",
    "* There is no sense of a period, since we are doing outflow BCs, so we pass in the maximum time\n",
    "* We don't pass in the advective velocity, since for Burgers' equation, velocity is the quantity\n",
    "  on the grid itself"
   ]
  },
  {
   "cell_type": "code",
   "execution_count": 3,
   "id": "d8dc3e06-adac-4ec0-9a64-be8781abe429",
   "metadata": {
    "tags": []
   },
   "outputs": [],
   "source": [
    "def burgers_solve(nx, C, tmax, init_cond=None, method=\"conservative\"):\n",
    "    \"\"\"solve Burgers' equation with either a conservative or non-conservative\n",
    "    difference method\"\"\"\n",
    "    \n",
    "    g = FDGrid(nx)\n",
    "    \n",
    "    # time info\n",
    "    t = 0.0\n",
    "\n",
    "    # initialize the data\n",
    "    init_cond(g)\n",
    "\n",
    "    g.fill_BCs()\n",
    "    g.uinit[:] = g.u[:]\n",
    "    \n",
    "    # evolution loop\n",
    "    unew = g.scratch_array()\n",
    "\n",
    "    while t < tmax:\n",
    "\n",
    "        dt = C * g.dx / np.abs(g.u).max()\n",
    "        \n",
    "        if t + dt > tmax:\n",
    "            dt = tmax - t\n",
    "\n",
    "        # fill the boundary conditions\n",
    "        g.fill_BCs()\n",
    "\n",
    "        # loop over zones and do the update\n",
    "        if method == \"conservative\":\n",
    "            unew[g.ilo:g.ihi+1] = g.u[g.ilo:g.ihi+1] - \\\n",
    "                0.5 * dt * (g.u[g.ilo:g.ihi+1]**2 - g.u[g.ilo-1:g.ihi]**2) / g.dx\n",
    "            \n",
    "        elif method == \"non-conservative\":\n",
    "            unew[g.ilo:g.ihi+1] = g.u[g.ilo:g.ihi+1] - \\\n",
    "                dt * g.u[g.ilo:g.ihi+1] * (g.u[g.ilo:g.ihi+1] - g.u[g.ilo-1:g.ihi]) / g.dx\n",
    "            \n",
    "        else:\n",
    "            raise ValueError(f\"solution method {method} not defined\")\n",
    "\n",
    "        # store the updated solution\n",
    "        g.u[:] = unew[:]\n",
    "        \n",
    "        t += dt\n",
    "    \n",
    "    # fill the ghost cells for the returned object\n",
    "    g.fill_BCs()\n",
    "    return g"
   ]
  },
  {
   "cell_type": "markdown",
   "id": "aa966056-e9e0-4f1e-b1c8-db5413df80df",
   "metadata": {},
   "source": [
    "Our initial conditions are the same as the shock initial conditions we saw in class"
   ]
  },
  {
   "cell_type": "code",
   "execution_count": 4,
   "id": "532f6409-c033-4b12-b582-7891f7ff8f5a",
   "metadata": {
    "tags": []
   },
   "outputs": [],
   "source": [
    "def shock(g):\n",
    "    g.u[:] = 2.0\n",
    "    g.u[g.x > 0.5] = 1.0"
   ]
  },
  {
   "cell_type": "markdown",
   "id": "51e0024c-e98d-4d23-98f9-6e20885605f6",
   "metadata": {},
   "source": [
    "## Conservative solution"
   ]
  },
  {
   "cell_type": "code",
   "execution_count": 5,
   "id": "0565de70-9495-4ff5-bf81-5c0f5e42498c",
   "metadata": {
    "tags": []
   },
   "outputs": [],
   "source": [
    "nx = 64\n",
    "tmax = 0.2\n",
    "C = 0.8\n",
    "\n",
    "g = burgers_solve(nx, C, tmax, init_cond=shock)"
   ]
  },
  {
   "cell_type": "code",
   "execution_count": 6,
   "id": "d3d55eae-ea0b-4695-bd43-4ad370d03d34",
   "metadata": {
    "tags": []
   },
   "outputs": [
    {
     "data": {
      "text/plain": [
       "<matplotlib.legend.Legend at 0x7f5732165550>"
      ]
     },
     "execution_count": 6,
     "metadata": {},
     "output_type": "execute_result"
    },
    {
     "data": {
      "image/png": "[encoded data removed]",
      "text/plain": [
       "<Figure size 640x480 with 1 Axes>"
      ]
     },
     "metadata": {},
     "output_type": "display_data"
    }
   ],
   "source": [
    "fig, ax = plt.subplots()\n",
    "ax.plot(g.x, g.u)\n",
    "ax.plot(g.x, g.uinit, ls=\":\", label=\"initial conditions\")\n",
    "ax.legend()"
   ]
  },
  {
   "cell_type": "markdown",
   "id": "02292d76-ec41-4fed-911c-7f27a0681c10",
   "metadata": {},
   "source": [
    "Let's write a simple function to compute the shock speed by simply finding the first zone\n",
    "where the velocity drops below 1.5 and differencing that location at the different times."
   ]
  },
  {
   "cell_type": "markdown",
   "id": "afd4268d-d724-4e0c-9505-b5f181a280f3",
   "metadata": {},
   "source": [
    "```{note}\n",
    "We should really interpolate to find the $x$ where the profile $u$ takes some particular value\n",
    "in the shock profile to get a more accurate measure.\n",
    "```"
   ]
  },
  {
   "cell_type": "code",
   "execution_count": 7,
   "id": "321221fc-3f59-4098-92af-e12812e809a9",
   "metadata": {
    "tags": []
   },
   "outputs": [],
   "source": [
    "def shock_speed(g, tmax):\n",
    "    x0 = g.x[g.uinit <= 1.5][0]\n",
    "    x1 = g.x[g.u <= 1.5][0]\n",
    "    return (x1 - x0) / tmax"
   ]
  },
  {
   "cell_type": "markdown",
   "id": "b0462eb3-250b-4b17-b5c8-14c3d3affc14",
   "metadata": {
    "tags": []
   },
   "source": [
    "Now let's see how the shock speed behaves with resolution"
   ]
  },
  {
   "cell_type": "code",
   "execution_count": 8,
   "id": "6c93a3f7-9a92-4d0f-9b76-c576f4239751",
   "metadata": {
    "tags": []
   },
   "outputs": [
    {
     "name": "stdout",
     "output_type": "stream",
     "text": [
      "nx:   64, shock speed =   1.508\n",
      "nx:  128, shock speed =   1.496\n",
      "nx:  256, shock speed =   1.490\n",
      "nx:  512, shock speed =   1.497\n"
     ]
    }
   ],
   "source": [
    "for nx in [64, 128, 256, 512]:\n",
    "    g = burgers_solve(nx, C, tmax, init_cond=shock)\n",
    "    speed = shock_speed(g, tmax)\n",
    "    print(f\"nx: {nx:4}, shock speed = {speed:7.3f}\")"
   ]
  },
  {
   "cell_type": "markdown",
   "id": "05ea2821-8da6-4431-a7ad-b2d4736ebcb0",
   "metadata": {},
   "source": [
    "## Non-conservative update"
   ]
  },
  {
   "cell_type": "code",
   "execution_count": 9,
   "id": "dd44a229-aef7-49b3-afc7-6ead0772d032",
   "metadata": {
    "tags": []
   },
   "outputs": [],
   "source": [
    "nx = 64\n",
    "tmax = 0.2\n",
    "C = 0.8\n",
    "\n",
    "g = burgers_solve(nx, C, tmax, init_cond=shock, method=\"non-conservative\")"
   ]
  },
  {
   "cell_type": "code",
   "execution_count": 10,
   "id": "ef1c635a-2996-492e-ab9a-1fbc84dd2006",
   "metadata": {
    "tags": []
   },
   "outputs": [
    {
     "data": {
      "text/plain": [
       "<matplotlib.legend.Legend at 0x7f5731f196d0>"
      ]
     },
     "execution_count": 10,
     "metadata": {},
     "output_type": "execute_result"
    },
    {
     "data": {
      "image/png": "[encoded data removed]",
      "text/plain": [
       "<Figure size 640x480 with 1 Axes>"
      ]
     },
     "metadata": {},
     "output_type": "display_data"
    }
   ],
   "source": [
    "fig, ax = plt.subplots()\n",
    "ax.plot(g.x, g.u)\n",
    "ax.plot(g.x, g.uinit, ls=\":\", label=\"initial conditions\")\n",
    "ax.legend()"
   ]
  },
  {
   "cell_type": "code",
   "execution_count": 11,
   "id": "0c4ce903-9a39-4951-b5d8-f0deb05d771d",
   "metadata": {
    "tags": []
   },
   "outputs": [
    {
     "name": "stdout",
     "output_type": "stream",
     "text": [
      "nx:   64, shock speed =   1.349\n",
      "nx:  128, shock speed =   1.339\n",
      "nx:  256, shock speed =   1.373\n",
      "nx:  512, shock speed =   1.370\n"
     ]
    }
   ],
   "source": [
    "for nx in [64, 128, 256, 512]:\n",
    "    g = burgers_solve(nx, C, tmax, init_cond=shock, method=\"non-conservative\")\n",
    "    speed = shock_speed(g, tmax)\n",
    "    print(f\"nx: {nx:4}, shock speed = {speed:7.3f}\")"
   ]
  },
  {
   "cell_type": "markdown",
   "id": "7ec6f644-9f00-4356-9e48-c9935f624865",
   "metadata": {},
   "source": [
    "These speeds are really different."
   ]
  },
  {
   "cell_type": "markdown",
   "id": "ce646ea2-8e50-47de-8a8c-6b03290dce25",
   "metadata": {},
   "source": [
    "## Summary\n",
    "\n",
    "We know the correct shock speed for this&mdash;our initial conditions are just a Riemann problem\n",
    "and we derived the shock speed for that via the Rankine-Hugoniot jump conditions:\n",
    "\n",
    "$$S = \\frac{1}{2} (u_l + u_r)$$\n",
    "\n",
    "so for our problem the shock speed is $S = 1.5$.\n",
    "\n",
    "We see that the conservatively differenced method gets the correct shock speed but the non-conservative method does not.  The reason for this is that the shock represents a discontinuity where the derivative\n",
    "$\\partial u / \\partial x$ is not defined.  The conservative formulation matches the finite-volume method,\n",
    "where we use the flux difference to compute the update.  This casts the equation in integral rather\n",
    "than differential form, where the discontinuity is not a problem."
   ]
  }
 ],
 "metadata": {
  "kernelspec": {
   "display_name": "Python 3 (ipykernel)",
   "language": "python",
   "name": "python3"
  },
  "language_info": {
   "codemirror_mode": {
    "name": "ipython",
    "version": 3
   },
   "file_extension": ".py",
   "mimetype": "text/x-python",
   "name": "python",
   "nbconvert_exporter": "python",
   "pygments_lexer": "ipython3",
   "version": "3.13.3"
  }
 },
 "nbformat": 4,
 "nbformat_minor": 5
}
