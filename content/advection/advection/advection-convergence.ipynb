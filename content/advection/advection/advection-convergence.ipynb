{
 "cells": [
  {
   "cell_type": "markdown",
   "metadata": {},
   "source": [
    "# Measuring Convergence"
   ]
  },
  {
   "cell_type": "code",
   "execution_count": 1,
   "metadata": {
    "tags": []
   },
   "outputs": [],
   "source": [
    "import numpy as np\n",
    "import matplotlib.pyplot as plt"
   ]
  },
  {
   "cell_type": "markdown",
   "metadata": {},
   "source": [
    "In order to see whether our methods are working as designed, we need to be able to measure the convergence rate.  \n",
    "\n",
    "With the ODE orbit problem, we had a single point (the current position of Earth) at the end of our integration.  Now we have $N$ points at the new time.  So we need to define a metric that allows us to quantify the error."
   ]
  },
  {
   "cell_type": "markdown",
   "metadata": {},
   "source": [
    "We'll define a [vector norm](https://en.wikipedia.org/wiki/Norm_(mathematics)), the $L_2$ norm, for a set of discrete data $\\phi_i$, as:\n",
    "\n",
    "$$\\|\\phi\\|_2 = \\left ( \\Delta x \\sum_{i=0}^{N-1} \\phi_i^2 \\right )^{1/2}$$\n",
    "\n",
    "and then we can define an error as $e_i = a_i - a^\\mathrm{exact}(x_i)$ for all the points in our domain and compute an error, $\\epsilon$ as $\\| e\\|_2$.  \n",
    "\n",
    "Further, for our problem, after 1 period, we know that the exact solution is just the initial data, so we can write:\n",
    "\n",
    "$$\\epsilon = \\| a_i^\\mathrm{final} - a_i^\\mathrm{initial} \\|_2\n",
    "   = \\left ( \\Delta x \\sum_{i=0}^{N-1} (a_i^\\mathrm{final} - a_i^\\mathrm{initial} )^2 \\right )^{1/2}$$"
   ]
  },
  {
   "cell_type": "markdown",
   "metadata": {},
   "source": [
    "```{important}   \n",
    "It only makes sense to discuss convergence if the initial conditions themselves converge.  For the top hat, there is a discontinuity, and as we increase and increase the resolution, we will never resolve the step.  So the top hat is not a good set of initial conditions to assess convergence.  We should use a smooth problem.\n",
    "```"
   ]
  },
  {
   "cell_type": "markdown",
   "metadata": {},
   "source": [
    "## Upwind convergence\n",
    "\n",
    "Let's compute the $L_2$ norm of the error for our upwind method.  In order for it to make sense, we need to use smooth data, so pick the initial conditions as:\n",
    "\n",
    "$$a(x, t=0) = 1 + \\frac{1}{2} \\sin(2\\pi x)$$\n",
    "    \n",
    "Now vary the number of grid points and measure the error and estimate the rate at which it converges."
   ]
  },
  {
   "cell_type": "markdown",
   "metadata": {},
   "source": [
    "We'll copy our grid class and upwind advection solver here"
   ]
  },
  {
   "cell_type": "code",
   "execution_count": 2,
   "metadata": {
    "tags": []
   },
   "outputs": [],
   "source": [
    "class FDGrid:\n",
    "    \"\"\"a finite-difference grid\"\"\"\n",
    "\n",
    "    def __init__(self, nx, ng=1, xmin=0.0, xmax=1.0):\n",
    "        \"\"\"create a grid with nx points, ng ghost points (on each end)\n",
    "        that runs from [xmin, xmax]\"\"\"\n",
    "\n",
    "        self.xmin = xmin\n",
    "        self.xmax = xmax\n",
    "        self.ng = ng\n",
    "        self.nx = nx\n",
    "\n",
    "        # python is zero-based.  Make easy integers to know where the\n",
    "        # real data lives\n",
    "        self.ilo = ng\n",
    "        self.ihi = ng+nx-1\n",
    "\n",
    "        # physical coords\n",
    "        self.dx = (xmax - xmin)/(nx-1)\n",
    "        self.x = xmin + (np.arange(nx+2*ng)-ng)*self.dx\n",
    "\n",
    "        # storage for the solution\n",
    "        self.a = self.scratch_array()\n",
    "        self.ainit = self.scratch_array()\n",
    "        \n",
    "    def scratch_array(self):\n",
    "        \"\"\" return a scratch array dimensioned for our grid \"\"\"\n",
    "        return np.zeros((self.nx+2*self.ng), dtype=np.float64)\n",
    "\n",
    "    def fill_BCs(self):\n",
    "        \"\"\" fill the a single ghostcell with periodic boundary conditions \"\"\"\n",
    "        self.a[self.ilo-1] = self.a[self.ihi-1]\n",
    "        self.a[self.ihi+1] = self.a[self.ilo+1]\n",
    "        \n",
    "    def plot(self):\n",
    "        fig = plt.figure()\n",
    "        ax = fig.add_subplot(111)\n",
    "\n",
    "        ax.plot(self.x[self.ilo:self.ihi+1], self.ainit[self.ilo:self.ihi+1],\n",
    "                label=\"initial conditions\")\n",
    "        ax.plot(self.x[self.ilo:self.ihi+1], self.a[self.ilo:self.ihi+1])\n",
    "        ax.legend()\n",
    "        return fig"
   ]
  },
  {
   "cell_type": "code",
   "execution_count": 3,
   "metadata": {
    "tags": []
   },
   "outputs": [],
   "source": [
    "def upwind_advection(nx, u, C, num_periods=1.0, init_cond=None):\n",
    "    \"\"\"solve the linear advection equation using FTCS.  You are required\n",
    "    to pass in a function f(g), where g is a FDGrid object that sets up\n",
    "    the initial conditions\"\"\"\n",
    "    \n",
    "    g = FDGrid(nx)\n",
    "    \n",
    "    # time info\n",
    "    dt = C*g.dx/u\n",
    "    t = 0.0\n",
    "    tmax = num_periods*(g.xmax - g.xmin)/u\n",
    "\n",
    "    # initialize the data\n",
    "    init_cond(g)\n",
    "\n",
    "    g.ainit[:] = g.a[:]\n",
    "    \n",
    "    # evolution loop\n",
    "    anew = g.scratch_array()\n",
    "\n",
    "    while t < tmax:\n",
    "\n",
    "        if t + dt > tmax:\n",
    "            dt = tmax - t\n",
    "            C = u*dt/g.dx\n",
    "\n",
    "        # fill the boundary conditions\n",
    "        g.fill_BCs()\n",
    "\n",
    "        # loop over zones: note since we are periodic and both endpoints\n",
    "        # are on the computational domain boundary, we don't have to\n",
    "        # update both g.ilo and g.ihi -- we could set them equal instead.\n",
    "        # But this is more general\n",
    "        for i in range(g.ilo, g.ihi+1):\n",
    "            anew[i] = g.a[i] - C*(g.a[i] - g.a[i-1])\n",
    "\n",
    "        # store the updated solution\n",
    "        g.a[:] = anew[:]\n",
    "        \n",
    "        t += dt\n",
    "        \n",
    "    return g"
   ]
  },
  {
   "cell_type": "markdown",
   "metadata": {},
   "source": [
    "And here are our initial conditions"
   ]
  },
  {
   "cell_type": "code",
   "execution_count": 4,
   "metadata": {
    "tags": []
   },
   "outputs": [],
   "source": [
    "def sine(g):\n",
    "    g.a[:] = 1.0 + 0.5 * np.sin(2.0*np.pi*g.x)"
   ]
  },
  {
   "cell_type": "code",
   "execution_count": 5,
   "metadata": {
    "tags": []
   },
   "outputs": [],
   "source": [
    "C = 0.5\n",
    "u = 1.0\n",
    "nx = 128"
   ]
  },
  {
   "cell_type": "code",
   "execution_count": 6,
   "metadata": {
    "tags": []
   },
   "outputs": [
    {
     "data": {
      "image/png": "[encoded data removed]",
      "text/plain": [
       "<Figure size 640x480 with 1 Axes>"
      ]
     },
     "metadata": {},
     "output_type": "display_data"
    }
   ],
   "source": [
    "g = upwind_advection(nx, u, C, init_cond=sine)\n",
    "fig = g.plot()"
   ]
  },
  {
   "cell_type": "markdown",
   "metadata": {
    "tags": []
   },
   "source": [
    "An error function that computes the L2-norm:"
   ]
  },
  {
   "cell_type": "code",
   "execution_count": 7,
   "metadata": {
    "tags": []
   },
   "outputs": [],
   "source": [
    "def error(g):\n",
    "    err = 0.0\n",
    "    for i in range(g.ilo, g.ihi+1):\n",
    "        err += (g.a[i] - g.ainit[i])**2\n",
    "        \n",
    "    err /= g.nx\n",
    "    return np.sqrt(err)"
   ]
  },
  {
   "cell_type": "markdown",
   "metadata": {},
   "source": [
    "Now let's run at a bunch of resolutions and see how the error changes"
   ]
  },
  {
   "cell_type": "code",
   "execution_count": 8,
   "metadata": {
    "tags": []
   },
   "outputs": [
    {
     "name": "stdout",
     "output_type": "stream",
     "text": [
      " 32  0.0950\n",
      " 64  0.0509\n",
      "128  0.0263\n",
      "256  0.0134\n"
     ]
    }
   ],
   "source": [
    "u = 1.0\n",
    "C = 0.5\n",
    "\n",
    "for nx in [32, 64, 128, 256]:\n",
    "    g = upwind_advection(nx, u, C, init_cond=sine)\n",
    "    print(f\"{nx:3d} {error(g):7.4f}\")"
   ]
  },
  {
   "cell_type": "markdown",
   "metadata": {},
   "source": [
    "As we see, this is demonstrating first-order convergence&mdash;as we double the number of cells, the error is decreasing by a factor of 2."
   ]
  }
 ],
 "metadata": {
  "kernelspec": {
   "display_name": "Python 3 (ipykernel)",
   "language": "python",
   "name": "python3"
  },
  "language_info": {
   "codemirror_mode": {
    "name": "ipython",
    "version": 3
   },
   "file_extension": ".py",
   "mimetype": "text/x-python",
   "name": "python",
   "nbconvert_exporter": "python",
   "pygments_lexer": "ipython3",
   "version": "3.13.3"
  }
 },
 "nbformat": 4,
 "nbformat_minor": 4
}
