{
 "cells": [
  {
   "cell_type": "markdown",
   "id": "d8b0a7c1-2f7c-460a-a583-3d24829f251c",
   "metadata": {},
   "source": [
    "# A First Example"
   ]
  },
  {
   "cell_type": "markdown",
   "id": "300f8fb8-a0be-46e2-a0e6-edf7a374af64",
   "metadata": {},
   "source": [
    "Let's do a simple example: given a sequence of numbers as input, we want the last number in the sequence to be the output.  Let's see if we can train a network to recognize this."
   ]
  },
  {
   "cell_type": "code",
   "execution_count": 1,
   "id": "b7f6667e-3c47-435c-ab10-a1d1b36ae347",
   "metadata": {
    "tags": []
   },
   "outputs": [],
   "source": [
    "import numpy as np\n",
    "import random"
   ]
  },
  {
   "cell_type": "markdown",
   "id": "2685e5a4-32c5-43c4-8df9-c3f338f96390",
   "metadata": {},
   "source": [
    "We'll create a `ModelData` class that generates our data and also has a method `interpret_result()` that allows us to pass in the result of the network and tell us\n",
    "which of the number it predicts.  This is needed since the network will not know\n",
    "that we are dealing with integers, so we'll need to round it.\n",
    "\n",
    "The important members are:\n",
    "\n",
    "* `ModelData.x` : the input\n",
    "* `ModelData.y` : the output\n",
    "\n",
    "Anticipating the need to scale our data later, we'll also create a `ModelData.x_scaled`\n",
    "which can provide a scaling to the input and `ModelData.y_scaled` which will be the scaled\n",
    "output."
   ]
  },
  {
   "cell_type": "code",
   "execution_count": 2,
   "id": "10203cf6-e574-470f-8367-f94638cad734",
   "metadata": {
    "tags": []
   },
   "outputs": [],
   "source": [
    "class ModelData:\n",
    "    \"\"\"this is the model data for our \"last number\" training set.  We\n",
    "    produce input of length N consisting of the numbers 0-9, and we set\n",
    "    the output to be simply the last element of the input vector\n",
    "\n",
    "    \"\"\"\n",
    "    def __init__(self, N=10):\n",
    "        self.N = N\n",
    "\n",
    "        # our model input data\n",
    "        rng = np.random.default_rng()\n",
    "        self.x = rng.integers(0, high=10, size=N)\n",
    "        self.x_scaled = self.x\n",
    "        \n",
    "        # our scaled model output data\n",
    "        self.y = np.array([self.x[-1]])\n",
    "        self.y_scaled = np.array([self.x_scaled[-1]])\n",
    "        \n",
    "    def interpret_result(self, out):\n",
    "        \"\"\"take the network output and return a the number from the allowed\n",
    "        sequence we are closest to\n",
    "\n",
    "        \"\"\"\n",
    "        return max(0, min(9, int(np.round(out, decimals=0)[0])))"
   ]
  },
  {
   "cell_type": "markdown",
   "id": "f3452149-65a9-4831-916e-d552c7d63173",
   "metadata": {},
   "source": [
    "Here's what our data looks like:"
   ]
  },
  {
   "cell_type": "code",
   "execution_count": 3,
   "id": "02a3ea98-90f3-4976-aa34-5d589eb5f67e",
   "metadata": {
    "tags": []
   },
   "outputs": [
    {
     "data": {
      "text/plain": [
       "array([8, 0, 8, 0, 8, 9, 5, 8, 5, 9])"
      ]
     },
     "execution_count": 3,
     "metadata": {},
     "output_type": "execute_result"
    }
   ],
   "source": [
    "model = ModelData()\n",
    "model.x"
   ]
  },
  {
   "cell_type": "code",
   "execution_count": 4,
   "id": "f57ac9bd-e314-4ebd-972e-a07966bebbf6",
   "metadata": {
    "tags": []
   },
   "outputs": [
    {
     "data": {
      "text/plain": [
       "array([9])"
      ]
     },
     "execution_count": 4,
     "metadata": {},
     "output_type": "execute_result"
    }
   ],
   "source": [
    "model.y"
   ]
  },
  {
   "cell_type": "markdown",
   "id": "01e846eb-fda6-4bd7-ae4c-217c8e3f3d20",
   "metadata": {
    "tags": []
   },
   "source": [
    "Now we write our network.  We'll make it take the name of the class\n",
    "that will create the data so we can reuse this network with different\n",
    "variations.\n",
    "\n",
    "Some implementation details:\n",
    "\n",
    "* The network will only deal with `model.x_scaled` and `model.y_scaled`.\n",
    "* We need to initialize the matrix ${\\bf A}$&mdash;we'll use Gaussian random numbers,\n",
    "  centered on 0 with a width set to $\\sqrt{N_\\mathrm{in}}$.  This seems to be a common\n",
    "  choice.\n",
    "* We'll loop over the data in the training set in a random order (randomizing each epoch)."
   ]
  },
  {
   "cell_type": "code",
   "execution_count": 5,
   "id": "d8437e0c-28e8-4ab2-a0ac-98a2cbcb5a76",
   "metadata": {
    "tags": []
   },
   "outputs": [],
   "source": [
    "class NeuralNetwork:\n",
    "\n",
    "    def __init__(self, num_training_unique=100, data_class=None):\n",
    "        \n",
    "        self.num_training_unique = num_training_unique\n",
    "\n",
    "        self.train_set = []\n",
    "        for _ in range(self.num_training_unique):\n",
    "            self.train_set.append(data_class())\n",
    "\n",
    "        # initialize our matrix with Gaussian normal random numbers\n",
    "        # we get the size from the length of the input and output\n",
    "        model = self.train_set[0]\n",
    "        self.N_out = len(model.y_scaled)\n",
    "        self.N_in = len(model.x_scaled)\n",
    "\n",
    "        rng = np.random.default_rng()\n",
    "        self.A = rng.normal(0.0, 1.0/np.sqrt(self.N_in),\n",
    "                           (self.N_out, self.N_in))\n",
    "\n",
    "    def g(self, xi):\n",
    "        \"\"\"our sigmoid function\"\"\"\n",
    "        return 1.0/(1.0 + np.exp(-xi))\n",
    "\n",
    "    def train(self, n_epochs=10, eta=0.2):\n",
    "        \"\"\"Do the minimization for the training\"\"\"\n",
    "\n",
    "        # train\n",
    "        for _ in range(n_epochs):\n",
    "            random.shuffle(self.train_set)\n",
    "            for model in self.train_set:\n",
    "\n",
    "                # gradient descent -- just a single improvement.  eta\n",
    "                # here is our learning rate\n",
    "\n",
    "                # make these column vectors\n",
    "                x = model.x_scaled.reshape(self.N_in, 1)\n",
    "                y = model.y_scaled.reshape(self.N_out, 1)\n",
    "\n",
    "                b = self.A @ x\n",
    "                z = self.g(b)\n",
    "\n",
    "                self.A[:,:] += -eta * 2 * (z - y) * z * (1 - z) @ x.T\n",
    "\n",
    "    def predict(self, model):\n",
    "        \"\"\"predict the outcome using our trained matrix A \"\"\"\n",
    "        z = self.g(self.A @ model.x_scaled)\n",
    "        return model.interpret_result(z)\n",
    "    \n",
    "    def check_accuracy(self):\n",
    "        \"\"\"use the trained network on the training data and return\n",
    "        the fraction we get correct\"\"\"\n",
    "        \n",
    "        n_right = 0\n",
    "        for model in self.train_set:\n",
    "            y_nn = self.predict(model)\n",
    "            if y_nn == model.y:\n",
    "                n_right += 1\n",
    "        return n_right / len(self.train_set)"
   ]
  },
  {
   "cell_type": "markdown",
   "id": "73035e22-4208-4e73-97f1-3b1e7ec89417",
   "metadata": {},
   "source": [
    "Let's create the network and train it."
   ]
  },
  {
   "cell_type": "code",
   "execution_count": 6,
   "id": "2fd494f4-c09a-42c8-820c-30dce15b6e2b",
   "metadata": {
    "tags": []
   },
   "outputs": [],
   "source": [
    "nn = NeuralNetwork(num_training_unique=1000, data_class=ModelData)\n",
    "nn.train(n_epochs=100)"
   ]
  },
  {
   "cell_type": "markdown",
   "id": "1dae578d-186f-4c66-ac21-93fb8e90a995",
   "metadata": {},
   "source": [
    "We can ask the network how well it does on the data its already seen"
   ]
  },
  {
   "cell_type": "code",
   "execution_count": 7,
   "id": "263195e1-5d2a-47fe-af96-3a0ad45b65f4",
   "metadata": {
    "tags": []
   },
   "outputs": [
    {
     "name": "stdout",
     "output_type": "stream",
     "text": [
      "fraction correct: 0.101\n"
     ]
    }
   ],
   "source": [
    "frac = nn.check_accuracy()\n",
    "print(f\"fraction correct: {frac}\")"
   ]
  },
  {
   "cell_type": "markdown",
   "id": "716a351e-049d-4a02-a2d9-b83ad6656d3e",
   "metadata": {},
   "source": [
    "All that training, and it is only about 10% accurate!  Now let's check it on data its never seen"
   ]
  },
  {
   "cell_type": "code",
   "execution_count": 8,
   "id": "dbb21b5d-c6a8-484a-9aa6-cdd39db122bb",
   "metadata": {
    "tags": []
   },
   "outputs": [
    {
     "name": "stdout",
     "output_type": "stream",
     "text": [
      "fraction correct: 0.092\n"
     ]
    }
   ],
   "source": [
    "err = []\n",
    "npts = 1000\n",
    "n_right = 0\n",
    "for k in range(npts):\n",
    "    model = ModelData()\n",
    "    y_nn = nn.predict(model)\n",
    "    if y_nn == model.y:\n",
    "        n_right += 1\n",
    "    err.append(abs(y_nn - model.y))\n",
    "    \n",
    "print(f\"fraction correct: {n_right / npts}\")"
   ]
  },
  {
   "cell_type": "markdown",
   "id": "d4902675-46a0-41c2-b52a-2037b9ebe633",
   "metadata": {},
   "source": [
    "Clearly we are not doing that great.  We are getting only 10% right, which is basically random guessing.  Let's look at a single attempt"
   ]
  },
  {
   "cell_type": "code",
   "execution_count": 9,
   "id": "933a721f-6118-40c7-a8af-dd10acabc8d4",
   "metadata": {
    "tags": []
   },
   "outputs": [
    {
     "data": {
      "text/plain": [
       "array([8, 8, 0, 7, 7, 7, 2, 5, 1, 2])"
      ]
     },
     "execution_count": 9,
     "metadata": {},
     "output_type": "execute_result"
    }
   ],
   "source": [
    "model = ModelData()\n",
    "model.x"
   ]
  },
  {
   "cell_type": "code",
   "execution_count": 10,
   "id": "a6c4b984-5a4a-45ac-835c-eda0fa692b61",
   "metadata": {
    "tags": []
   },
   "outputs": [
    {
     "data": {
      "text/plain": [
       "array([2])"
      ]
     },
     "execution_count": 10,
     "metadata": {},
     "output_type": "execute_result"
    }
   ],
   "source": [
    "model.y"
   ]
  },
  {
   "cell_type": "markdown",
   "id": "5086c170-bafc-4121-9a34-01dd62591257",
   "metadata": {},
   "source": [
    "Here's what the network predicts"
   ]
  },
  {
   "cell_type": "code",
   "execution_count": 11,
   "id": "f36ba7ef-ae4d-426d-b326-9c4ba059789d",
   "metadata": {
    "tags": []
   },
   "outputs": [
    {
     "data": {
      "text/plain": [
       "1"
      ]
     },
     "execution_count": 11,
     "metadata": {},
     "output_type": "execute_result"
    }
   ],
   "source": [
    "nn.predict(model)"
   ]
  },
  {
   "cell_type": "markdown",
   "id": "52b10fe9-9ac7-4794-8aa7-70e5cf445f88",
   "metadata": {},
   "source": [
    "And here's the prediction before calling the activation function"
   ]
  },
  {
   "cell_type": "code",
   "execution_count": 12,
   "id": "0d673486-0655-4ed3-a43b-6cccb84475cd",
   "metadata": {
    "tags": []
   },
   "outputs": [
    {
     "data": {
      "text/plain": [
       "array([22.55341984])"
      ]
     },
     "execution_count": 12,
     "metadata": {},
     "output_type": "execute_result"
    }
   ],
   "source": [
    "nn.A @ model.x_scaled"
   ]
  },
  {
   "cell_type": "markdown",
   "id": "838d20e2-b7f1-4047-9302-27c0982660ca",
   "metadata": {},
   "source": [
    "Part of the problem here is that the network is return a really large number, and the sigmoid function works best when the prediction is in the region where it varies the fastest, $\\xi \\sim [-1, 1]$"
   ]
  },
  {
   "cell_type": "code",
   "execution_count": 13,
   "id": "b3557be8-77c6-400d-a215-6d6f3f2f541e",
   "metadata": {
    "tags": []
   },
   "outputs": [
    {
     "data": {
      "text/plain": [
       "array([1.])"
      ]
     },
     "execution_count": 13,
     "metadata": {},
     "output_type": "execute_result"
    }
   ],
   "source": [
    "nn.g(nn.A @ model.x_scaled)"
   ]
  },
  {
   "cell_type": "markdown",
   "id": "7ff42fdf-d476-4490-aab6-8a6441eb81af",
   "metadata": {},
   "source": [
    "Basically whatever we feed it, the signmoid will return 1 when the numbers are this large.\n",
    "We need to scale the data."
   ]
  },
  {
   "cell_type": "markdown",
   "id": "1b886295-0eba-4d49-887e-98d60609256f",
   "metadata": {},
   "source": [
    "## Scaled Data\n",
    "Let's try again, but this time, let's scale the output that we train to by 10 so it falls within $[0.05, 0.95]$.  We choose to add a small offset, $0.05$ to prevent any of the inputs from being\n",
    "$0$, which will simply cancel out any weight they multiply."
   ]
  },
  {
   "cell_type": "code",
   "execution_count": 14,
   "id": "4feef11f-d48a-47f4-9c7b-ce538236a3df",
   "metadata": {
    "tags": []
   },
   "outputs": [],
   "source": [
    "class ModelDataScaled:\n",
    "    \"\"\"this is the model data for our \"last number\" training set.  We\n",
    "    produce input of length N consisting of the numbers 0-9, and we set\n",
    "    the output to be simply the last element of the input vector.  This\n",
    "    version scales the data to lie between [0, 1]\n",
    "\n",
    "    \"\"\"    \n",
    "    def __init__(self, N=10):\n",
    "        self.N = N\n",
    "        self.offset = 0.05\n",
    "        self.scale_factor = 10\n",
    "        \n",
    "        # our model input data\n",
    "        rng = np.random.default_rng()\n",
    "        self.x = rng.integers(0, high=10, size=N)\n",
    "        self.x_scaled = self.x / self.scale_factor + self.offset\n",
    "\n",
    "        # our scaled model output data\n",
    "        self.y = np.array([self.x[-1]])\n",
    "        self.y_scaled = np.array([self.x_scaled[-1]])\n",
    "                                \n",
    "    def interpret_result(self, out):\n",
    "        \"\"\"take the network output and undo the scaling and round it.\n",
    "\n",
    "        \"\"\"\n",
    "        return max(0, min(9, int(self.scale_factor *\n",
    "                                 np.round(out / self.offset)[0] * self.offset)))"
   ]
  },
  {
   "cell_type": "code",
   "execution_count": 15,
   "id": "75cffacb-1ed9-4c70-a385-02e215adffdf",
   "metadata": {
    "tags": []
   },
   "outputs": [],
   "source": [
    "nn = NeuralNetwork(num_training_unique=1000, data_class=ModelDataScaled)\n",
    "nn.train(n_epochs=100)"
   ]
  },
  {
   "cell_type": "code",
   "execution_count": 16,
   "id": "70425800-e24c-4cb1-ae84-4a863ff4d79f",
   "metadata": {
    "tags": []
   },
   "outputs": [
    {
     "data": {
      "text/plain": [
       "0.4"
      ]
     },
     "execution_count": 16,
     "metadata": {},
     "output_type": "execute_result"
    }
   ],
   "source": [
    "nn.check_accuracy()"
   ]
  },
  {
   "cell_type": "code",
   "execution_count": 17,
   "id": "c22f027c-7761-4d47-a0a8-263839bf6750",
   "metadata": {
    "tags": []
   },
   "outputs": [
    {
     "name": "stdout",
     "output_type": "stream",
     "text": [
      "fraction correct: 0.397\n"
     ]
    }
   ],
   "source": [
    "err = []\n",
    "npts = 1000\n",
    "n_right = 0\n",
    "for k in range(npts):\n",
    "    model = ModelDataScaled()\n",
    "    y_nn = nn.predict(model)\n",
    "    if y_nn == model.y:\n",
    "        n_right += 1\n",
    "    err.append(abs(y_nn - model.y))\n",
    "    \n",
    "print(f\"fraction correct: {n_right / npts}\")"
   ]
  },
  {
   "cell_type": "markdown",
   "id": "7237a52f-34b9-4bfb-8117-72027c8dc60a",
   "metadata": {},
   "source": [
    "We seem to do a lot better now.\n",
    "\n",
    "Take a look at the trained matrix:"
   ]
  },
  {
   "cell_type": "code",
   "execution_count": 18,
   "id": "3ea1e8c8-a75a-49fb-9937-b0fc31a20fd2",
   "metadata": {
    "tags": []
   },
   "outputs": [
    {
     "data": {
      "text/plain": [
       "array([[-0.43421411, -0.48376212, -0.5688044 , -0.44472958, -0.53180749,\n",
       "        -0.54377439, -0.46749297, -0.57784019, -0.4488417 ,  4.53417679]])"
      ]
     },
     "execution_count": 18,
     "metadata": {},
     "output_type": "execute_result"
    }
   ],
   "source": [
    "nn.A"
   ]
  },
  {
   "cell_type": "markdown",
   "id": "2ccade00-8479-43a5-80f4-e418bcfeb9f6",
   "metadata": {},
   "source": [
    "Notice that by far the largest element (in magnitude) is the last one.  This makes sense, since\n",
    "we want ${\\bf A x}$ to choose the last value in ${\\bf x}$."
   ]
  },
  {
   "cell_type": "markdown",
   "id": "443cc99b-42f3-4031-b4c2-b8a9f9212fdf",
   "metadata": {},
   "source": [
    "## Categorical Data\n",
    "\n",
    "We'll finish this out by looking at a different way to represent the data.\n",
    "In the previous attempts, the network did not know that it was supposed to predict\n",
    "an integer from 0-9 and instead gives a real number that we round to the nearest\n",
    "integer in that range.\n",
    "\n",
    "We can instead treat the data as categorical, restricting it to take on only\n",
    "those values.\n",
    "\n",
    "Let's create the class first and then we'll see what the output looks like."
   ]
  },
  {
   "cell_type": "code",
   "execution_count": 19,
   "id": "069c5af4-e079-45b9-ace1-3ee77cff59a1",
   "metadata": {
    "tags": []
   },
   "outputs": [],
   "source": [
    "class ModelDataCategorical:\n",
    "    \"\"\"this is the model data for our \"last number\" training set.  We\n",
    "    produce input of length N, consisting of numbers 0-9 and store\n",
    "    the result in a 10-element array as categorical data.\n",
    "\n",
    "    \"\"\"\n",
    "    def __init__(self, N=10):\n",
    "        self.N = N\n",
    "        \n",
    "        # our model input data\n",
    "        rng = np.random.default_rng()\n",
    "        self.x = rng.integers(0, high=10, size=N)\n",
    "        self.x_scaled = self.x / 10 + 0.05\n",
    "        \n",
    "        # our scaled model output data\n",
    "        self.y = np.array([self.x[-1]])\n",
    "        self.y_scaled = np.zeros(10) + 0.01\n",
    "        self.y_scaled[self.x[-1]] = 0.99\n",
    "        \n",
    "    def interpret_result(self, out):\n",
    "        \"\"\"take the network output and return the number we predict\"\"\"\n",
    "        return np.argmax(out)"
   ]
  },
  {
   "cell_type": "markdown",
   "id": "ee3855e6-b793-4086-817e-a8390a16dd47",
   "metadata": {},
   "source": [
    "This is categorical data&mdash;the answer we are training on is a 10 element array with\n",
    "a \"1\" in the slot corresponding to the correct integer (we actually use 0.99)."
   ]
  },
  {
   "cell_type": "code",
   "execution_count": 20,
   "id": "2b1fe1b4-1071-40fe-9f6f-9a64cdf0df9f",
   "metadata": {
    "tags": []
   },
   "outputs": [
    {
     "data": {
      "text/plain": [
       "array([7, 7, 7, 3, 3, 2, 5, 1, 1, 6])"
      ]
     },
     "execution_count": 20,
     "metadata": {},
     "output_type": "execute_result"
    }
   ],
   "source": [
    "model = ModelDataCategorical()\n",
    "model.x"
   ]
  },
  {
   "cell_type": "code",
   "execution_count": 21,
   "id": "51daabc7-52ef-41fe-82ca-386263fee176",
   "metadata": {
    "tags": []
   },
   "outputs": [
    {
     "data": {
      "text/plain": [
       "array([0.01, 0.01, 0.01, 0.01, 0.01, 0.01, 0.99, 0.01, 0.01, 0.01])"
      ]
     },
     "execution_count": 21,
     "metadata": {},
     "output_type": "execute_result"
    }
   ],
   "source": [
    "model.y_scaled"
   ]
  },
  {
   "cell_type": "code",
   "execution_count": 22,
   "id": "eb29d148-5eec-438a-9035-0e708d0d5042",
   "metadata": {
    "tags": []
   },
   "outputs": [
    {
     "data": {
      "text/plain": [
       "array([6])"
      ]
     },
     "execution_count": 22,
     "metadata": {},
     "output_type": "execute_result"
    }
   ],
   "source": [
    "model.y"
   ]
  },
  {
   "cell_type": "markdown",
   "id": "f4004d77-afea-46ef-bf4e-1e3b67728c70",
   "metadata": {
    "tags": []
   },
   "source": [
    "We see that `model.y_scaled[model.y] = 0.99`.  We will pick as the correct answer\n",
    "the array index that has the highest value.  \n",
    "\n",
    "One additional benefit of this\n",
    "is that our matrix $A$ will now be $10\\times 10$, so there are more weights to train."
   ]
  },
  {
   "cell_type": "code",
   "execution_count": 23,
   "id": "8a40dc9c-3f4f-4a24-b724-e96c803bb4f1",
   "metadata": {
    "tags": []
   },
   "outputs": [],
   "source": [
    "nn = NeuralNetwork(num_training_unique=1000, data_class=ModelDataCategorical)\n",
    "nn.train(n_epochs=100)"
   ]
  },
  {
   "cell_type": "code",
   "execution_count": 24,
   "id": "48967456-3db5-454d-af3c-9153f20ce85e",
   "metadata": {
    "tags": []
   },
   "outputs": [
    {
     "data": {
      "text/plain": [
       "0.408"
      ]
     },
     "execution_count": 24,
     "metadata": {},
     "output_type": "execute_result"
    }
   ],
   "source": [
    "nn.check_accuracy()"
   ]
  },
  {
   "cell_type": "code",
   "execution_count": 25,
   "id": "34d9d57d-d5ed-4cd4-9360-e554cbfcb763",
   "metadata": {
    "tags": []
   },
   "outputs": [
    {
     "name": "stdout",
     "output_type": "stream",
     "text": [
      "fraction correct: 0.351\n"
     ]
    }
   ],
   "source": [
    "err = []\n",
    "npts = 1000\n",
    "n_right = 0\n",
    "for k in range(npts):\n",
    "    model = ModelDataCategorical()\n",
    "    y_nn = nn.predict(model)\n",
    "    if y_nn == model.y:\n",
    "        n_right += 1\n",
    "    err.append(abs(y_nn - model.y))\n",
    "    \n",
    "print(f\"fraction correct: {n_right / npts}\")"
   ]
  },
  {
   "cell_type": "markdown",
   "id": "4432ab5e-a673-4043-a155-a35352efaa17",
   "metadata": {},
   "source": [
    "This network seems to do well&mdash;we can get ~ 1/3rd of the\n",
    "new data correct.  It helps that there are a lot more connections\n",
    "that we can train.  We note however that the sigmoid function is not the\n",
    "best choice for categorical data."
   ]
  },
  {
   "cell_type": "markdown",
   "id": "0cecf4e7-a8b9-48a0-acf6-1c934cfd4c26",
   "metadata": {},
   "source": [
    "## Explorations\n",
    "\n",
    "There are several parameters that we can play with:\n",
    "\n",
    "* Size of the training data set\n",
    "* Number of epochs\n",
    "* Value of the learning rate, $\\eta$\n",
    "\n",
    "Try playing with these and see how the accuacy changes."
   ]
  }
 ],
 "metadata": {
  "kernelspec": {
   "display_name": "Python 3 (ipykernel)",
   "language": "python",
   "name": "python3"
  },
  "language_info": {
   "codemirror_mode": {
    "name": "ipython",
    "version": 3
   },
   "file_extension": ".py",
   "mimetype": "text/x-python",
   "name": "python",
   "nbconvert_exporter": "python",
   "pygments_lexer": "ipython3",
   "version": "3.13.3"
  }
 },
 "nbformat": 4,
 "nbformat_minor": 5
}
