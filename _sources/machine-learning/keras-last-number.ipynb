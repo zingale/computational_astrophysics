{
 "cells": [
  {
   "cell_type": "markdown",
   "id": "a9958ed4-cc30-4e40-8e51-2db365edbc11",
   "metadata": {},
   "source": [
    "# Keras and the Last Number Problem"
   ]
  },
  {
   "cell_type": "markdown",
   "id": "d96e11b2-29ef-4e7c-a8d1-16937c2954d5",
   "metadata": {},
   "source": [
    "Let's see if we can do better than our simple hidden layer NN with the last number problem."
   ]
  },
  {
   "cell_type": "code",
   "execution_count": 1,
   "id": "0beb822d-dcbe-494a-81c2-579ecc6b840d",
   "metadata": {
    "tags": []
   },
   "outputs": [],
   "source": [
    "import numpy as np\n",
    "import keras\n",
    "from keras.utils import to_categorical"
   ]
  },
  {
   "cell_type": "markdown",
   "id": "6df024e2-b227-4c3f-b8e9-f00ffa647b51",
   "metadata": {},
   "source": [
    "We'll use the same data class"
   ]
  },
  {
   "cell_type": "code",
   "execution_count": 2,
   "id": "ae8a672e-e66f-4d28-bf57-be65e53b5681",
   "metadata": {
    "tags": []
   },
   "outputs": [],
   "source": [
    "class ModelDataCategorical:\n",
    "    \"\"\"this is the model data for our \"last number\" training set.  We\n",
    "    produce input of length N, consisting of numbers 0-9 and store\n",
    "    the result in a 10-element array as categorical data.\n",
    "\n",
    "    \"\"\"\n",
    "    def __init__(self, N=10):\n",
    "        self.N = N\n",
    "        \n",
    "        # our model input data\n",
    "        self.x = np.random.randint(0, high=10, size=N)\n",
    "        self.x_scaled = self.x / 10 + 0.05\n",
    "        \n",
    "        # our scaled model output data\n",
    "        self.y = np.array([self.x[-1]])\n",
    "        self.y_scaled = np.zeros(10) + 0.01\n",
    "        self.y_scaled[self.x[-1]] = 0.99\n",
    "        \n",
    "    def interpret_result(self, out):\n",
    "        \"\"\"take the network output and return the number we predict\"\"\"\n",
    "        return np.argmax(out)"
   ]
  },
  {
   "cell_type": "markdown",
   "id": "8a064ed3-c261-4c32-828c-915ac4a7ab77",
   "metadata": {},
   "source": [
    "For Keras, we need to pack the scaled data (both input and output) into arrays.  We'll use\n",
    "the Keras `to_categorical()` to make the data categorical.\n",
    "\n",
    "Let's make both a training set and a test set"
   ]
  },
  {
   "cell_type": "code",
   "execution_count": 3,
   "id": "aefd922f-ed63-41bd-89e1-1bd5c8669f6b",
   "metadata": {
    "tags": []
   },
   "outputs": [],
   "source": [
    "x_train = []\n",
    "y_train = []\n",
    "for _ in range(10000):\n",
    "    m = ModelDataCategorical()\n",
    "    x_train.append(m.x_scaled)\n",
    "    y_train.append(m.y)\n",
    "\n",
    "x_train = np.asarray(x_train)\n",
    "y_train = to_categorical(y_train, 10)"
   ]
  },
  {
   "cell_type": "code",
   "execution_count": 4,
   "id": "482c6cba-206c-4a60-9872-1dc49d51e46c",
   "metadata": {
    "tags": []
   },
   "outputs": [],
   "source": [
    "x_test = []\n",
    "y_test = []\n",
    "for _ in range(1000):\n",
    "    m = ModelDataCategorical()\n",
    "    x_test.append(m.x_scaled)\n",
    "    y_test.append(m.y)\n",
    "\n",
    "x_test = np.asarray(x_test)\n",
    "y_test = to_categorical(y_test, 10)"
   ]
  },
  {
   "cell_type": "markdown",
   "id": "d10ad009-e74d-4b64-b107-6220d2ea5c20",
   "metadata": {
    "tags": []
   },
   "source": [
    "Check to make sure the data looks like we expect:"
   ]
  },
  {
   "cell_type": "code",
   "execution_count": 5,
   "id": "f7275c7d-fd21-4d66-9d2e-9f68ae8acb01",
   "metadata": {
    "tags": []
   },
   "outputs": [
    {
     "data": {
      "text/plain": [
       "array([0.05, 0.75, 0.65, 0.65, 0.75, 0.05, 0.85, 0.15, 0.25, 0.35])"
      ]
     },
     "execution_count": 5,
     "metadata": {},
     "output_type": "execute_result"
    }
   ],
   "source": [
    "x_train[0]"
   ]
  },
  {
   "cell_type": "code",
   "execution_count": 6,
   "id": "c522238f-bf07-46d6-a443-0b44de7e0205",
   "metadata": {
    "tags": []
   },
   "outputs": [
    {
     "data": {
      "text/plain": [
       "array([0., 0., 0., 1., 0., 0., 0., 0., 0., 0.])"
      ]
     },
     "execution_count": 6,
     "metadata": {},
     "output_type": "execute_result"
    }
   ],
   "source": [
    "y_train[0]"
   ]
  },
  {
   "cell_type": "markdown",
   "id": "442c5ab8-346c-433b-90a7-35d477434c61",
   "metadata": {},
   "source": [
    "## Creating the network"
   ]
  },
  {
   "cell_type": "markdown",
   "id": "8fcda8ac-1c6a-4dd4-a70f-1cb15da674ed",
   "metadata": {},
   "source": [
    "Now let's build our network.  We'll use just a single hidden layer,\n",
    "but instead of the sigmoid used before, we'll use RELU and the softmax activations."
   ]
  },
  {
   "cell_type": "code",
   "execution_count": 7,
   "id": "b470d81d-45a5-4cbf-88d5-127c65863609",
   "metadata": {
    "tags": []
   },
   "outputs": [],
   "source": [
    "from keras.models import Sequential\n",
    "from keras.layers import Input, Dense, Dropout, Activation\n",
    "from keras.optimizers import RMSprop"
   ]
  },
  {
   "cell_type": "code",
   "execution_count": 8,
   "id": "a8e9000e-1fb2-4093-aad7-a1e08a4ae34f",
   "metadata": {
    "tags": []
   },
   "outputs": [],
   "source": [
    "model = Sequential()\n",
    "model.add(Input((10,)))\n",
    "model.add(Dense(100, activation=\"relu\"))\n",
    "model.add(Dropout(0.1))\n",
    "model.add(Dense(10, activation=\"softmax\"))"
   ]
  },
  {
   "cell_type": "code",
   "execution_count": 9,
   "id": "f05f856d-1770-4853-bc98-6e3f3b5c209d",
   "metadata": {
    "tags": []
   },
   "outputs": [],
   "source": [
    "rms = RMSprop()\n",
    "model.compile(loss='categorical_crossentropy',\n",
    "              optimizer=rms, metrics=['accuracy'])"
   ]
  },
  {
   "cell_type": "code",
   "execution_count": 10,
   "id": "2ff61361-efad-4fa3-ab01-be615457b862",
   "metadata": {},
   "outputs": [
    {
     "data": {
      "text/html": [
       "<pre style=\"white-space:pre;overflow-x:auto;line-height:normal;font-family:Menlo,'DejaVu Sans Mono',consolas,'Courier New',monospace\"><span style=\"font-weight: bold\">Model: \"sequential\"</span>\n",
       "</pre>\n"
      ],
      "text/plain": [
       "\u001b[1mModel: \"sequential\"\u001b[0m\n"
      ]
     },
     "metadata": {},
     "output_type": "display_data"
    },
    {
     "data": {
      "text/html": [
       "<pre style=\"white-space:pre;overflow-x:auto;line-height:normal;font-family:Menlo,'DejaVu Sans Mono',consolas,'Courier New',monospace\">┏━━━━━━━━━━━━━━━━━━━━━━━━━━━━━━━━━┳━━━━━━━━━━━━━━━━━━━━━━━━┳━━━━━━━━━━━━━━━┓\n",
       "┃<span style=\"font-weight: bold\"> Layer (type)                    </span>┃<span style=\"font-weight: bold\"> Output Shape           </span>┃<span style=\"font-weight: bold\">       Param # </span>┃\n",
       "┡━━━━━━━━━━━━━━━━━━━━━━━━━━━━━━━━━╇━━━━━━━━━━━━━━━━━━━━━━━━╇━━━━━━━━━━━━━━━┩\n",
       "│ dense (<span style=\"color: #0087ff; text-decoration-color: #0087ff\">Dense</span>)                   │ (<span style=\"color: #00d7ff; text-decoration-color: #00d7ff\">None</span>, <span style=\"color: #00af00; text-decoration-color: #00af00\">100</span>)            │         <span style=\"color: #00af00; text-decoration-color: #00af00\">1,100</span> │\n",
       "├─────────────────────────────────┼────────────────────────┼───────────────┤\n",
       "│ dropout (<span style=\"color: #0087ff; text-decoration-color: #0087ff\">Dropout</span>)               │ (<span style=\"color: #00d7ff; text-decoration-color: #00d7ff\">None</span>, <span style=\"color: #00af00; text-decoration-color: #00af00\">100</span>)            │             <span style=\"color: #00af00; text-decoration-color: #00af00\">0</span> │\n",
       "├─────────────────────────────────┼────────────────────────┼───────────────┤\n",
       "│ dense_1 (<span style=\"color: #0087ff; text-decoration-color: #0087ff\">Dense</span>)                 │ (<span style=\"color: #00d7ff; text-decoration-color: #00d7ff\">None</span>, <span style=\"color: #00af00; text-decoration-color: #00af00\">10</span>)             │         <span style=\"color: #00af00; text-decoration-color: #00af00\">1,010</span> │\n",
       "└─────────────────────────────────┴────────────────────────┴───────────────┘\n",
       "</pre>\n"
      ],
      "text/plain": [
       "┏━━━━━━━━━━━━━━━━━━━━━━━━━━━━━━━━━┳━━━━━━━━━━━━━━━━━━━━━━━━┳━━━━━━━━━━━━━━━┓\n",
       "┃\u001b[1m \u001b[0m\u001b[1mLayer (type)                   \u001b[0m\u001b[1m \u001b[0m┃\u001b[1m \u001b[0m\u001b[1mOutput Shape          \u001b[0m\u001b[1m \u001b[0m┃\u001b[1m \u001b[0m\u001b[1m      Param #\u001b[0m\u001b[1m \u001b[0m┃\n",
       "┡━━━━━━━━━━━━━━━━━━━━━━━━━━━━━━━━━╇━━━━━━━━━━━━━━━━━━━━━━━━╇━━━━━━━━━━━━━━━┩\n",
       "│ dense (\u001b[38;5;33mDense\u001b[0m)                   │ (\u001b[38;5;45mNone\u001b[0m, \u001b[38;5;34m100\u001b[0m)            │         \u001b[38;5;34m1,100\u001b[0m │\n",
       "├─────────────────────────────────┼────────────────────────┼───────────────┤\n",
       "│ dropout (\u001b[38;5;33mDropout\u001b[0m)               │ (\u001b[38;5;45mNone\u001b[0m, \u001b[38;5;34m100\u001b[0m)            │             \u001b[38;5;34m0\u001b[0m │\n",
       "├─────────────────────────────────┼────────────────────────┼───────────────┤\n",
       "│ dense_1 (\u001b[38;5;33mDense\u001b[0m)                 │ (\u001b[38;5;45mNone\u001b[0m, \u001b[38;5;34m10\u001b[0m)             │         \u001b[38;5;34m1,010\u001b[0m │\n",
       "└─────────────────────────────────┴────────────────────────┴───────────────┘\n"
      ]
     },
     "metadata": {},
     "output_type": "display_data"
    },
    {
     "data": {
      "text/html": [
       "<pre style=\"white-space:pre;overflow-x:auto;line-height:normal;font-family:Menlo,'DejaVu Sans Mono',consolas,'Courier New',monospace\"><span style=\"font-weight: bold\"> Total params: </span><span style=\"color: #00af00; text-decoration-color: #00af00\">2,110</span> (8.24 KB)\n",
       "</pre>\n"
      ],
      "text/plain": [
       "\u001b[1m Total params: \u001b[0m\u001b[38;5;34m2,110\u001b[0m (8.24 KB)\n"
      ]
     },
     "metadata": {},
     "output_type": "display_data"
    },
    {
     "data": {
      "text/html": [
       "<pre style=\"white-space:pre;overflow-x:auto;line-height:normal;font-family:Menlo,'DejaVu Sans Mono',consolas,'Courier New',monospace\"><span style=\"font-weight: bold\"> Trainable params: </span><span style=\"color: #00af00; text-decoration-color: #00af00\">2,110</span> (8.24 KB)\n",
       "</pre>\n"
      ],
      "text/plain": [
       "\u001b[1m Trainable params: \u001b[0m\u001b[38;5;34m2,110\u001b[0m (8.24 KB)\n"
      ]
     },
     "metadata": {},
     "output_type": "display_data"
    },
    {
     "data": {
      "text/html": [
       "<pre style=\"white-space:pre;overflow-x:auto;line-height:normal;font-family:Menlo,'DejaVu Sans Mono',consolas,'Courier New',monospace\"><span style=\"font-weight: bold\"> Non-trainable params: </span><span style=\"color: #00af00; text-decoration-color: #00af00\">0</span> (0.00 B)\n",
       "</pre>\n"
      ],
      "text/plain": [
       "\u001b[1m Non-trainable params: \u001b[0m\u001b[38;5;34m0\u001b[0m (0.00 B)\n"
      ]
     },
     "metadata": {},
     "output_type": "display_data"
    }
   ],
   "source": [
    "model.summary()"
   ]
  },
  {
   "cell_type": "markdown",
   "id": "e90de379-a294-419b-9083-bba4baab56ae",
   "metadata": {},
   "source": [
    "Now we have ~ 2k parameters to fit."
   ]
  },
  {
   "cell_type": "markdown",
   "id": "8af28d28-5706-4cab-8e99-4422ae4b479e",
   "metadata": {},
   "source": [
    "## Training"
   ]
  },
  {
   "cell_type": "markdown",
   "id": "5112c759-538d-4ecf-8760-57cf54d082e1",
   "metadata": {
    "tags": []
   },
   "source": [
    "Now we can train and test each epoch to see how we do"
   ]
  },
  {
   "cell_type": "code",
   "execution_count": 12,
   "id": "260e8b58-513f-40d3-8b57-9f9760d520e6",
   "metadata": {
    "tags": []
   },
   "outputs": [
    {
     "name": "stdout",
     "output_type": "stream",
     "text": [
      "Epoch 1/100\n",
      "40/40 - 0s - 3ms/step - accuracy: 0.1458 - loss: 2.2630 - val_accuracy: 0.1860 - val_loss: 2.2113\n",
      "Epoch 2/100\n",
      "40/40 - 0s - 3ms/step - accuracy: 0.2157 - loss: 2.1672 - val_accuracy: 0.2460 - val_loss: 2.1179\n",
      "Epoch 3/100\n",
      "40/40 - 0s - 3ms/step - accuracy: 0.2433 - loss: 2.0759 - val_accuracy: 0.2300 - val_loss: 2.0287\n",
      "Epoch 4/100\n",
      "40/40 - 0s - 2ms/step - accuracy: 0.2671 - loss: 1.9830 - val_accuracy: 0.2830 - val_loss: 1.9368\n",
      "Epoch 5/100\n",
      "40/40 - 0s - 3ms/step - accuracy: 0.2952 - loss: 1.8963 - val_accuracy: 0.3440 - val_loss: 1.8522\n",
      "Epoch 6/100\n",
      "40/40 - 0s - 3ms/step - accuracy: 0.3291 - loss: 1.8136 - val_accuracy: 0.4000 - val_loss: 1.7643\n",
      "Epoch 7/100\n",
      "40/40 - 0s - 3ms/step - accuracy: 0.3673 - loss: 1.7360 - val_accuracy: 0.3930 - val_loss: 1.6923\n",
      "Epoch 8/100\n",
      "40/40 - 0s - 3ms/step - accuracy: 0.3915 - loss: 1.6675 - val_accuracy: 0.3880 - val_loss: 1.6324\n",
      "Epoch 9/100\n",
      "40/40 - 0s - 2ms/step - accuracy: 0.4148 - loss: 1.6010 - val_accuracy: 0.4610 - val_loss: 1.5578\n",
      "Epoch 10/100\n",
      "40/40 - 0s - 3ms/step - accuracy: 0.4335 - loss: 1.5423 - val_accuracy: 0.5430 - val_loss: 1.5060\n",
      "Epoch 11/100\n",
      "40/40 - 0s - 3ms/step - accuracy: 0.4662 - loss: 1.4868 - val_accuracy: 0.6030 - val_loss: 1.4406\n",
      "Epoch 12/100\n",
      "40/40 - 0s - 2ms/step - accuracy: 0.4818 - loss: 1.4342 - val_accuracy: 0.6010 - val_loss: 1.3869\n",
      "Epoch 13/100\n",
      "40/40 - 0s - 2ms/step - accuracy: 0.5008 - loss: 1.3879 - val_accuracy: 0.5440 - val_loss: 1.3542\n",
      "Epoch 14/100\n",
      "40/40 - 0s - 2ms/step - accuracy: 0.5220 - loss: 1.3412 - val_accuracy: 0.6370 - val_loss: 1.2937\n",
      "Epoch 15/100\n",
      "40/40 - 0s - 2ms/step - accuracy: 0.5429 - loss: 1.3013 - val_accuracy: 0.6640 - val_loss: 1.2558\n",
      "Epoch 16/100\n",
      "40/40 - 0s - 2ms/step - accuracy: 0.5660 - loss: 1.2625 - val_accuracy: 0.5920 - val_loss: 1.2157\n",
      "Epoch 17/100\n",
      "40/40 - 0s - 2ms/step - accuracy: 0.5780 - loss: 1.2263 - val_accuracy: 0.6800 - val_loss: 1.1888\n",
      "Epoch 18/100\n",
      "40/40 - 0s - 3ms/step - accuracy: 0.6043 - loss: 1.1898 - val_accuracy: 0.7240 - val_loss: 1.1490\n",
      "Epoch 19/100\n",
      "40/40 - 0s - 2ms/step - accuracy: 0.6216 - loss: 1.1545 - val_accuracy: 0.7170 - val_loss: 1.1220\n",
      "Epoch 20/100\n",
      "40/40 - 0s - 3ms/step - accuracy: 0.6326 - loss: 1.1237 - val_accuracy: 0.7510 - val_loss: 1.0753\n",
      "Epoch 21/100\n",
      "40/40 - 0s - 2ms/step - accuracy: 0.6530 - loss: 1.0919 - val_accuracy: 0.7460 - val_loss: 1.0579\n",
      "Epoch 22/100\n",
      "40/40 - 0s - 2ms/step - accuracy: 0.6713 - loss: 1.0631 - val_accuracy: 0.7650 - val_loss: 1.0205\n",
      "Epoch 23/100\n",
      "40/40 - 0s - 2ms/step - accuracy: 0.6858 - loss: 1.0352 - val_accuracy: 0.7590 - val_loss: 0.9928\n",
      "Epoch 24/100\n",
      "40/40 - 0s - 2ms/step - accuracy: 0.7051 - loss: 1.0074 - val_accuracy: 0.7540 - val_loss: 0.9738\n",
      "Epoch 25/100\n",
      "40/40 - 0s - 2ms/step - accuracy: 0.7163 - loss: 0.9820 - val_accuracy: 0.7680 - val_loss: 0.9484\n",
      "Epoch 26/100\n",
      "40/40 - 0s - 2ms/step - accuracy: 0.7373 - loss: 0.9582 - val_accuracy: 0.8370 - val_loss: 0.9159\n",
      "Epoch 27/100\n",
      "40/40 - 0s - 2ms/step - accuracy: 0.7443 - loss: 0.9384 - val_accuracy: 0.8400 - val_loss: 0.8950\n",
      "Epoch 28/100\n",
      "40/40 - 0s - 2ms/step - accuracy: 0.7705 - loss: 0.9097 - val_accuracy: 0.8500 - val_loss: 0.8713\n",
      "Epoch 29/100\n",
      "40/40 - 0s - 3ms/step - accuracy: 0.7831 - loss: 0.8866 - val_accuracy: 0.8960 - val_loss: 0.8495\n",
      "Epoch 30/100\n",
      "40/40 - 0s - 2ms/step - accuracy: 0.7975 - loss: 0.8633 - val_accuracy: 0.9250 - val_loss: 0.8271\n",
      "Epoch 31/100\n",
      "40/40 - 0s - 2ms/step - accuracy: 0.8131 - loss: 0.8411 - val_accuracy: 0.9200 - val_loss: 0.8029\n",
      "Epoch 32/100\n",
      "40/40 - 0s - 2ms/step - accuracy: 0.8242 - loss: 0.8183 - val_accuracy: 0.8180 - val_loss: 0.8017\n",
      "Epoch 33/100\n",
      "40/40 - 0s - 3ms/step - accuracy: 0.8352 - loss: 0.7987 - val_accuracy: 0.9370 - val_loss: 0.7587\n",
      "Epoch 34/100\n",
      "40/40 - 0s - 2ms/step - accuracy: 0.8543 - loss: 0.7775 - val_accuracy: 0.9380 - val_loss: 0.7336\n",
      "Epoch 35/100\n",
      "40/40 - 0s - 2ms/step - accuracy: 0.8621 - loss: 0.7586 - val_accuracy: 0.9260 - val_loss: 0.7133\n",
      "Epoch 36/100\n",
      "40/40 - 0s - 2ms/step - accuracy: 0.8757 - loss: 0.7398 - val_accuracy: 0.9340 - val_loss: 0.7145\n",
      "Epoch 37/100\n",
      "40/40 - 0s - 3ms/step - accuracy: 0.8889 - loss: 0.7182 - val_accuracy: 0.9760 - val_loss: 0.6801\n",
      "Epoch 38/100\n",
      "40/40 - 0s - 3ms/step - accuracy: 0.9022 - loss: 0.6990 - val_accuracy: 0.9550 - val_loss: 0.6680\n",
      "Epoch 39/100\n",
      "40/40 - 0s - 2ms/step - accuracy: 0.9101 - loss: 0.6811 - val_accuracy: 0.9750 - val_loss: 0.6454\n",
      "Epoch 40/100\n",
      "40/40 - 0s - 3ms/step - accuracy: 0.9209 - loss: 0.6619 - val_accuracy: 0.9580 - val_loss: 0.6379\n",
      "Epoch 41/100\n",
      "40/40 - 0s - 3ms/step - accuracy: 0.9241 - loss: 0.6467 - val_accuracy: 0.9740 - val_loss: 0.6083\n",
      "Epoch 42/100\n",
      "40/40 - 0s - 3ms/step - accuracy: 0.9384 - loss: 0.6246 - val_accuracy: 0.9800 - val_loss: 0.5977\n",
      "Epoch 43/100\n",
      "40/40 - 0s - 2ms/step - accuracy: 0.9434 - loss: 0.6087 - val_accuracy: 0.9850 - val_loss: 0.5747\n",
      "Epoch 44/100\n",
      "40/40 - 0s - 2ms/step - accuracy: 0.9490 - loss: 0.5937 - val_accuracy: 0.9760 - val_loss: 0.5668\n",
      "Epoch 45/100\n",
      "40/40 - 0s - 3ms/step - accuracy: 0.9564 - loss: 0.5772 - val_accuracy: 0.9980 - val_loss: 0.5390\n",
      "Epoch 46/100\n",
      "40/40 - 0s - 3ms/step - accuracy: 0.9665 - loss: 0.5591 - val_accuracy: 0.9970 - val_loss: 0.5272\n",
      "Epoch 47/100\n",
      "40/40 - 0s - 2ms/step - accuracy: 0.9658 - loss: 0.5461 - val_accuracy: 0.9950 - val_loss: 0.5257\n",
      "Epoch 48/100\n",
      "40/40 - 0s - 3ms/step - accuracy: 0.9730 - loss: 0.5264 - val_accuracy: 1.0000 - val_loss: 0.5026\n",
      "Epoch 49/100\n",
      "40/40 - 0s - 3ms/step - accuracy: 0.9758 - loss: 0.5126 - val_accuracy: 1.0000 - val_loss: 0.4818\n",
      "Epoch 50/100\n",
      "40/40 - 0s - 3ms/step - accuracy: 0.9756 - loss: 0.4972 - val_accuracy: 0.9990 - val_loss: 0.4642\n",
      "Epoch 51/100\n",
      "40/40 - 0s - 3ms/step - accuracy: 0.9820 - loss: 0.4845 - val_accuracy: 1.0000 - val_loss: 0.4514\n",
      "Epoch 52/100\n",
      "40/40 - 0s - 3ms/step - accuracy: 0.9810 - loss: 0.4689 - val_accuracy: 0.9900 - val_loss: 0.4579\n",
      "Epoch 53/100\n",
      "40/40 - 0s - 3ms/step - accuracy: 0.9813 - loss: 0.4552 - val_accuracy: 1.0000 - val_loss: 0.4321\n",
      "Epoch 54/100\n",
      "40/40 - 0s - 2ms/step - accuracy: 0.9846 - loss: 0.4425 - val_accuracy: 1.0000 - val_loss: 0.4250\n",
      "Epoch 55/100\n",
      "40/40 - 0s - 3ms/step - accuracy: 0.9880 - loss: 0.4252 - val_accuracy: 1.0000 - val_loss: 0.4042\n",
      "Epoch 56/100\n",
      "40/40 - 0s - 3ms/step - accuracy: 0.9873 - loss: 0.4140 - val_accuracy: 1.0000 - val_loss: 0.3930\n",
      "Epoch 57/100\n",
      "40/40 - 0s - 3ms/step - accuracy: 0.9885 - loss: 0.4018 - val_accuracy: 0.9990 - val_loss: 0.3777\n",
      "Epoch 58/100\n",
      "40/40 - 0s - 3ms/step - accuracy: 0.9914 - loss: 0.3893 - val_accuracy: 1.0000 - val_loss: 0.3653\n",
      "Epoch 59/100\n",
      "40/40 - 0s - 3ms/step - accuracy: 0.9911 - loss: 0.3773 - val_accuracy: 1.0000 - val_loss: 0.3545\n",
      "Epoch 60/100\n",
      "40/40 - 0s - 3ms/step - accuracy: 0.9919 - loss: 0.3653 - val_accuracy: 1.0000 - val_loss: 0.3426\n",
      "Epoch 61/100\n",
      "40/40 - 0s - 3ms/step - accuracy: 0.9918 - loss: 0.3552 - val_accuracy: 1.0000 - val_loss: 0.3374\n",
      "Epoch 62/100\n",
      "40/40 - 0s - 3ms/step - accuracy: 0.9937 - loss: 0.3441 - val_accuracy: 1.0000 - val_loss: 0.3208\n",
      "Epoch 63/100\n",
      "40/40 - 0s - 3ms/step - accuracy: 0.9933 - loss: 0.3322 - val_accuracy: 1.0000 - val_loss: 0.3057\n",
      "Epoch 64/100\n",
      "40/40 - 0s - 3ms/step - accuracy: 0.9945 - loss: 0.3210 - val_accuracy: 1.0000 - val_loss: 0.2925\n",
      "Epoch 65/100\n",
      "40/40 - 0s - 3ms/step - accuracy: 0.9952 - loss: 0.3108 - val_accuracy: 1.0000 - val_loss: 0.2866\n",
      "Epoch 66/100\n",
      "40/40 - 0s - 3ms/step - accuracy: 0.9949 - loss: 0.2996 - val_accuracy: 1.0000 - val_loss: 0.2817\n",
      "Epoch 67/100\n",
      "40/40 - 0s - 3ms/step - accuracy: 0.9952 - loss: 0.2912 - val_accuracy: 1.0000 - val_loss: 0.2612\n",
      "Epoch 68/100\n",
      "40/40 - 0s - 3ms/step - accuracy: 0.9966 - loss: 0.2805 - val_accuracy: 1.0000 - val_loss: 0.2578\n",
      "Epoch 69/100\n",
      "40/40 - 0s - 3ms/step - accuracy: 0.9963 - loss: 0.2718 - val_accuracy: 1.0000 - val_loss: 0.2456\n",
      "Epoch 70/100\n",
      "40/40 - 0s - 3ms/step - accuracy: 0.9966 - loss: 0.2615 - val_accuracy: 1.0000 - val_loss: 0.2475\n",
      "Epoch 71/100\n",
      "40/40 - 0s - 3ms/step - accuracy: 0.9964 - loss: 0.2528 - val_accuracy: 1.0000 - val_loss: 0.2288\n",
      "Epoch 72/100\n",
      "40/40 - 0s - 3ms/step - accuracy: 0.9972 - loss: 0.2442 - val_accuracy: 1.0000 - val_loss: 0.2218\n",
      "Epoch 73/100\n",
      "40/40 - 0s - 3ms/step - accuracy: 0.9980 - loss: 0.2359 - val_accuracy: 1.0000 - val_loss: 0.2120\n",
      "Epoch 74/100\n",
      "40/40 - 0s - 3ms/step - accuracy: 0.9969 - loss: 0.2282 - val_accuracy: 1.0000 - val_loss: 0.2022\n",
      "Epoch 75/100\n",
      "40/40 - 0s - 3ms/step - accuracy: 0.9972 - loss: 0.2205 - val_accuracy: 1.0000 - val_loss: 0.1946\n",
      "Epoch 76/100\n",
      "40/40 - 0s - 3ms/step - accuracy: 0.9977 - loss: 0.2127 - val_accuracy: 1.0000 - val_loss: 0.1905\n",
      "Epoch 77/100\n",
      "40/40 - 0s - 3ms/step - accuracy: 0.9967 - loss: 0.2063 - val_accuracy: 1.0000 - val_loss: 0.1832\n",
      "Epoch 78/100\n",
      "40/40 - 0s - 3ms/step - accuracy: 0.9978 - loss: 0.1975 - val_accuracy: 1.0000 - val_loss: 0.1749\n",
      "Epoch 79/100\n",
      "40/40 - 0s - 3ms/step - accuracy: 0.9977 - loss: 0.1898 - val_accuracy: 1.0000 - val_loss: 0.1700\n",
      "Epoch 80/100\n",
      "40/40 - 0s - 3ms/step - accuracy: 0.9980 - loss: 0.1834 - val_accuracy: 1.0000 - val_loss: 0.1637\n",
      "Epoch 81/100\n",
      "40/40 - 0s - 3ms/step - accuracy: 0.9987 - loss: 0.1779 - val_accuracy: 1.0000 - val_loss: 0.1560\n",
      "Epoch 82/100\n",
      "40/40 - 0s - 3ms/step - accuracy: 0.9984 - loss: 0.1713 - val_accuracy: 1.0000 - val_loss: 0.1491\n",
      "Epoch 83/100\n",
      "40/40 - 0s - 3ms/step - accuracy: 0.9987 - loss: 0.1653 - val_accuracy: 1.0000 - val_loss: 0.1487\n",
      "Epoch 84/100\n",
      "40/40 - 0s - 3ms/step - accuracy: 0.9987 - loss: 0.1585 - val_accuracy: 1.0000 - val_loss: 0.1383\n",
      "Epoch 85/100\n",
      "40/40 - 0s - 3ms/step - accuracy: 0.9990 - loss: 0.1535 - val_accuracy: 1.0000 - val_loss: 0.1389\n",
      "Epoch 86/100\n",
      "40/40 - 0s - 3ms/step - accuracy: 0.9988 - loss: 0.1477 - val_accuracy: 1.0000 - val_loss: 0.1247\n",
      "Epoch 87/100\n",
      "40/40 - 0s - 3ms/step - accuracy: 0.9978 - loss: 0.1443 - val_accuracy: 1.0000 - val_loss: 0.1235\n",
      "Epoch 88/100\n",
      "40/40 - 0s - 3ms/step - accuracy: 0.9981 - loss: 0.1380 - val_accuracy: 1.0000 - val_loss: 0.1155\n",
      "Epoch 89/100\n",
      "40/40 - 0s - 3ms/step - accuracy: 0.9983 - loss: 0.1327 - val_accuracy: 1.0000 - val_loss: 0.1173\n",
      "Epoch 90/100\n",
      "40/40 - 0s - 3ms/step - accuracy: 0.9987 - loss: 0.1274 - val_accuracy: 1.0000 - val_loss: 0.1074\n",
      "Epoch 91/100\n",
      "40/40 - 0s - 3ms/step - accuracy: 0.9992 - loss: 0.1227 - val_accuracy: 1.0000 - val_loss: 0.1048\n",
      "Epoch 92/100\n",
      "40/40 - 0s - 3ms/step - accuracy: 0.9988 - loss: 0.1182 - val_accuracy: 1.0000 - val_loss: 0.0988\n",
      "Epoch 93/100\n",
      "40/40 - 0s - 3ms/step - accuracy: 0.9989 - loss: 0.1135 - val_accuracy: 1.0000 - val_loss: 0.0918\n",
      "Epoch 94/100\n",
      "40/40 - 0s - 3ms/step - accuracy: 0.9988 - loss: 0.1104 - val_accuracy: 1.0000 - val_loss: 0.0892\n",
      "Epoch 95/100\n",
      "40/40 - 0s - 3ms/step - accuracy: 0.9991 - loss: 0.1061 - val_accuracy: 1.0000 - val_loss: 0.0862\n",
      "Epoch 96/100\n",
      "40/40 - 0s - 3ms/step - accuracy: 0.9995 - loss: 0.1006 - val_accuracy: 1.0000 - val_loss: 0.0815\n",
      "Epoch 97/100\n",
      "40/40 - 0s - 3ms/step - accuracy: 0.9991 - loss: 0.0979 - val_accuracy: 1.0000 - val_loss: 0.0756\n",
      "Epoch 98/100\n",
      "40/40 - 0s - 3ms/step - accuracy: 0.9991 - loss: 0.0944 - val_accuracy: 1.0000 - val_loss: 0.0744\n",
      "Epoch 99/100\n",
      "40/40 - 0s - 3ms/step - accuracy: 0.9990 - loss: 0.0909 - val_accuracy: 1.0000 - val_loss: 0.0748\n",
      "Epoch 100/100\n",
      "40/40 - 0s - 3ms/step - accuracy: 0.9992 - loss: 0.0872 - val_accuracy: 1.0000 - val_loss: 0.0697\n"
     ]
    },
    {
     "data": {
      "text/plain": [
       "<keras.src.callbacks.history.History at 0x7f1c1dd1a900>"
      ]
     },
     "execution_count": 12,
     "metadata": {},
     "output_type": "execute_result"
    }
   ],
   "source": [
    "epochs = 100\n",
    "batch_size = 256\n",
    "model.fit(x_train, y_train, epochs=epochs, batch_size=batch_size,\n",
    "          validation_data=(x_test, y_test), verbose=2)"
   ]
  },
  {
   "cell_type": "markdown",
   "id": "8df151de-99a0-4781-a79c-34871dfe104e",
   "metadata": {},
   "source": [
    "As we see, the network is essentially perfect now."
   ]
  }
 ],
 "metadata": {
  "kernelspec": {
   "display_name": "Python 3 (ipykernel)",
   "language": "python",
   "name": "python3"
  },
  "language_info": {
   "codemirror_mode": {
    "name": "ipython",
    "version": 3
   },
   "file_extension": ".py",
   "mimetype": "text/x-python",
   "name": "python",
   "nbconvert_exporter": "python",
   "pygments_lexer": "ipython3",
   "version": "3.13.3"
  }
 },
 "nbformat": 4,
 "nbformat_minor": 5
}
