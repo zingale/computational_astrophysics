{
 "cells": [
  {
   "cell_type": "markdown",
   "id": "7fdc94f5-f592-4322-9617-0073ecc8a9e5",
   "metadata": {},
   "source": [
    "# Example: Turbulent Power Spectrum"
   ]
  },
  {
   "cell_type": "markdown",
   "id": "4b0ca1f5-9bd5-4c92-8305-e43f5bb50b97",
   "metadata": {},
   "source": [
    "One of the ways this is used frequently in astrophysics is to compute the power spectrum of a velocity field to look at the\n",
    "[turbulence](https://en.wikipedia.org/wiki/Turbulence) properties.\n",
    "\n",
    "For a simulation with velocity components $u$, $v$, and $w$, we compute the power spectrum as:\n",
    "\n",
    "$$E(k) = \\int_{k=|k|} dk [ \\hat{u}(k)^2 + \\hat{v}(k)^2 + \\hat{w}(k)^2 ]$$\n",
    "\n",
    "where $k$ is the radial wavenumber, $k = \\sqrt{k_x^2 + k_y^2 + k_z^2}$.  This gives us the power at a scake $k$.\n",
    "\n",
    "[Kolmogorov turbulence theory](https://en.wikipedia.org/wiki/Turbulence#Kolmogorov's_theory_of_1941) says that homogeneous, isotropic, incompressible turblence should scale like:\n",
    "\n",
    "$$E(k) dk \\sim k^{-5/3}$$"
   ]
  },
  {
   "cell_type": "markdown",
   "id": "0516f7d4-e8fc-4889-8fc3-1a9bab2b7d52",
   "metadata": {},
   "source": [
    "We can see this behavior, for example here: https://ui.adsabs.harvard.edu/abs/2005ApJ...632.1021Z/abstract, which looks at [Rayleigh-Taylor](https://en.wikipedia.org/wiki/Rayleigh%E2%80%93Taylor_instability) unstable flames.  Here's a snapshot of the flame at two points in time along with the power spectrum:\n",
    "\n",
    "![Rayleigh-Taylor unstable flame](power_spectrum2.png)"
   ]
  },
  {
   "cell_type": "code",
   "execution_count": null,
   "id": "0473cb52-f343-4cb1-a373-6babb85e8864",
   "metadata": {},
   "outputs": [],
   "source": []
  }
 ],
 "metadata": {
  "kernelspec": {
   "display_name": "Python 3 (ipykernel)",
   "language": "python",
   "name": "python3"
  },
  "language_info": {
   "codemirror_mode": {
    "name": "ipython",
    "version": 3
   },
   "file_extension": ".py",
   "mimetype": "text/x-python",
   "name": "python",
   "nbconvert_exporter": "python",
   "pygments_lexer": "ipython3",
   "version": "3.13.2"
  }
 },
 "nbformat": 4,
 "nbformat_minor": 5
}
