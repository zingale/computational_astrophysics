{
 "cells": [
  {
   "cell_type": "markdown",
   "metadata": {},
   "source": [
    "# Classes"
   ]
  },
  {
   "cell_type": "markdown",
   "metadata": {
    "tags": []
   },
   "source": [
    "Classes are the fundamental concept for object oriented programming.  A class defines a data type with both data and functions that can operate on the data.  An object is an instance of a class.  Each object will have its own namespace (separate from other instances of the class and other functions, etc. in your program).\n",
    "\n",
    "We use the dot operator, `.`, to access members of the class (data or functions).  We've already been doing this a lot, strings, ints, lists, ... are all objects in python."
   ]
  },
  {
   "cell_type": "markdown",
   "metadata": {},
   "source": [
    "## A simple class"
   ]
  },
  {
   "cell_type": "markdown",
   "metadata": {},
   "source": [
    "Here's a class that holds some student info"
   ]
  },
  {
   "cell_type": "code",
   "execution_count": 1,
   "metadata": {},
   "outputs": [],
   "source": [
    "class Student:\n",
    "    def __init__(self, name, grade=None):\n",
    "        self.name = name\n",
    "        self.grade = grade"
   ]
  },
  {
   "cell_type": "code",
   "execution_count": 2,
   "metadata": {},
   "outputs": [
    {
     "name": "stdout",
     "output_type": "stream",
     "text": [
      "Mike\n",
      "None\n"
     ]
    }
   ],
   "source": [
    "a = Student(\"Mike\")\n",
    "print(a.name)\n",
    "print(a.grade)"
   ]
  },
  {
   "cell_type": "markdown",
   "metadata": {},
   "source": [
    "Let's create a bunch of them, stored in a list"
   ]
  },
  {
   "cell_type": "code",
   "execution_count": 3,
   "metadata": {},
   "outputs": [],
   "source": [
    "students = []\n",
    "students.append(Student(\"fry\", \"F-\"))\n",
    "students.append(Student(\"leela\", \"A\"))\n",
    "students.append(Student(\"zoidberg\", \"F\"))\n",
    "students.append(Student(\"hubert\", \"C+\"))\n",
    "students.append(Student(\"bender\", \"B\"))\n",
    "students.append(Student(\"calculon\", \"C\"))\n",
    "students.append(Student(\"amy\", \"A\"))\n",
    "students.append(Student(\"hermes\", \"A\"))\n",
    "students.append(Student(\"scruffy\", \"D\"))\n",
    "students.append(Student(\"flexo\", \"F\"))\n",
    "students.append(Student(\"morbo\", \"D\"))\n",
    "students.append(Student(\"hypnotoad\", \"A+\"))\n",
    "students.append(Student(\"zapp\", \"Q\"))"
   ]
  },
  {
   "cell_type": "markdown",
   "metadata": {},
   "source": [
    "```{tip}\n",
    "The object `self` is the first argument in all of the methods of the class.  This refers to the instance of the class we are working on itself.  It is roughly\n",
    "equivalent to the `*this` pointer in C++ classes.\n",
    "```"
   ]
  },
  {
   "cell_type": "markdown",
   "metadata": {},
   "source": [
    "```{admonition} Exercise\n",
    "Loop over the students in the `students` list and print out the name and grade of each student, one per line.\n",
    "```"
   ]
  },
  {
   "cell_type": "code",
   "execution_count": null,
   "metadata": {},
   "outputs": [],
   "source": []
  },
  {
   "cell_type": "markdown",
   "metadata": {},
   "source": [
    "We can use list comprehensions with our list of objects.  For example, let's find all the students who have A's"
   ]
  },
  {
   "cell_type": "code",
   "execution_count": 4,
   "metadata": {},
   "outputs": [
    {
     "data": {
      "text/plain": [
       "['leela', 'amy', 'hermes', 'hypnotoad']"
      ]
     },
     "execution_count": 4,
     "metadata": {},
     "output_type": "execute_result"
    }
   ],
   "source": [
    "As = [q.name for q in students if q.grade.startswith(\"A\")]\n",
    "As"
   ]
  },
  {
   "cell_type": "markdown",
   "metadata": {},
   "source": [
    "## Operators"
   ]
  },
  {
   "cell_type": "markdown",
   "metadata": {},
   "source": [
    "We can define operations like `+` and `-` that work on our objects.  Here's a simple example of currency&mdash;we keep track of the country and the amount"
   ]
  },
  {
   "cell_type": "code",
   "execution_count": 5,
   "metadata": {},
   "outputs": [],
   "source": [
    "class Currency:\n",
    "    \"\"\" a simple class to hold foreign currency \"\"\"\n",
    "    \n",
    "    def __init__(self, amount, country=\"US\"):\n",
    "        self.amount = amount\n",
    "        self.country = country\n",
    "        \n",
    "    def __add__(self, other):\n",
    "        return Currency(self.amount + other.amount, country=self.country)\n",
    "\n",
    "    def __sub__(self, other):\n",
    "        return Currency(self.amount - other.amount, country=self.country)\n",
    "\n",
    "    def __str__(self):\n",
    "        return f\"{self.amount} {self.country}\""
   ]
  },
  {
   "cell_type": "markdown",
   "metadata": {},
   "source": [
    "We can now create some monetary amounts for different countries"
   ]
  },
  {
   "cell_type": "code",
   "execution_count": 6,
   "metadata": {},
   "outputs": [
    {
     "name": "stdout",
     "output_type": "stream",
     "text": [
      "5 US\n"
     ]
    }
   ],
   "source": [
    "d1 = Currency(10, \"US\")\n",
    "d2 = Currency(15, \"US\")\n",
    "print(d2 - d1)"
   ]
  },
  {
   "cell_type": "markdown",
   "metadata": {},
   "source": [
    "```{note}\n",
    "When we print our `Currency` object, python calls the `__str__()` method.\n",
    "```"
   ]
  },
  {
   "cell_type": "markdown",
   "metadata": {},
   "source": [
    "```{admonition} Exercise\n",
    "As written, our Currency class has a bug&mdash;it does not check whether the amounts are in the same country before adding.  Modify the `__add__` method to first check if the countries are the same.  If they are, return the new `Currency` object with the sum, otherwise, return `None`.\n",
    "```"
   ]
  },
  {
   "cell_type": "code",
   "execution_count": null,
   "metadata": {
    "tags": []
   },
   "outputs": [],
   "source": []
  },
  {
   "cell_type": "markdown",
   "metadata": {},
   "source": [
    "## Mathematical vectors\n",
    "\n",
    "Here we write a class to represent 2-d vectors. Vectors have a direction and a magnitude. We can represent them as a pair of numbers, representing the x and y lengths. We’ll use a tuple internally for this\n",
    "\n",
    "We want our class to do all the basic operations we do with vectors: add them, multiply by a scalar, cross product, dot product, return the magnitude, etc.\n",
    "\n",
    "We’ll use the math module to provide some basic functions we might need (like sqrt)\n",
    "\n",
    "This example will show us how to overload the standard operations in python. Here’s a list of the builtin methods:\n",
    "\n",
    "https://docs.python.org/3/reference/datamodel.html"
   ]
  },
  {
   "cell_type": "markdown",
   "metadata": {},
   "source": [
    "```{tip}\n",
    "To make it really clear what’s being called when, I’ve added prints in each of the functions,\n",
    "```"
   ]
  },
  {
   "cell_type": "code",
   "execution_count": 7,
   "metadata": {},
   "outputs": [],
   "source": [
    "import math"
   ]
  },
  {
   "cell_type": "code",
   "execution_count": 8,
   "metadata": {},
   "outputs": [],
   "source": [
    "class Vector:\n",
    "    \"\"\" a general two-dimensional vector \"\"\"\n",
    "    \n",
    "    def __init__(self, x, y):\n",
    "        print(\"in __init__\")\n",
    "        self.x = x\n",
    "        self.y = y\n",
    "        \n",
    "    def __str__(self):\n",
    "        print(\"in __str__\")        \n",
    "        return f\"({self.x} î + {self.y} ĵ)\"\n",
    "    \n",
    "    def __repr__(self):\n",
    "        print(\"in __repr__\")        \n",
    "        return f\"Vector({self.x}, {self.y})\"\n",
    "\n",
    "    def __add__(self, other):\n",
    "        print(\"in __add__\")        \n",
    "        if isinstance(other, Vector):\n",
    "            return Vector(self.x + other.x, self.y + other.y)\n",
    "        else:\n",
    "            # it doesn't make sense to add anything but two vectors\n",
    "            raise NotImplementedError(f\"unable to add a {type(other)} to a Vector\")\n",
    "\n",
    "    def __sub__(self, other):\n",
    "        print(\"in __sub__\")        \n",
    "        if isinstance(other, Vector):\n",
    "            return Vector(self.x - other.x, self.y - other.y)\n",
    "        else:\n",
    "            # it doesn't make sense to add anything but two vectors            \n",
    "            raise NotImplementedError(f\"unable to add a {type(other)} to a Vector\")\n",
    "\n",
    "    def __mul__(self, other):\n",
    "        print(\"in __mul__\")        \n",
    "        if isinstance(other, int) or isinstance(other, float):\n",
    "            # scalar multiplication changes the magnitude\n",
    "            return Vector(other*self.x, other*self.y)\n",
    "        else:\n",
    "            raise NotImplementedError(\"unable to multiply two Vectors\")\n",
    "\n",
    "    def __matmul__(self, other):\n",
    "        print(\"in __matmul__\")\n",
    "        # a dot product\n",
    "        if isinstance(other, Vector):\n",
    "            return self.x*other.x + self.y*other.y\n",
    "        else:            \n",
    "            raise NotImplementedError(\"matrix multiplication not defined\")\n",
    "\n",
    "    def __rmul__(self, other):\n",
    "        print(\"in __rmul__\")        \n",
    "        return self.__mul__(other)\n",
    "\n",
    "    def __truediv__(self, other):\n",
    "        print(\"in __truediv__\")        \n",
    "        # we only know how to multiply by a scalar\n",
    "        if isinstance(other, int) or isinstance(other, float):\n",
    "            return Vector(self.x/other, self.y/other)\n",
    "\n",
    "    def __abs__(self):\n",
    "        print(\"in __abs__\")        \n",
    "        return math.sqrt(self.x**2 + self.y**2)\n",
    "\n",
    "    def __neg__(self):\n",
    "        print(\"in __neg__\")        \n",
    "        return Vector(-self.x, -self.y)\n",
    "\n",
    "    def cross(self, other):\n",
    "        # a vector cross product -- we return the magnitude, since it will\n",
    "        # be in the z-direction, but we are only 2-d \n",
    "        return abs(self.x*other.y - self.y*other.x)"
   ]
  },
  {
   "cell_type": "markdown",
   "metadata": {},
   "source": [
    "Here, both `__str__` and `__repr__` return something that is readable. \n",
    "The convection is what `__str__ `is human readable while `__repr__` should be a form that can be used to recreate the object (e.g., via eval()). See:\n",
    "\n",
    "http://stackoverflow.com/questions/1436703/difference-between-str-and-repr-in-python"
   ]
  },
  {
   "cell_type": "code",
   "execution_count": 9,
   "metadata": {},
   "outputs": [
    {
     "name": "stdout",
     "output_type": "stream",
     "text": [
      "in __init__\n",
      "in __repr__\n"
     ]
    },
    {
     "data": {
      "text/plain": [
       "Vector(1, 2)"
      ]
     },
     "execution_count": 9,
     "metadata": {},
     "output_type": "execute_result"
    }
   ],
   "source": [
    "v = Vector(1,2)\n",
    "v"
   ]
  },
  {
   "cell_type": "code",
   "execution_count": 10,
   "metadata": {},
   "outputs": [
    {
     "name": "stdout",
     "output_type": "stream",
     "text": [
      "in __str__\n",
      "(1 î + 2 ĵ)\n"
     ]
    }
   ],
   "source": [
    "print(v)"
   ]
  },
  {
   "cell_type": "markdown",
   "metadata": {},
   "source": [
    "Vectors have length, and we'll use the `abs()` builtin to provide the magnitude.  For a vector:\n",
    "\n",
    "$${\\bf v} = \\alpha \\hat{\\bf i} + \\beta \\hat{\\bf j}$$\n",
    "\n",
    "we have:\n",
    "\n",
    "$$|{\\bf v}| = \\sqrt{\\alpha^2 + \\beta^2}$$"
   ]
  },
  {
   "cell_type": "code",
   "execution_count": 11,
   "metadata": {},
   "outputs": [
    {
     "name": "stdout",
     "output_type": "stream",
     "text": [
      "in __abs__\n"
     ]
    },
    {
     "data": {
      "text/plain": [
       "2.23606797749979"
      ]
     },
     "execution_count": 11,
     "metadata": {},
     "output_type": "execute_result"
    }
   ],
   "source": [
    "abs(v)"
   ]
  },
  {
   "cell_type": "markdown",
   "metadata": {},
   "source": [
    "Let’s look at mathematical operations on vectors now. We want to be able to add and subtract two vectors as well as multiply and divide by a scalar.\n",
    "\n"
   ]
  },
  {
   "cell_type": "code",
   "execution_count": 12,
   "metadata": {},
   "outputs": [
    {
     "name": "stdout",
     "output_type": "stream",
     "text": [
      "in __init__\n"
     ]
    }
   ],
   "source": [
    "u = Vector(3,5)"
   ]
  },
  {
   "cell_type": "code",
   "execution_count": 13,
   "metadata": {},
   "outputs": [
    {
     "name": "stdout",
     "output_type": "stream",
     "text": [
      "in __add__\n",
      "in __init__\n",
      "in __str__\n",
      "(4 î + 7 ĵ)\n"
     ]
    }
   ],
   "source": [
    "w = u + v\n",
    "print(w)"
   ]
  },
  {
   "cell_type": "code",
   "execution_count": 14,
   "metadata": {},
   "outputs": [
    {
     "name": "stdout",
     "output_type": "stream",
     "text": [
      "in __sub__\n",
      "in __init__\n",
      "in __repr__\n"
     ]
    },
    {
     "data": {
      "text/plain": [
       "Vector(2, 3)"
      ]
     },
     "execution_count": 14,
     "metadata": {},
     "output_type": "execute_result"
    }
   ],
   "source": [
    "u - v"
   ]
  },
  {
   "cell_type": "markdown",
   "metadata": {},
   "source": [
    "It doesn’t make sense to add a scalar to a vector, so we didn’t implement this – what happens?"
   ]
  },
  {
   "cell_type": "code",
   "execution_count": 15,
   "metadata": {},
   "outputs": [
    {
     "name": "stdout",
     "output_type": "stream",
     "text": [
      "in __add__\n"
     ]
    },
    {
     "ename": "NotImplementedError",
     "evalue": "unable to add a <class 'float'> to a Vector",
     "output_type": "error",
     "traceback": [
      "\u001b[0;31m---------------------------------------------------------------------------\u001b[0m",
      "\u001b[0;31mNotImplementedError\u001b[0m                       Traceback (most recent call last)",
      "Cell \u001b[0;32mIn[15], line 1\u001b[0m\n\u001b[0;32m----> 1\u001b[0m \u001b[43mu\u001b[49m\u001b[43m \u001b[49m\u001b[38;5;241;43m+\u001b[39;49m\u001b[43m \u001b[49m\u001b[38;5;241;43m2.0\u001b[39;49m\n",
      "Cell \u001b[0;32mIn[8], line 23\u001b[0m, in \u001b[0;36mVector.__add__\u001b[0;34m(self, other)\u001b[0m\n\u001b[1;32m     20\u001b[0m     \u001b[38;5;28;01mreturn\u001b[39;00m Vector(\u001b[38;5;28mself\u001b[39m\u001b[38;5;241m.\u001b[39mx \u001b[38;5;241m+\u001b[39m other\u001b[38;5;241m.\u001b[39mx, \u001b[38;5;28mself\u001b[39m\u001b[38;5;241m.\u001b[39my \u001b[38;5;241m+\u001b[39m other\u001b[38;5;241m.\u001b[39my)\n\u001b[1;32m     21\u001b[0m \u001b[38;5;28;01melse\u001b[39;00m:\n\u001b[1;32m     22\u001b[0m     \u001b[38;5;66;03m# it doesn't make sense to add anything but two vectors\u001b[39;00m\n\u001b[0;32m---> 23\u001b[0m     \u001b[38;5;28;01mraise\u001b[39;00m \u001b[38;5;167;01mNotImplementedError\u001b[39;00m(\u001b[38;5;124mf\u001b[39m\u001b[38;5;124m\"\u001b[39m\u001b[38;5;124munable to add a \u001b[39m\u001b[38;5;132;01m{\u001b[39;00m\u001b[38;5;28mtype\u001b[39m(other)\u001b[38;5;132;01m}\u001b[39;00m\u001b[38;5;124m to a Vector\u001b[39m\u001b[38;5;124m\"\u001b[39m)\n",
      "\u001b[0;31mNotImplementedError\u001b[0m: unable to add a <class 'float'> to a Vector"
     ]
    }
   ],
   "source": [
    "u + 2.0"
   ]
  },
  {
   "cell_type": "markdown",
   "metadata": {},
   "source": [
    "Now multiplication. It makes sense to multiply by a scalar, but there are multiple ways to define multiplication of two vectors.\n",
    "\n",
    "Note that python provides both a `__mul__` and a `__rmul__` function to define what happens when we multiply a vector by a quantity and what happens when we multiply something else by a vector."
   ]
  },
  {
   "cell_type": "code",
   "execution_count": null,
   "metadata": {},
   "outputs": [],
   "source": [
    "u*2.0"
   ]
  },
  {
   "cell_type": "code",
   "execution_count": null,
   "metadata": {},
   "outputs": [],
   "source": [
    "2.0*u"
   ]
  },
  {
   "cell_type": "markdown",
   "metadata": {},
   "source": [
    "and division: `__truediv__` is the normal way of division `/`, while `__floordiv__` is the more equivalent to C++/Fortran (truncated to integer), also enabled via `//`.\n"
   ]
  },
  {
   "cell_type": "code",
   "execution_count": null,
   "metadata": {},
   "outputs": [],
   "source": [
    "u/5.0"
   ]
  },
  {
   "cell_type": "code",
   "execution_count": null,
   "metadata": {},
   "outputs": [],
   "source": [
    "5.0/u"
   ]
  },
  {
   "cell_type": "markdown",
   "metadata": {},
   "source": [
    "Python has the multiplication operator, @ – we’ll use this to implement a dot product between two vectors:"
   ]
  },
  {
   "cell_type": "code",
   "execution_count": null,
   "metadata": {},
   "outputs": [],
   "source": [
    "u @ v"
   ]
  },
  {
   "cell_type": "markdown",
   "metadata": {},
   "source": [
    "For a cross product, we don’t have an obvious operator, so we’ll use a function. For 2-d vectors, this will result in a scalar"
   ]
  },
  {
   "cell_type": "code",
   "execution_count": null,
   "metadata": {},
   "outputs": [],
   "source": [
    "u.cross(v)"
   ]
  },
  {
   "cell_type": "markdown",
   "metadata": {},
   "source": [
    "Finally, negation is a separate operation:"
   ]
  },
  {
   "cell_type": "code",
   "execution_count": null,
   "metadata": {},
   "outputs": [],
   "source": [
    "-u"
   ]
  },
  {
   "cell_type": "markdown",
   "metadata": {},
   "source": [
    "```{admonition} C++ version\n",
    "Operator overloading is not unique to python.  A C++ version of this vector class can be found here:\n",
    "https://github.com/zingale/computational_astrophysics/tree/main/examples/mathematical_vectors\n",
    "```"
   ]
  }
 ],
 "metadata": {
  "kernelspec": {
   "display_name": "Python 3 (ipykernel)",
   "language": "python",
   "name": "python3"
  },
  "language_info": {
   "codemirror_mode": {
    "name": "ipython",
    "version": 3
   },
   "file_extension": ".py",
   "mimetype": "text/x-python",
   "name": "python",
   "nbconvert_exporter": "python",
   "pygments_lexer": "ipython3",
   "version": "3.13.1"
  }
 },
 "nbformat": 4,
 "nbformat_minor": 4
}
