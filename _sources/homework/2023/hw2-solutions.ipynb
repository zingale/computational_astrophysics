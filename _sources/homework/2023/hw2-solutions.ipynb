{
 "cells": [
  {
   "cell_type": "markdown",
   "id": "e7197921-d0db-4476-bbd1-dc03971bfc17",
   "metadata": {},
   "source": [
    "# Homework 2 solutions"
   ]
  },
  {
   "cell_type": "markdown",
   "id": "43b1874a-98d3-4d7e-bf15-3eb56bc5b71a",
   "metadata": {},
   "source": [
    "## 1\n",
    "\n",
    "We want to extend Simpson's rule to work with an odd number of intervals.  In class we found that the equation of a parabola that passes through $(x_0, f_0)$, $(x_1, f_1)$, $(x_2, f_2)$ is:\n",
    "\n",
    "$$f(x) = \\frac{f_0 - 2 f_1 + f_2}{2 \\Delta x^2} (x - x_0)^2 \n",
    "      + \\frac{-3 f_0 + 4 f_1 - f_2}{2 \\Delta x} (x - x_0) + f_0$$\n",
    "      \n",
    "Let's imagine that we are at the end of the domain, and we just have the single interval $[x_{N-1}, x_N]$ to integrate over.\n",
    "\n",
    "We can do this by defining the parabola to pass through $\\{x_{N-2}, x_{N-1}, x_N\\}$ and then just integrate over the right half.\n",
    "\n",
    "We'll follow the SymPy derivation from class (but it is also easy to do this integral by hand)."
   ]
  },
  {
   "cell_type": "code",
   "execution_count": 1,
   "id": "50886e37-55b4-4fea-b64c-821f2ffad121",
   "metadata": {},
   "outputs": [
    {
     "name": "stdout",
     "output_type": "stream",
     "text": [
      "IPython console for SymPy 1.11.1 (Python 3.11.1-64-bit) (ground types: gmpy)\n",
      "\n",
      "These commands were executed:\n",
      ">>> from sympy import *\n",
      ">>> x, y, z, t = symbols('x y z t')\n",
      ">>> k, m, n = symbols('k m n', integer=True)\n",
      ">>> f, g, h = symbols('f g h', cls=Function)\n",
      ">>> init_printing()\n",
      "\n",
      "Documentation can be found at https://docs.sympy.org/1.11.1/\n",
      "\n"
     ]
    }
   ],
   "source": [
    "from sympy import init_session\n",
    "init_session(use_latex=\"mathjax\")"
   ]
  },
  {
   "cell_type": "code",
   "execution_count": 2,
   "id": "adc1424e-88d3-4a73-aa5c-4f796d005b09",
   "metadata": {},
   "outputs": [],
   "source": [
    "a, b, c = symbols(\"a b c\")\n",
    "dx = symbols(\"\\Delta{}x\")\n",
    "fN2, fN1, fN = symbols(\"f_{N-2} f_{N-1} f_N\")"
   ]
  },
  {
   "cell_type": "code",
   "execution_count": 3,
   "id": "94555657-3c4c-4b0c-8052-6d9ca4ec5693",
   "metadata": {},
   "outputs": [
    {
     "data": {
      "image/png": "[encoded data removed]",
      "text/latex": [
       "$\\displaystyle \\left\\{ a : \\frac{f_{N} - 2 f_{N-1} + f_{N-2}}{2 \\Delta{}x^{2}}, \\  b : \\frac{- f_{N} + 4 f_{N-1} - 3 f_{N-2}}{2 \\Delta{}x}, \\  c : f_{N-2}\\right\\}$"
      ],
      "text/plain": [
       "⎧   f_N - 2⋅f_{N-1} + f_{N-2}     -f_N + 4⋅f_{N-1} - 3⋅f_{N-2}            ⎫\n",
       "⎪a: ─────────────────────────, b: ────────────────────────────, c: f_{N-2}⎪\n",
       "⎨                     2                   2⋅\\Delta{}x                     ⎬\n",
       "⎪          2⋅\\Delta{}x                                                    ⎪\n",
       "⎩                                                                         ⎭"
      ]
     },
     "execution_count": 3,
     "metadata": {},
     "output_type": "execute_result"
    }
   ],
   "source": [
    "coeffs = solve([Eq(fN2, c),\n",
    "                Eq(fN1, a * dx**2 + b * dx + c),\n",
    "                Eq(fN, 4 * a * dx**2 + 2 * b * dx + c)],\n",
    "               [a, b, c])\n",
    "coeffs"
   ]
  },
  {
   "cell_type": "code",
   "execution_count": 4,
   "id": "70063ab2-4319-45d0-8009-0ba5b52cb448",
   "metadata": {},
   "outputs": [],
   "source": [
    "xN2 = symbols(\"x_{N-2}\")"
   ]
  },
  {
   "cell_type": "markdown",
   "id": "e404fb90-f1ea-4115-bc73-5eda736a9193",
   "metadata": {},
   "source": [
    "Here, we change the limits that we integrate over to just be $[x_{N-1}, x_N]$"
   ]
  },
  {
   "cell_type": "code",
   "execution_count": 5,
   "id": "30065d28-94b5-48f5-8add-7245e531ba89",
   "metadata": {},
   "outputs": [
    {
     "data": {
      "image/png": "[encoded data removed]",
      "text/latex": [
       "$\\displaystyle \\frac{\\Delta{}x \\left(5 f_{N} + 8 f_{N-1} - f_{N-2}\\right)}{12}$"
      ],
      "text/plain": [
       "\\Delta{}x⋅(5⋅f_N + 8⋅f_{N-1} - f_{N-2})\n",
       "───────────────────────────────────────\n",
       "                   12                  "
      ]
     },
     "execution_count": 5,
     "metadata": {},
     "output_type": "execute_result"
    }
   ],
   "source": [
    "I = integrate(coeffs[a] * (x - xN2)**2 + coeffs[b] * (x - xN2) + coeffs[c],\n",
    "              [x, xN2+dx, xN2+2*dx])\n",
    "simplify(I)"
   ]
  },
  {
   "cell_type": "markdown",
   "id": "3f7df889-b6a2-4a0b-a674-72ef78779ea5",
   "metadata": {},
   "source": [
    "So that would be the contribution to the integral from a single remaining interval if the number of intervals is odd"
   ]
  },
  {
   "cell_type": "markdown",
   "id": "ac0c503f-122d-4fcd-acb1-2b7f2a77ab67",
   "metadata": {},
   "source": [
    "Let's write a function that integrates a function, `f`, from [`a`,`b`] with `N` intervals, where `N` may be odd."
   ]
  },
  {
   "cell_type": "code",
   "execution_count": 6,
   "id": "587ddc76-f71f-4889-976b-0733a6683cd3",
   "metadata": {},
   "outputs": [],
   "source": [
    "import numpy as np\n",
    "import matplotlib.pyplot as plt"
   ]
  },
  {
   "cell_type": "code",
   "execution_count": 7,
   "id": "9dff5764-5098-4611-a7cd-79f31ab7bf17",
   "metadata": {},
   "outputs": [],
   "source": [
    "def I_s(f, a, b, N):\n",
    "    \"\"\"composite Simpsons rule.  Integrate f over [a, b]\n",
    "    with N intervals\"\"\"\n",
    "    \n",
    "    # get the spacing of the intervals\n",
    "    \n",
    "    dx = (b - a) / N\n",
    "    \n",
    "    I = 0.0\n",
    "\n",
    "    # loop over bins\n",
    "    for n in range(0, N-1, 2):\n",
    "        x0 = a + n * dx\n",
    "        x1 = a + (n+1) * dx\n",
    "        x2 = a + (n+2) * dx\n",
    "        I += dx / 3.0 * (f(x0)+ 4 * f(x1) + f(x2))\n",
    "\n",
    "    # if N is odd, we have one interval remaining\n",
    "    if N % 2 == 1:\n",
    "        x_N2 = b - 2 * dx\n",
    "        x_N1 = b - dx\n",
    "        x_N = b\n",
    "        I += dx / 12.0 * (5 * f(x_N) + 8 * f(x_N1) - f(x_N2))\n",
    "    return I"
   ]
  },
  {
   "cell_type": "code",
   "execution_count": 8,
   "id": "d0a8d547-19c8-4953-af23-3f7fbff90e70",
   "metadata": {},
   "outputs": [],
   "source": [
    "def f(x):\n",
    "    return x * np.sin(2 * np.pi * x)\n",
    "\n",
    "def I_analytic():\n",
    "    return - 5.0 / (2.0 * np.pi)"
   ]
  },
  {
   "cell_type": "markdown",
   "id": "ce5ab294-f993-407d-a9b6-8d94b45dd20b",
   "metadata": {},
   "source": [
    "It's always useful to plot the integrand."
   ]
  },
  {
   "cell_type": "code",
   "execution_count": 9,
   "id": "0caa1bed-48ac-4cad-b4af-d1f9de10de62",
   "metadata": {},
   "outputs": [
    {
     "data": {
      "text/plain": [
       "[<matplotlib.lines.Line2D at 0x7f5750303490>]"
      ]
     },
     "execution_count": 9,
     "metadata": {},
     "output_type": "execute_result"
    }
   ],
   "source": [
    "fig, ax = plt.subplots()\n",
    "x = np.linspace(0, 5, 1000)\n",
    "ax.plot(x, f(x))"
   ]
  },
  {
   "cell_type": "markdown",
   "id": "b2677d55-9d1c-4d19-8a3c-0113961d99bc",
   "metadata": {},
   "source": [
    "As we can see, there will be alternating positive and negative contributions, and we'll need a lot of resolution to get this right."
   ]
  },
  {
   "cell_type": "code",
   "execution_count": 10,
   "id": "26374bd8-8056-4a25-9e90-741886b3fd58",
   "metadata": {},
   "outputs": [
    {
     "name": "stdout",
     "output_type": "stream",
     "text": [
      "   3 : 2.5999943066770577\n",
      "   5 : 0.7957747154594665\n",
      "   9 : 1.1876938529724823\n",
      "  17 : 0.06439588165114829\n",
      "  33 : 0.01730255273921677\n",
      "  65 : 0.0017456127932892196\n",
      " 129 : 0.00012529082068590824\n",
      " 257 : 8.22252017085301e-06\n"
     ]
    }
   ],
   "source": [
    "for n in [3, 5, 9, 17, 33, 65, 129, 257]:\n",
    "    print(f\"{n:4} : {abs(I_s(f, 0, 5, n) - I_analytic())}\")"
   ]
  },
  {
   "cell_type": "markdown",
   "id": "fd1d133a-a6a0-497d-a68a-f2a69f719f11",
   "metadata": {},
   "source": [
    "## 2"
   ]
  },
  {
   "cell_type": "markdown",
   "id": "2943d60b-c3c9-4393-894f-edc121800c30",
   "metadata": {},
   "source": [
    "We have:\n",
    "    \n",
    "$$n(p) d^3 p \\rightarrow 4\\pi n(p) p^2 dp = \\frac{n_I}{(2\\pi m_I k_B T)^{3/2}} e^{-p^2/(2m_I k_BT)} 4\\pi p^2 dp$$\n",
    "\n",
    "and want to compute:\n",
    "\n",
    "$$\\langle v \\rangle = \\frac{1}{n_I} \\int_0^\\infty 4\\pi n(p) p^2 \\left (\\frac{p}{m_I}\\right ) dp$$"
   ]
  },
  {
   "cell_type": "markdown",
   "id": "03266d2f-5a97-4de1-9035-25293c321b9c",
   "metadata": {},
   "source": [
    "Let's start by making this integral dimensionless\n",
    "\n",
    "Defining \n",
    "\n",
    "$$x = \\frac{p}{\\sqrt{2 m_I k_B T}}$$\n",
    "\n",
    "we have\n",
    "\n",
    "$$\\langle v \\rangle = 4\\sqrt{\\frac{2 k_B T}{m \\pi}} \\int_0^\\infty x^3 e^{-x^2} dx$$"
   ]
  },
  {
   "cell_type": "markdown",
   "id": "0e8467d4-fe2e-4bb1-a0d3-44091799a742",
   "metadata": {},
   "source": [
    "Let's plot the integrand"
   ]
  },
  {
   "cell_type": "code",
   "execution_count": 11,
   "id": "17728df5-9efd-4518-8837-38338c94647d",
   "metadata": {},
   "outputs": [],
   "source": [
    "def f(x):\n",
    "    return x**3 * np.exp(-x**2)"
   ]
  },
  {
   "cell_type": "code",
   "execution_count": 18,
   "id": "24a22ff6-0456-4096-b0c9-5a0b1b622be3",
   "metadata": {},
   "outputs": [
    {
     "data": {
      "image/png": "[encoded data removed]",
      "text/plain": [
       "<Figure size 640x480 with 1 Axes>"
      ]
     },
     "execution_count": 18,
     "metadata": {},
     "output_type": "execute_result"
    }
   ],
   "source": [
    "fig, ax = plt.subplots()\n",
    "x = np.linspace(0, 10, 1000)\n",
    "ax.plot(x, f(x))\n",
    "fig"
   ]
  },
  {
   "cell_type": "markdown",
   "id": "b2cf2202-c131-4501-b372-e83879504db9",
   "metadata": {},
   "source": [
    "This actually falls off pretty quickly, but we'll still use our method for integrating to infinity"
   ]
  },
  {
   "cell_type": "code",
   "execution_count": 13,
   "id": "f5ad8ab4-7a9c-416d-b0d5-4797bb316480",
   "metadata": {},
   "outputs": [],
   "source": [
    "SMALL = 1.e-30\n",
    "\n",
    "def zv(x, c):\n",
    "    \"\"\" transform the variable x -> z \"\"\"\n",
    "    return x/(c + x) \n",
    "\n",
    "def xv(z, c):\n",
    "    \"\"\" transform back from z -> x \"\"\"\n",
    "    return c*z/(1.0 - z + SMALL)"
   ]
  },
  {
   "cell_type": "markdown",
   "id": "433a8f24-1593-478f-86b6-cb5d07c2b416",
   "metadata": {},
   "source": [
    "We'll do the integration with the trapezoid rule"
   ]
  },
  {
   "cell_type": "code",
   "execution_count": 14,
   "id": "478a1f70-a2cc-48c1-b183-530c952ec504",
   "metadata": {},
   "outputs": [],
   "source": [
    "def I_t(func, N=10, c=5):\n",
    "    \"\"\"composite trapezoid rule for integrating from [0, oo].\n",
    "    Here N is the number of intervals\"\"\"\n",
    "    \n",
    "    # there are N+1 points corresponding to N intervals\n",
    "    z = np.linspace(0.0, 1.0, N+1, endpoint=True)\n",
    "    \n",
    "    I = 0.0\n",
    "    for n in range(N):\n",
    "        I += 0.5 * (z[n+1] - z[n]) * (func(xv(z[n], c)) / (1.0 - z[n] + SMALL)**2 +\n",
    "                                      func(xv(z[n+1], c)) / (1.0 - z[n+1] + SMALL)**2)\n",
    "    I *= c\n",
    "    return I"
   ]
  },
  {
   "cell_type": "markdown",
   "id": "7b898aa3-5448-4574-a4c6-f575f4ec7a28",
   "metadata": {},
   "source": [
    "Now let's write a function that puts back in the physical units"
   ]
  },
  {
   "cell_type": "code",
   "execution_count": 15,
   "id": "91d6de94-499a-4a6f-a3ef-0027a393001f",
   "metadata": {},
   "outputs": [],
   "source": [
    "def avg_vel(T, N=10):\n",
    "    kB = 1.38e-16  # erg/K\n",
    "    m_I = 1.67e-24 # g\n",
    "    \n",
    "    return 4 * np.sqrt(2 * kB * T / (m_I * np.pi)) * I_t(f, N=N, c=2)\n",
    "    "
   ]
  },
  {
   "cell_type": "code",
   "execution_count": 16,
   "id": "d399325f-0c99-452f-9a5c-c7c38f300b7e",
   "metadata": {},
   "outputs": [
    {
     "data": {
      "image/png": "[encoded data removed]",
      "text/latex": [
       "$\\displaystyle 56209275.0661435$"
      ],
      "text/plain": [
       "56209275.06614353"
      ]
     },
     "execution_count": 16,
     "metadata": {},
     "output_type": "execute_result"
    }
   ],
   "source": [
    "avg_vel(1.5e7)"
   ]
  },
  {
   "cell_type": "markdown",
   "id": "68173277-ed5e-40ca-99c2-67ca9630c5d2",
   "metadata": {},
   "source": [
    "That's a velocity of $5.6\\times 10^7~\\mathrm{cm~s^{-1}}$"
   ]
  },
  {
   "cell_type": "markdown",
   "id": "825ee28a-e411-444c-b9fd-016f13eb7110",
   "metadata": {},
   "source": [
    "The analytic expression is"
   ]
  },
  {
   "cell_type": "code",
   "execution_count": 17,
   "id": "c95d9c2a-d6cc-4f1a-a130-69eb2d950df5",
   "metadata": {},
   "outputs": [
    {
     "data": {
      "image/png": "[encoded data removed]",
      "text/latex": [
       "$\\displaystyle 56181973.9838385$"
      ],
      "text/plain": [
       "56181973.983838476"
      ]
     },
     "execution_count": 17,
     "metadata": {},
     "output_type": "execute_result"
    }
   ],
   "source": [
    "kB = 1.38e-16  # erg/K\n",
    "m_I = 1.67e-24 # g\n",
    "T = 1.5e7\n",
    "\n",
    "v = 2 * np.sqrt(2 * kB * T / (m_I * np.pi))\n",
    "v"
   ]
  },
  {
   "cell_type": "markdown",
   "id": "5f924cfb-797e-4dc9-9d2f-cea506cccaa0",
   "metadata": {},
   "source": [
    "So we are very close."
   ]
  }
 ],
 "metadata": {
  "kernelspec": {
   "display_name": "Python 3 (ipykernel)",
   "language": "python",
   "name": "python3"
  },
  "language_info": {
   "codemirror_mode": {
    "name": "ipython",
    "version": 3
   },
   "file_extension": ".py",
   "mimetype": "text/x-python",
   "name": "python",
   "nbconvert_exporter": "python",
   "pygments_lexer": "ipython3",
   "version": "3.11.2"
  }
 },
 "nbformat": 4,
 "nbformat_minor": 5
}
