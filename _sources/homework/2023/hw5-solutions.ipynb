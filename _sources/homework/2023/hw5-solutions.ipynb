{
 "cells": [
  {
   "cell_type": "markdown",
   "id": "7662373f-01a7-489d-a4de-5219d351e704",
   "metadata": {},
   "source": [
    "# Homework 5 solutions"
   ]
  },
  {
   "cell_type": "markdown",
   "id": "fabd9b2e-13d9-4362-a5fa-9edc55430328",
   "metadata": {},
   "source": [
    "We want to create a table the stores the values of our pressure at different\n",
    "densities and temperatures.  Let's start by defining the constants and the analytic function for the pressure:"
   ]
  },
  {
   "cell_type": "code",
   "execution_count": 1,
   "id": "5e350939-582b-4218-934d-faddf36534d0",
   "metadata": {
    "tags": []
   },
   "outputs": [],
   "source": [
    "import numpy as np"
   ]
  },
  {
   "cell_type": "code",
   "execution_count": 3,
   "id": "d7ccd416-5214-4043-9ea5-42799b3ee2cb",
   "metadata": {
    "tags": []
   },
   "outputs": [],
   "source": [
    "# CGS constants\n",
    "\n",
    "k = 1.38e-16\n",
    "a = 7.56e-15\n",
    "mu_I = 1.26\n",
    "mu_e = 1.15\n",
    "K = 1.e13\n",
    "m_u = 1.67e-24"
   ]
  },
  {
   "cell_type": "markdown",
   "id": "14caf4df-d91a-440e-b01e-923394c8325c",
   "metadata": {},
   "source": [
    "Now we'll write our pressure function.  Note: this is an approximation of what the real pressure is inside a star.  In particular, we're assuming that the electrons behave as a non-relativistic degenerate gas, but at high temperatures\n",
    "and low densities, they are probably better described as an ideal gas."
   ]
  },
  {
   "cell_type": "code",
   "execution_count": 15,
   "id": "249707dd-2800-4637-8dc5-8a5ee560677e",
   "metadata": {
    "tags": []
   },
   "outputs": [],
   "source": [
    "def pressure(rho, T):\n",
    "    return k * rho * T / (mu_I * m_u) + (1./3.) * a * T**4 + K * rho**(5./3.) * mu_e**(-5./3.)"
   ]
  },
  {
   "cell_type": "markdown",
   "id": "094033d1-211a-4781-bcc3-18031a041471",
   "metadata": {},
   "source": [
    "Now lets write a function to tabulate this on a grid of density and temperature"
   ]
  },
  {
   "cell_type": "code",
   "execution_count": 16,
   "id": "355db11b-c942-40ad-a868-7e7356eb0b5a",
   "metadata": {
    "tags": []
   },
   "outputs": [],
   "source": [
    "def make_table(n_rho, n_T, rho_min=1.0, rho_max=1.e4, T_min=1.e6, T_max=1.e8):\n",
    "    \n",
    "    # create the density and temperature points where the data is stored\n",
    "    \n",
    "    rho_v = np.logspace(np.log10(rho_min), np.log10(rho_max), n_rho)\n",
    "    T_v = np.logspace(np.log10(T_min), np.log10(T_max), n_T)\n",
    "    \n",
    "    # now create the table and fill it\n",
    "    \n",
    "    data = np.zeros((n_rho, n_T))\n",
    "    \n",
    "    for i, rho in enumerate(rho_v):\n",
    "        for j, T in enumerate(T_v):\n",
    "            data[i, j] = pressure(rho, T)\n",
    "            \n",
    "    return rho_v, T_v, data"
   ]
  },
  {
   "cell_type": "markdown",
   "id": "cb672f3d-d652-4264-a313-5f21e121c6bd",
   "metadata": {},
   "source": [
    "Let's create this table"
   ]
  },
  {
   "cell_type": "code",
   "execution_count": 17,
   "id": "f6760c11-b597-4162-a8f1-f57bd0f39b58",
   "metadata": {
    "tags": []
   },
   "outputs": [],
   "source": [
    "n_rho = 10\n",
    "n_T = 10\n",
    "\n",
    "rho_v, T_v, data = make_table(n_rho, n_T)"
   ]
  },
  {
   "cell_type": "markdown",
   "id": "ffacfd20-ef40-4e87-b71b-5f1356985777",
   "metadata": {},
   "source": [
    "Let's look at a point just to see if it seems reasonable"
   ]
  },
  {
   "cell_type": "code",
   "execution_count": 18,
   "id": "ac74109b-2c47-4296-8f83-723d61cdeb21",
   "metadata": {
    "tags": []
   },
   "outputs": [
    {
     "name": "stdout",
     "output_type": "stream",
     "text": [
      "rho = 7.74263682681127, T = 12915496.650148828, P =      6.868491677e+15\n"
     ]
    }
   ],
   "source": [
    "i = 2\n",
    "j = 5\n",
    "\n",
    "print(f\"rho = {rho_v[i]}, T = {T_v[j]}, P = {data[i, j]:20.10g}\")"
   ]
  },
  {
   "cell_type": "markdown",
   "id": "0e208640-6902-496a-a49b-a74e0bf4c6cc",
   "metadata": {
    "tags": []
   },
   "source": [
    "Next we need to figure out what our interpolating function look like.  We want to write the pressure as:\n",
    "\n",
    "$$P(\\rho, T) = a (\\rho - \\rho_i)(T - T_j) + b (\\rho - \\rho_i) + c (T - T_j) + d$$\n",
    "\n",
    "where we get the coefficients from the 4 table values that surround the evaluation point.\n",
    "\n",
    "This gives us the constraints:\n",
    "\n",
    "\\begin{align*}\n",
    "P_{i,j} &= d \\\\\n",
    "P_{i+1,j} &= b \\Delta \\rho + d \\\\\n",
    "P_{i,j+1} &= c \\Delta T + d \\\\\n",
    "P_{i+1,j+1} &= a \\Delta \\rho \\Delta T + b \\Delta \\rho + c \\Delta T + d\n",
    "\\end{align*}\n",
    "\n",
    "which is easily solved to give:\n",
    "\n",
    "\\begin{align*}\n",
    "a &= \\frac{P_{i+1,j+1} - P_{i+1,j} - P_{i,j+1} + P_{i,j}}{\\Delta \\rho \\Delta T} \\\\\n",
    "b &= \\frac{P_{i+1,j} - P_{i,j}}{\\Delta \\rho} \\\\\n",
    "c &= \\frac{P_{i,j+1} - P_{i,j}}{\\Delta T} \\\\\n",
    "d &= P_{i,j}\n",
    "\\end{align*}"
   ]
  },
  {
   "cell_type": "markdown",
   "id": "81e18e3f-4548-4288-bf9f-c8c07dd8293c",
   "metadata": {
    "tags": []
   },
   "source": [
    "Now we can write our interpolation function"
   ]
  },
  {
   "cell_type": "code",
   "execution_count": 29,
   "id": "6e99139f-8459-4138-9aa2-52d8cc0ed329",
   "metadata": {
    "tags": []
   },
   "outputs": [],
   "source": [
    "def interpolate_pressure(rho0, T0, rho_v, T_v, data):\n",
    "    \"\"\"given a point (rho0, T0), and the table data: rho_v, T_v, data,\n",
    "    return an estimate of the pressure via interpolation\"\"\"\n",
    "    \n",
    "    # first we need to find the index i and j such that rho_v[i] < rho0 <= rho_v[i+1]\n",
    "    \n",
    "    i = np.argwhere(rho_v > rho0)[0][0] - 1\n",
    "    assert rho_v[i] < rho0 <= rho_v[i+1]\n",
    "    \n",
    "    j = np.argwhere(T_v > T0)[0][0] - 1\n",
    "    assert T_v[j] < T0 <= T_v[j+1]\n",
    "        \n",
    "    # now compute the coefficients\n",
    "    drho = rho_v[i+1] - rho_v[i]\n",
    "    dT = T_v[j+1] - T_v[j]\n",
    "    \n",
    "    a = (data[i+1, j+1] - data[i+1, j] - data[i, j+1] + data[i, j]) / (drho * dT)\n",
    "    b = (data[i+1, j] - data[i, j]) / drho\n",
    "    c = (data[i, j+1] - data[i, j]) / dT\n",
    "    d = data[i, j]\n",
    "    \n",
    "    return a * (rho0 - rho_v[i]) * (T0 - T_v[j]) + b * (rho0 - rho_v[i]) + c * (T0 - T_v[j]) + d"
   ]
  },
  {
   "cell_type": "code",
   "execution_count": 26,
   "id": "da1796ec-7d02-4489-8859-8c0e1b0ba85c",
   "metadata": {
    "tags": []
   },
   "outputs": [
    {
     "name": "stdout",
     "output_type": "stream",
     "text": [
      "4 5\n"
     ]
    },
    {
     "data": {
      "text/plain": [
       "1.8263573046485e+17"
      ]
     },
     "execution_count": 26,
     "metadata": {},
     "output_type": "execute_result"
    }
   ],
   "source": [
    "interpolate_pressure(150, 1.5e7, rho_v, T_v, data)"
   ]
  },
  {
   "cell_type": "code",
   "execution_count": null,
   "id": "b108aec5-6eef-4c36-a61c-1613f37cce24",
   "metadata": {},
   "outputs": [],
   "source": []
  }
 ],
 "metadata": {
  "kernelspec": {
   "display_name": "Python 3 (ipykernel)",
   "language": "python",
   "name": "python3"
  },
  "language_info": {
   "codemirror_mode": {
    "name": "ipython",
    "version": 3
   },
   "file_extension": ".py",
   "mimetype": "text/x-python",
   "name": "python",
   "nbconvert_exporter": "python",
   "pygments_lexer": "ipython3",
   "version": "3.11.2"
  }
 },
 "nbformat": 4,
 "nbformat_minor": 5
}
