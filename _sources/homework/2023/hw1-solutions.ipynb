{
 "cells": [
  {
   "cell_type": "markdown",
   "id": "e8a3029e-6121-4b16-ac08-7a794cdc5548",
   "metadata": {},
   "source": [
    "# Homework 1 solutions"
   ]
  },
  {
   "cell_type": "markdown",
   "id": "6bdaa347-c1bb-4947-9995-112cc7f4435a",
   "metadata": {},
   "source": [
    "## 1\n",
    "\n",
    "We want to derive a difference approximation to the _second derivative_.  Let's look at the Taylor expansions of $f(x\\pm h)$:\n",
    "\n",
    "$$f(x\\pm h) = f(x) \\pm f^\\prime(x) h + \\frac{1}{2} f^{\\prime\\prime}(x) h^2  \\pm \\frac{1}{6} f^{\\prime\\prime\\prime}(x) h^3 + \\mathcal{O}(h^4)$$\n",
    "\n",
    "Now, let's eliminate the first derivative by combining these as:\n",
    "\n",
    "$$f(x+h) + f(x-h) = 2 f(x) + f^{\\prime\\prime}(x) h^2 + \\mathcal{O}(h^4)$$\n",
    "\n",
    "Notice that the third-derivative term also cancels.\n",
    "\n",
    "We can now solve for the second derivative:\n",
    "\n",
    "$$f^{\\prime\\prime}(x) = \\frac{f(x+h) - 2 f(x) + f(x-h)}{h^2} + \\mathcal{O}(h^2)$$\n",
    "\n",
    "We expect this to be _second-order accurate_."
   ]
  },
  {
   "cell_type": "markdown",
   "id": "d048905c-cdbd-4f31-9300-ccdbeb4fc553",
   "metadata": {},
   "source": [
    "Let's try this out.  We'll run on $f(x) = \\sin(x)$ which has the second derivative, $f^{\\prime\\prime} = -\\sin(x)$."
   ]
  },
  {
   "cell_type": "code",
   "execution_count": 1,
   "id": "126955e6-4859-4031-bef4-2483f13573a3",
   "metadata": {
    "tags": []
   },
   "outputs": [],
   "source": [
    "import numpy as np"
   ]
  },
  {
   "cell_type": "code",
   "execution_count": 2,
   "id": "5341e026-43ba-43f1-b08a-a3c04b426137",
   "metadata": {
    "tags": []
   },
   "outputs": [],
   "source": [
    "def f(x):\n",
    "    return np.sin(x)\n",
    "\n",
    "def d2fdx2(x):\n",
    "    return -np.sin(x)"
   ]
  },
  {
   "cell_type": "code",
   "execution_count": 3,
   "id": "7ecc9892-f2f3-4194-b966-345724b6d356",
   "metadata": {
    "tags": []
   },
   "outputs": [],
   "source": [
    "def second_deriv_difference(f, x, h):\n",
    "    return (f(x + h) - 2 * f(x) + f(x - h)) / h**2"
   ]
  },
  {
   "cell_type": "markdown",
   "id": "2c3e3ba0-61ef-496d-ac6b-55e3c875c46e",
   "metadata": {},
   "source": [
    "Now let's try a bunch of different values of $h$ at $x_0 = 1$"
   ]
  },
  {
   "cell_type": "code",
   "execution_count": 6,
   "id": "3bb4d4c8-0887-4900-bb24-e16ada5c87f5",
   "metadata": {
    "tags": []
   },
   "outputs": [
    {
     "name": "stdout",
     "output_type": "stream",
     "text": [
      "     0.1 : 0.000700992120478694\n",
      "    0.05 : 0.00017529184697717692\n",
      "   0.025 : 4.3825700563604464e-05\n",
      "  0.0125 : 1.0956597035760574e-05\n"
     ]
    }
   ],
   "source": [
    "x0 = 1.0\n",
    "\n",
    "for h in [0.1, 0.05, 0.025, 0.0125]:\n",
    "    print(f\"{h:8} : {np.abs(second_deriv_difference(f, x0, h) - d2fdx2(x0))}\")"
   ]
  },
  {
   "cell_type": "markdown",
   "id": "712efe57-a94e-4146-b349-e474f6a6e295",
   "metadata": {},
   "source": [
    "This shows the error (compared to the analytic solution) for different values of $h$.  As we see, when we cut $h$ by a factor of 2, the error goes down by a factor of 4&mdash;this is the second-order convergence we expect!"
   ]
  },
  {
   "cell_type": "markdown",
   "id": "ac54072a-466e-4520-b8ea-d8c69d402757",
   "metadata": {
    "tags": []
   },
   "source": [
    "## 2."
   ]
  },
  {
   "cell_type": "markdown",
   "id": "c861a5c6-1eda-40f7-9daf-e732109509a9",
   "metadata": {},
   "source": [
    "We are looking at\n",
    "\n",
    "$$f(x) = \\sqrt{x^2 + 1} - 1$$\n",
    "\n",
    "As the problem states, in the limit of $x\\rightarrow 0$, this reduces to\n",
    "\n",
    "$$f(x) \\sim \\frac{1}{2} x^2$$\n",
    "\n",
    "Now, consider the transformation suggested in the problem:\n",
    "\n",
    "$$f(x) = \\sqrt{x^2 + 1} - 1 = \\sqrt{x^2 + 1} - 1 \\left ( \\frac{\\sqrt{x^2 + 1} + 1}{\\sqrt{x^2 + 1} + 1}\\right ) = \\frac{x^2}{\\sqrt{x^2 + 1} + 1}$$\n",
    "\n",
    "The advantage of this last form is that there are no subtractions of two very close numbers."
   ]
  },
  {
   "cell_type": "markdown",
   "id": "7b88a570-4f01-466b-a795-c6df004a5509",
   "metadata": {},
   "source": [
    "Let's compare the accuracy of these 3 forms:"
   ]
  },
  {
   "cell_type": "code",
   "execution_count": 8,
   "id": "d145b994-fbd9-44d2-9b79-bb46bc4f4541",
   "metadata": {
    "tags": []
   },
   "outputs": [],
   "source": [
    "def f1(x):\n",
    "    return np.sqrt(x * x + 1) - 1\n",
    "\n",
    "def f2(x):\n",
    "    return 0.5 * x * x\n",
    "\n",
    "def f3(x):\n",
    "    return x * x / (np.sqrt(x * x + 1) + 1)"
   ]
  },
  {
   "cell_type": "code",
   "execution_count": 16,
   "id": "9ca7b250-00a1-497f-9cb5-3067f8d384f6",
   "metadata": {
    "tags": []
   },
   "outputs": [
    {
     "name": "stdout",
     "output_type": "stream",
     "text": [
      "x = 1e-06 : original form: 5.0004445e-13, limit:         5e-13, new form:         5e-13\n",
      "x = 1e-07 : original form: 4.8849813e-15, limit:         5e-15, new form:         5e-15\n",
      "x = 1e-08 : original form:             0, limit:         5e-17, new form:         5e-17\n"
     ]
    }
   ],
   "source": [
    "for x in [1.e-6, 1.e-7, 1.e-8]:\n",
    "    print(f\"x = {x} : original form: {f1(x):13.8g}, limit: {f2(x):13.8g}, new form: {f3(x):13.8g}\")"
   ]
  },
  {
   "cell_type": "markdown",
   "id": "f730af1b-c4ea-40a3-972d-e78f26015034",
   "metadata": {},
   "source": [
    "We see that the roundoff error in the original form is very large.  The new form of the expression agrees very well with the limit."
   ]
  }
 ],
 "metadata": {
  "kernelspec": {
   "display_name": "Python 3 (ipykernel)",
   "language": "python",
   "name": "python3"
  },
  "language_info": {
   "codemirror_mode": {
    "name": "ipython",
    "version": 3
   },
   "file_extension": ".py",
   "mimetype": "text/x-python",
   "name": "python",
   "nbconvert_exporter": "python",
   "pygments_lexer": "ipython3",
   "version": "3.13.1"
  }
 },
 "nbformat": 4,
 "nbformat_minor": 5
}
