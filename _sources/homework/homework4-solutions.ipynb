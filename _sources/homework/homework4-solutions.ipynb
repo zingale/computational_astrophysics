{
 "cells": [
  {
   "cell_type": "markdown",
   "id": "77543e62-919f-48ea-a290-5b81c0b57513",
   "metadata": {},
   "source": [
    "# Homework 4 solutions"
   ]
  },
  {
   "cell_type": "markdown",
   "id": "c07f71e7-7d7f-4ddb-ba0a-2cb9fca7d3cc",
   "metadata": {},
   "source": [
    "We want to invert and equation of state (EOS), i.e., given a pressure, $p_\\star$, and specific internal energy, $e_\\star$, and an equation of state that is expressed in terms of density and temperature:\n",
    "\n",
    "\\begin{align*}\n",
    "p &= p(\\rho, T) \\\\\n",
    "e &= e(\\rho, T)\n",
    "\\end{align*}\n",
    "\n",
    "we want to find the $\\rho$ and $T$ that give our desired pressure and energy."
   ]
  },
  {
   "cell_type": "markdown",
   "id": "87db0e31-b420-47f1-a848-623832c07528",
   "metadata": {},
   "source": [
    "First we'll write our equation of state.  We'll create a class, `EOSState`, that simply serves as a type\n",
    "to hold all of the thermodynamic information for our state."
   ]
  },
  {
   "cell_type": "code",
   "execution_count": 1,
   "id": "6d2c7239-931a-40cd-b78e-2bbc6f42b371",
   "metadata": {},
   "outputs": [],
   "source": [
    "class EOSState:\n",
    "    def __init__(self, rho=None, T=None,\n",
    "                 p=None, e=None,\n",
    "                 dpdrho=None, dpdT=None,\n",
    "                 dedrho=None, dedT=None, mu=4):\n",
    "        self.rho = rho\n",
    "        self.T = T\n",
    "        self.mu = mu\n",
    "        \n",
    "        self.p = p\n",
    "        self.e = e\n",
    "        self.dpdrho = dpdrho\n",
    "        self.dpdT = dpdT\n",
    "        self.dedrho = dedrho\n",
    "        self.dedT = dedT"
   ]
  },
  {
   "cell_type": "markdown",
   "id": "29ad7e32-8493-4129-bb35-e87a53121593",
   "metadata": {},
   "source": [
    "and now our EOS---it simply takes an `EOSState` and will fill the components based on the density and temperature in the state.\n",
    "\n",
    "As stated in the assignment, this is simply an ideal gas + radiation.  We can compute all of the thermodynamic\n",
    "derivatives analytically."
   ]
  },
  {
   "cell_type": "code",
   "execution_count": 2,
   "id": "b3d219a7-9c9d-4a31-b090-42f28cb1020f",
   "metadata": {},
   "outputs": [],
   "source": [
    "def eos(state):\n",
    "    # constants\n",
    "    k = 1.38e-16  # erg/K\n",
    "    a = 7.56e-15  # erg/cm^3/K^4\n",
    "    m_u = 1.66e-24  # g\n",
    "\n",
    "    state.p = (state.rho * k * state.T / (state.mu * m_u) +\n",
    "               (1./3.) * a * state.T**4)\n",
    "    state.e = 1.5 * k * state.T / (state.mu * m_u) + a * state.T**4 / state.rho\n",
    "\n",
    "    state.dpdrho = k * state.T / (state.mu * m_u)\n",
    "    state.dpdT = state.rho * k / (state.mu * m_u) + (4./3.) * a * state.T**3\n",
    "\n",
    "    state.dedrho = -a * state.T**4 / state.rho**2\n",
    "    state.dedT = 1.5 * k / (state.mu * m_u) + 4 * a * state.T**3 / state.rho"
   ]
  },
  {
   "cell_type": "markdown",
   "id": "2bdb9dae-d826-4e5b-ae94-25fd84b70920",
   "metadata": {},
   "source": [
    "We use a Newton's method for our system, writing it as:\n",
    "\n",
    "$$\\Psi(\\rho_0 + \\delta_\\rho, T_0 + \\delta T) = 0 = \\Psi(\\rho_0, T_0) + {\\bf J} \\left ( \\begin{array}{c} \\delta \\rho \\\\ \\delta T \\end{array} \\right ) + \\ldots$$\n",
    "\n",
    "where $(\\rho_0, T_0)$ is the initial guess for the density and temperature that satisfy our thermodynamics.\n",
    "\n",
    "We find the corrections, $(\\delta\\rho, \\delta T)$ by solving the linear system:\n",
    "\n",
    "$${\\bf J} \\left (\\begin{array}{c} \\delta \\rho \\\\ \\delta T \\end{array} \\right ) = - \\Psi(\\rho_0, T_0)$$\n",
    "\n",
    "and iterating until the corrections are small.  Here, ${\\bf J}$ is the Jacobian, which has the form:\n",
    "\n",
    "$${\\bf J} = \\left ( \\begin{array}{cc} \\partial p/\\partial \\rho |_T & \\partial p/\\partial T |_\\rho \\\\ \n",
    "                                      \\partial e/\\partial \\rho |_T & \\partial e/\\partial T |_\\rho \\end{array} \\right )$$"
   ]
  },
  {
   "cell_type": "code",
   "execution_count": 3,
   "id": "e4a8fe7c-2018-4add-868a-48bdc8473d33",
   "metadata": {},
   "outputs": [],
   "source": [
    "import numpy as np"
   ]
  },
  {
   "cell_type": "markdown",
   "id": "94ece0b5-6adb-4c55-9135-06575b4941aa",
   "metadata": {},
   "source": [
    "Here's our implementation---we pass in the pressure and energy we want, and optionally a guess for $\\rho_0$ and $T_0$."
   ]
  },
  {
   "cell_type": "code",
   "execution_count": 4,
   "id": "263842d7-af9c-4713-b5bc-16b6e8e2c8df",
   "metadata": {},
   "outputs": [],
   "source": [
    "def rhoT_from_pe(p_in, e_in, *, rho0=1, T0=1, tol=1.e-5):\n",
    "    state = EOSState(rho=rho0, T=T0)\n",
    "\n",
    "    err = 1.e30\n",
    "    while (err > tol):\n",
    "        # get the current thermodynamics\n",
    "        eos(state)\n",
    "\n",
    "        # construct the Jacobian and Psi\n",
    "        J = np.array([[state.dpdrho, state.dpdT],\n",
    "                      [state.dedrho, state.dedT]])\n",
    "        psi = np.array([state.p - p_in, state.e - e_in])\n",
    "\n",
    "        # solve for the corrections\n",
    "        delta = np.linalg.solve(J, -psi)\n",
    "\n",
    "        # update our guesses\n",
    "        state.rho += delta[0]\n",
    "        state.T += delta[1]\n",
    "\n",
    "        # compute the error\n",
    "        err = max(abs(delta[0]/state.rho), abs(delta[1]/state.T))\n",
    "\n",
    "    return state.rho, state.T"
   ]
  },
  {
   "cell_type": "markdown",
   "id": "e77993f4-6f54-4ba2-83a1-96a3b87e25ff",
   "metadata": {},
   "source": [
    "Now we can test it out."
   ]
  },
  {
   "cell_type": "code",
   "execution_count": 5,
   "id": "abb9a0c3-54b0-473f-8a6b-c263048ef6fb",
   "metadata": {},
   "outputs": [],
   "source": [
    "p_star = 2.3e10\n",
    "e_star = 3.87e13"
   ]
  },
  {
   "cell_type": "code",
   "execution_count": 6,
   "id": "f9915137-627e-4920-b6a6-c7111cc5fe6f",
   "metadata": {},
   "outputs": [
    {
     "data": {
      "text/plain": [
       "(0.000988366164960824, 997994.6760719108)"
      ]
     },
     "execution_count": 6,
     "metadata": {},
     "output_type": "execute_result"
    }
   ],
   "source": [
    "rho, T = rhoT_from_pe(p_star, e_star, rho0=1.e2, T0=1.e5)\n",
    "(rho, T)"
   ]
  },
  {
   "cell_type": "markdown",
   "id": "bb32c8aa-6fc2-44c9-a8ed-578768848bcf",
   "metadata": {},
   "source": [
    "Now we can check how well we did by calling the EOS with the $\\rho$ and $T$ we found and comparing to the\n",
    "pressure and energy we wanted."
   ]
  },
  {
   "cell_type": "code",
   "execution_count": 7,
   "id": "55c46914-bb9e-4af9-9d30-96fbced161cf",
   "metadata": {},
   "outputs": [],
   "source": [
    "s_new = EOSState(rho=rho, T=T)\n",
    "eos(s_new)"
   ]
  },
  {
   "cell_type": "code",
   "execution_count": 8,
   "id": "0794aca6-66ac-4ac4-90c1-a62a3969415c",
   "metadata": {},
   "outputs": [
    {
     "name": "stdout",
     "output_type": "stream",
     "text": [
      "pressure: we found 23000000000.01443 and wanted 23000000000.0\n",
      "energy: we found 38700000000007.32 and wanted 38700000000000.0\n"
     ]
    }
   ],
   "source": [
    "print(f\"pressure: we found {s_new.p} and wanted {p_star}\")\n",
    "print(f\"energy: we found {s_new.e} and wanted {e_star}\")"
   ]
  },
  {
   "cell_type": "markdown",
   "id": "bccb9119-0975-484b-9be1-18ba7fd93c04",
   "metadata": {},
   "source": [
    "Clearly we did quite well.  "
   ]
  }
 ],
 "metadata": {
  "kernelspec": {
   "display_name": "Python 3 (ipykernel)",
   "language": "python",
   "name": "python3"
  },
  "language_info": {
   "codemirror_mode": {
    "name": "ipython",
    "version": 3
   },
   "file_extension": ".py",
   "mimetype": "text/x-python",
   "name": "python",
   "nbconvert_exporter": "python",
   "pygments_lexer": "ipython3",
   "version": "3.13.2"
  }
 },
 "nbformat": 4,
 "nbformat_minor": 5
}
