{
 "cells": [
  {
   "cell_type": "markdown",
   "id": "2b84b9e5-199d-4918-8f85-1cc46ef2b984",
   "metadata": {},
   "source": [
    "# Homework 1 solutions"
   ]
  },
  {
   "cell_type": "markdown",
   "id": "beef4472-f603-40a7-a730-3e494b433eaf",
   "metadata": {},
   "source": [
    "# 1. Roundoff\n",
    "\n",
    "We are considering the function:\n",
    "\n",
    "$$f(x) = \\frac{1}{\\sqrt{x^3 + 1} - 1}$$\n",
    "\n",
    "where $x > 0$.\n",
    "\n",
    "Let's define the analytically equivalent $g(x)$ as:\n",
    "\n",
    "$$g(x) = f(x) \\frac{\\sqrt{x^3 + 1} + 1}{\\sqrt{x^3 + 1} + 1} = \\frac{\\sqrt{x^3 + 1} + 1}{x^3}$$\n",
    "\n",
    "We can also use a Taylor expansion for $|x| \\ll 1$, $\\sqrt{x^3 + 1} \\approx 1 + \\frac{1}{2} x^3$, giving\n",
    "\n",
    "$$f(x) \\approx \\frac{2}{x^3}$$\n",
    "\n",
    "Let's write functions for these and look at their behavior for small $x$"
   ]
  },
  {
   "cell_type": "code",
   "execution_count": 2,
   "id": "74d85627-7be7-4339-a1bd-25db737b895e",
   "metadata": {},
   "outputs": [],
   "source": [
    "import numpy as np"
   ]
  },
  {
   "cell_type": "code",
   "execution_count": 3,
   "id": "3cf86896-9545-4870-ab86-06909b77cf29",
   "metadata": {},
   "outputs": [],
   "source": [
    "def f(x):\n",
    "    return 1.0 / (np.sqrt(x**3 + 1.0) - 1.0)"
   ]
  },
  {
   "cell_type": "code",
   "execution_count": 4,
   "id": "59bf3bcb-f8de-438c-b641-367c64d0ab27",
   "metadata": {},
   "outputs": [],
   "source": [
    "def g(x):\n",
    "    return (np.sqrt(x**3 + 1.0) + 1.0) / x**3"
   ]
  },
  {
   "cell_type": "code",
   "execution_count": 5,
   "id": "fc75a364-9dba-4275-965a-9bb2f1d72587",
   "metadata": {},
   "outputs": [],
   "source": [
    "def f_approx(x):\n",
    "    return 2.0 / x**3"
   ]
  },
  {
   "cell_type": "code",
   "execution_count": 6,
   "id": "8683fb74-dd51-4b20-9a9e-6fdbbe820d05",
   "metadata": {},
   "outputs": [
    {
     "name": "stdout",
     "output_type": "stream",
     "text": [
      "1.00e-04  1.99982e+12        2e+12        2e+12\n",
      "1.00e-05   2.2518e+15        2e+15        2e+15\n",
      "1.00e-06          inf        2e+18        2e+18\n"
     ]
    },
    {
     "name": "stderr",
     "output_type": "stream",
     "text": [
      "/tmp/ipykernel_403147/2416731082.py:2: RuntimeWarning: divide by zero encountered in scalar divide\n",
      "  return 1.0 / (np.sqrt(x**3 + 1.0) - 1.0)\n"
     ]
    }
   ],
   "source": [
    "for x in [1.e-4, 1.e-5, 1.e-6]:\n",
    "    print(f\"{x:5.2e} {f(x):12.6g} {g(x):12.6g} {f_approx(x):12.6g}\")"
   ]
  },
  {
   "cell_type": "markdown",
   "id": "cb151824-4ba1-4fba-b436-6233fd102af9",
   "metadata": {},
   "source": [
    "We see that our original function, $f(x)$, is quite inaccurate, while the analytically equivalent version has very good behavior.  Finally the approximation works just fine for these values."
   ]
  },
  {
   "cell_type": "markdown",
   "id": "72d3043d-5594-414a-b89c-f4c6fb7687db",
   "metadata": {},
   "source": [
    "Note for large $x$, our approximation will be bad, and $f(x)$ will agree well with $g(x)$"
   ]
  },
  {
   "cell_type": "code",
   "execution_count": 7,
   "id": "24cc0401-1374-4334-a925-07fd333bfd4c",
   "metadata": {},
   "outputs": [
    {
     "name": "stdout",
     "output_type": "stream",
     "text": [
      "1.00e-01       2000.5       2000.5         2000\n",
      "1.00e+00      2.41421      2.41421            2\n",
      "1.00e+02     0.001001     0.001001        2e-06\n",
      "1.00e+03  3.16238e-05  3.16238e-05        2e-09\n",
      "1.00e+04        1e-06        1e-06        2e-12\n"
     ]
    }
   ],
   "source": [
    "for x in [1.e-1, 1.0, 1.e2, 1.e3, 1.e4]:\n",
    "    print(f\"{x:5.2e} {f(x):12.6g} {g(x):12.6g} {f_approx(x):12.6g}\")"
   ]
  },
  {
   "cell_type": "markdown",
   "id": "b79bc931-13f9-4ee5-be8f-485f778f485a",
   "metadata": {},
   "source": [
    "# 2. Finite Differences"
   ]
  },
  {
   "cell_type": "markdown",
   "id": "da7e5d55-e7c3-4e41-8359-a8875e76eeac",
   "metadata": {},
   "source": [
    "We want to create a one-sided first-derivative that uses the points $(x_i, f_i)$, $(x_{i+1}, f_{i+1})$, and $(x_{i+2}, f_{i+2})$.\n",
    "\n",
    "We'll assume that our grid is uniform, with spacing $\\Delta x$, so $x_{i+1} = x_i + \\Delta x$ and $x_{i+2} = x_i + 2 \\Delta x$.\n",
    "\n",
    "Now we can Taylor expand:\n",
    "\n",
    "$$f_{i+1} = f_i + \\Delta x f^\\prime_i + \\frac{\\Delta x^2}{2} f^{\\prime\\prime}_i + \\mathcal{O}(\\Delta x^3)$$\n",
    "\n",
    "$$f_{i+2} = f_i + 2\\Delta x f^\\prime_i + \\frac{(2\\Delta x)^2}{2} f^{\\prime\\prime}_i + \\mathcal{O}(\\Delta x^3)$$"
   ]
  },
  {
   "cell_type": "markdown",
   "id": "b8ee5def-d5e6-42e3-ad28-25478d390bf5",
   "metadata": {},
   "source": [
    "Notice that if we construct $f_{i+2} - 4 f_{i+1}$, then the $f^{\\prime\\prime}_i$ terms cancel.  Writing that out:\n",
    "\n",
    "$$f_{i+2} - 4 f_{i+1} = -3 f_i - 2 \\Delta x f^\\prime_i + \\mathcal{O}(\\Delta x^3)$$\n",
    "\n",
    "and solving for $f^\\prime_i$, we have:\n",
    "\n",
    "$$f^\\prime_i = \\frac{-3 f_i + 4 f_{i+1} - f_{i+2}}{2 \\Delta x} + \\mathcal{O}(\\Delta x^2)$$"
   ]
  },
  {
   "cell_type": "code",
   "execution_count": 8,
   "id": "62d69f76-a53f-4bb8-afc7-4537d5ae3b95",
   "metadata": {},
   "outputs": [],
   "source": [
    "def fprime_oneside(x0, f, dx):\n",
    "    return (-3 * f(x0) + 4 * f(x0 + dx) - f(x0 + 2*dx)) / (2 * dx)"
   ]
  },
  {
   "cell_type": "code",
   "execution_count": 10,
   "id": "bc1dc40f-95a7-498f-aad4-6bbbd4de42f5",
   "metadata": {},
   "outputs": [],
   "source": [
    "def f(x):\n",
    "    return np.sin(x)"
   ]
  },
  {
   "cell_type": "code",
   "execution_count": 11,
   "id": "e1bbb642-94fe-42a2-b499-a37915b76db1",
   "metadata": {},
   "outputs": [],
   "source": [
    "def fprime_analytic(x):\n",
    "    return np.cos(x)"
   ]
  },
  {
   "cell_type": "code",
   "execution_count": 22,
   "id": "c2879e1c-8041-4b77-8d71-586f82c6f71f",
   "metadata": {},
   "outputs": [
    {
     "name": "stdout",
     "output_type": "stream",
     "text": [
      "   dx        dfdx       error  \n",
      " 0.50000 :  0.55627 ,  0.015967\n",
      " 0.25000 :  0.54806 ,  0.007759\n",
      " 0.12500 :  0.54269 ,  0.002389\n",
      " 0.06250 :  0.54095 ,  0.000651\n",
      " 0.03125 :  0.54047 ,  0.000169\n"
     ]
    }
   ],
   "source": [
    "x0 = 1.0\n",
    "\n",
    "print(f\"{'dx':^8}   {'dfdx':^8}   {'error':^9}\")\n",
    "\n",
    "for dx in [0.5, 0.25, 0.125, 0.0625, 0.03125]:\n",
    "    dfdx = fprime_oneside(x0, f, dx)\n",
    "    dfdx_true = fprime_analytic(x0)\n",
    "    err = np.abs(dfdx - dfdx_true)\n",
    "    print(f\"{dx:8.5f} : {dfdx:8.5f} , {err:9.6f}\")"
   ]
  },
  {
   "cell_type": "markdown",
   "id": "cfdc7557-0614-40c6-8c23-a87760a33cb0",
   "metadata": {},
   "source": [
    "We see that as we cut $\\Delta x$ in half, the error drops by a factor of 4, as expected for a second-order accurate method."
   ]
  }
 ],
 "metadata": {
  "kernelspec": {
   "display_name": "Python 3 (ipykernel)",
   "language": "python",
   "name": "python3"
  },
  "language_info": {
   "codemirror_mode": {
    "name": "ipython",
    "version": 3
   },
   "file_extension": ".py",
   "mimetype": "text/x-python",
   "name": "python",
   "nbconvert_exporter": "python",
   "pygments_lexer": "ipython3",
   "version": "3.13.2"
  }
 },
 "nbformat": 4,
 "nbformat_minor": 5
}
