{
 "cells": [
  {
   "cell_type": "markdown",
   "id": "5b10ae11-89df-4dd9-baa6-3f92ffabd67b",
   "metadata": {},
   "source": [
    "# Application: Stellar Colors"
   ]
  },
  {
   "cell_type": "markdown",
   "id": "da0a8061-053c-4e93-b148-a9a13617b4a9",
   "metadata": {},
   "source": [
    "The color of a star is related to its temperature.  We want to compute a theoretical $B-V$ color of a star for a temperature.  Here, $B$ is the [absolute magnitude](https://en.wikipedia.org/wiki/Absolute_magnitude) in the blue band and $V$ is the absolute magnitude in the visible band.\n",
    "\n",
    "Two absolute magitudes are related via:\n",
    "\n",
    "$$M_2 - M_1 = 2.5 \\log \\left (\\frac{f_1}{f_2} \\right )$$\n",
    "\n",
    "where $f$ is the flux (this is the same relation for apparent magnitudes, with the only difference being that absolute magnitudes are defined such that the star is 10 pc away)\n",
    "\n",
    "We want to measure the flux of a star through a filter, defining a color.  Take $\\phi(\\lambda)$ to be the transmission function of the filter and assume that stars are blackbodies, so we can use the Planck function for the flux."
   ]
  },
  {
   "cell_type": "code",
   "execution_count": null,
   "id": "7c4d337e-b070-40a3-96b2-25018aef47df",
   "metadata": {},
   "outputs": [],
   "source": []
  }
 ],
 "metadata": {
  "kernelspec": {
   "display_name": "Python 3 (ipykernel)",
   "language": "python",
   "name": "python3"
  },
  "language_info": {
   "codemirror_mode": {
    "name": "ipython",
    "version": 3
   },
   "file_extension": ".py",
   "mimetype": "text/x-python",
   "name": "python",
   "nbconvert_exporter": "python",
   "pygments_lexer": "ipython3",
   "version": "3.13.2"
  }
 },
 "nbformat": 4,
 "nbformat_minor": 5
}
