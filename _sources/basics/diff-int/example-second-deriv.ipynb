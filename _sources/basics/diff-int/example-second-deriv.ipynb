{
 "cells": [
  {
   "cell_type": "markdown",
   "id": "276381f7-184a-4dad-805a-3e8b4c71d8e3",
   "metadata": {},
   "source": [
    "# In-class Example: Second Derivative"
   ]
  },
  {
   "cell_type": "markdown",
   "id": "4bd9594b-3070-475a-a230-cc6543e43608",
   "metadata": {},
   "source": [
    "Let's construct a difference approximation to the second derivative.\n",
    "\n",
    "We'll use the same Taylor expansions as before, but now we'll include more terms:\n",
    "\n",
    "$$f(x\\pm h) = f(x) \\pm f^\\prime(x) h + \\frac{1}{2} f^{\\prime\\prime}(x) h^2  \\pm \\frac{1}{6} f^{\\prime\\prime\\prime}(x) h^3 + \\mathcal{O}(h^4)$$\n",
    "\n",
    "Now, let's eliminate the first derivative by combining these as:\n",
    "\n",
    "$$f(x+h) + f(x-h) = 2 f(x) + f^{\\prime\\prime}(x) h^2 + \\mathcal{O}(h^4)$$\n",
    "\n",
    "Notice that the third-derivative term also cancels.\n",
    "\n",
    "We can now solve for the second derivative:\n",
    "\n",
    "$$f^{\\prime\\prime}(x) = \\frac{f(x+h) - 2 f(x) + f(x-h)}{h^2} + \\mathcal{O}(h^2)$$\n",
    "\n",
    "We expect this to be _second-order accurate_."
   ]
  },
  {
   "cell_type": "markdown",
   "id": "325000ae-decb-44f6-8311-ab01ecdfdc3e",
   "metadata": {},
   "source": [
    "Let's implement this now and see how it convergence on $f(x) = \\sin(x)$"
   ]
  },
  {
   "cell_type": "code",
   "execution_count": null,
   "id": "84b28381-2ffe-47a1-bc86-d606575171fa",
   "metadata": {},
   "outputs": [],
   "source": []
  }
 ],
 "metadata": {
  "kernelspec": {
   "display_name": "Python 3 (ipykernel)",
   "language": "python",
   "name": "python3"
  },
  "language_info": {
   "codemirror_mode": {
    "name": "ipython",
    "version": 3
   },
   "file_extension": ".py",
   "mimetype": "text/x-python",
   "name": "python",
   "nbconvert_exporter": "python",
   "pygments_lexer": "ipython3",
   "version": "3.13.0"
  }
 },
 "nbformat": 4,
 "nbformat_minor": 5
}
