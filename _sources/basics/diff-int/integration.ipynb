{
 "cells": [
  {
   "cell_type": "markdown",
   "metadata": {
    "editable": true,
    "slideshow": {
     "slide_type": ""
    },
    "tags": []
   },
   "source": [
    "# Integration"
   ]
  },
  {
   "cell_type": "markdown",
   "metadata": {
    "editable": true,
    "slideshow": {
     "slide_type": ""
    },
    "tags": []
   },
   "source": [
    "As with derivatives, there are two cases where we need to do integrals:\n",
    "\n",
    "1. We are given a function $f(x)$ and are free to evaluate it wherever we wish to compute the integral in a domain $[a,b]$.\n",
    "\n",
    "2. We are given $N$ points (possibly equally spaced) in $[a,b]$ and want to use them to construct the integral over the domain.\n",
    "\n",
    "We'll assume here that the discrete data we have is at equally spaced points, and we will treat cases 1 and 2 with the same methods."
   ]
  },
  {
   "cell_type": "markdown",
   "metadata": {
    "editable": true,
    "slideshow": {
     "slide_type": ""
    },
    "tags": []
   },
   "source": [
    "```{note}\n",
    "In general, if you have the freedom to evaluate $f(x)$ at any $x$ (case 1), then you can usually get a far better estimate of the integral by carefully selecting the points to evaluate at, compared to using the same number of equally spaced points (see for instance [Gaussian quadrature](https://en.wikipedia.org/wiki/Gaussian_quadrature)).\n",
    "```"
   ]
  },
  {
   "cell_type": "markdown",
   "metadata": {
    "editable": true,
    "slideshow": {
     "slide_type": ""
    },
    "tags": []
   },
   "source": [
    "In calculus, you saw a definition of a definite integral that looked something like:\n",
    "\n",
    "$$\n",
    "I \\equiv \\int_a^b f(x) dx = \\lim_{\\Delta x \\rightarrow 0} \\sum_{i = 1}^N f(x_i) \\Delta x\n",
    "$$\n",
    "\n",
    "where the number of intervals you divide $[a, b]$ into, $N$, is defined such that $N = (b - a) / \\Delta x$.  Also recall that this definition is directly related to the interpretation of an integral representing the area under a curve.\n",
    "\n",
    "For numerical integration, we will replace the continuous integral with a sum over a finite number of points (we will not take the limit, since we can't sum over an infinite number of points on a computer in a finite amount of time)."
   ]
  },
  {
   "cell_type": "markdown",
   "metadata": {
    "editable": true,
    "slideshow": {
     "slide_type": ""
    },
    "tags": []
   },
   "source": [
    "```{note}\n",
    "Any expression for an integral of the form:\n",
    "\n",
    "$$\n",
    "I \\equiv \\int_a^b f(x) dx \\approx \\sum_{i=1}^{N} w_i f(x_i)\n",
    "$$\n",
    "\n",
    "is called a *quadrature rule* in numerical analysis.  Here $w_i$ are the weights multiplying the function values.  Different quadrature rules will have different weights and have differing accuracy and convergence properties.\n",
    "```"
   ]
  },
  {
   "cell_type": "markdown",
   "metadata": {
    "editable": true,
    "slideshow": {
     "slide_type": ""
    },
    "tags": []
   },
   "source": [
    "## Simple numerical integration\n",
    "\n",
    "We'll first look at the case where we represent the data using a low order polynomial and approximate the integral under the function as the area under the polynomial.  With evenly spaced points, these are sometimes called [Newton-Cotes quadrature rules](https://en.wikipedia.org/wiki/Newton%E2%80%93Cotes_formulas)."
   ]
  },
  {
   "cell_type": "markdown",
   "metadata": {
    "editable": true,
    "slideshow": {
     "slide_type": ""
    },
    "tags": []
   },
   "source": [
    "### Rectangle rule\n",
    "\n",
    "The simplest method of doing a numerical integral is to approximate the function as a constant.  This means we use a single value of $f(x)$ to compute the integral.  For instance, we use $f(a)$, the value of the function at the leftmost point of the integration range.  This is called the *rectangle rule*:\n",
    "\n",
    "$$\n",
    "I_r = f(a) (b - a)\n",
    "$$\n",
    "\n",
    "\n",
    "Visually, this looks like:\n",
    "\n",
    "![rectangle rule](rectangle_N1.png)"
   ]
  },
  {
   "cell_type": "markdown",
   "metadata": {
    "editable": true,
    "slideshow": {
     "slide_type": ""
    },
    "tags": []
   },
   "source": [
    "## Trapezoid rule\n",
    "\n",
    "The rectangle rule did not account for any variation of $f(x)$ over the domain.  But we can do better simply by evaluating $f(x)$ at the endpoints of each domain and connecting them via a straight line&mdash;this is a linear interpolation.  Now we have a trapezoids, so the integral is just the area of the trapezoid, giving rise to the *trapezoid rule*.\n",
    "\n",
    "$$\n",
    "I_t = \\frac{b - a}{2} (f(a) + f(b))\n",
    "$$\n",
    "\n",
    "Visually, this looks like:\n",
    "\n",
    "![trapezoid rule](trapezoid_N1.png)"
   ]
  },
  {
   "cell_type": "markdown",
   "metadata": {
    "editable": true,
    "slideshow": {
     "slide_type": ""
    },
    "tags": []
   },
   "source": [
    "## Simpson's rule\n",
    "\n",
    "With the trapezoid, we represented that data as a line in each slab.  We can move up to a parabola, but now we need 3 points, so we will use the midpoint of the domain as well.  We then compute the integral by integrating under the parabola.\n",
    "\n",
    "$$\n",
    "I_s = \\frac{b - a}{6} \\left [f(a) + 4 f\\left (\\frac{a+b}{2}\\right ) + f(b) \\right ]\n",
    "$$\n",
    "\n",
    "Visually, this looks like:\n",
    "\n",
    "![Simpsons rule](simpsons_N1.png)"
   ]
  },
  {
   "cell_type": "markdown",
   "metadata": {
    "editable": true,
    "slideshow": {
     "slide_type": ""
    },
    "tags": []
   },
   "source": [
    "```{admonition} Example\n",
    "Consider the function\n",
    "    \n",
    "$$\n",
    "f(x) = 1 + \\frac{x}{4} \\sin(\\pi x)\n",
    "$$\n",
    " \n",
    "(this is the function that is drawn in the figures).\n",
    "Compute\n",
    "    \n",
    "$$\n",
    "I = \\int_{1/2}^{3/2} f(x) dx\n",
    "$$\n",
    "    \n",
    "using the rectangle rule, trapezoid rule, and Simpson's rule.\n",
    "    \n",
    "Note: the analytic result is\n",
    "\n",
    "$$\n",
    "I = 1 - \\frac{1}{2\\pi^2} \\approx 0.949\n",
    "$$\n",
    "```"
   ]
  },
  {
   "cell_type": "code",
   "execution_count": 1,
   "metadata": {
    "editable": true,
    "slideshow": {
     "slide_type": ""
    },
    "tags": []
   },
   "outputs": [],
   "source": [
    "import numpy as np"
   ]
  },
  {
   "cell_type": "code",
   "execution_count": 2,
   "metadata": {
    "tags": []
   },
   "outputs": [
    {
     "name": "stdout",
     "output_type": "stream",
     "text": [
      "1.125 0.875 0.9583333333333333 0.9493394081788311\n"
     ]
    }
   ],
   "source": [
    "# define the function\n",
    "\n",
    "def f(x):\n",
    "    return 1 + 0.25 * x * np.sin(np.pi * x)\n",
    "\n",
    "a = 0.5\n",
    "b = 1.5\n",
    "\n",
    "# compute the 3 different approximations\n",
    "\n",
    "I_r = f(a) * (b - a)\n",
    "I_t = 0.5 * (f(a) + f(b)) * (b - a)\n",
    "I_s = (b - a) / 6.0 * (f(a) + 4 * f((a + b)/2) + f(b))\n",
    "\n",
    "I_a = 1 - 1/(2 * np.pi**2)\n",
    "\n",
    "print(I_r, I_t, I_s, I_a)"
   ]
  },
  {
   "cell_type": "markdown",
   "metadata": {
    "editable": true,
    "slideshow": {
     "slide_type": ""
    },
    "tags": []
   },
   "source": [
    "```{tip}\n",
    "You can compare you answers to the figures.  You should see that for the rectangle rule you got the largest error and your value is larger than the true integral&mdash;just like the shaded rectangle is above the true function over almost all of the domain.  With the trapezoid rule, you should see that your approximation is smaller than the true integral&mdash;again, just like how the shaded area is below the true function over most of the domain.\n",
    "```"
   ]
  }
 ],
 "metadata": {
  "kernelspec": {
   "display_name": "Python 3 (ipykernel)",
   "language": "python",
   "name": "python3"
  },
  "language_info": {
   "codemirror_mode": {
    "name": "ipython",
    "version": 3
   },
   "file_extension": ".py",
   "mimetype": "text/x-python",
   "name": "python",
   "nbconvert_exporter": "python",
   "pygments_lexer": "ipython3",
   "version": "3.13.1"
  }
 },
 "nbformat": 4,
 "nbformat_minor": 4
}
