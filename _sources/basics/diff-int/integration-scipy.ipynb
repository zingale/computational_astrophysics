{
 "cells": [
  {
   "cell_type": "markdown",
   "id": "82cd7522-1f42-4769-bcd5-13c62ffb44b8",
   "metadata": {
    "editable": true,
    "slideshow": {
     "slide_type": ""
    },
    "tags": []
   },
   "source": [
    "# SciPy Integration"
   ]
  },
  {
   "cell_type": "markdown",
   "id": "aecde72e-9b72-4bc8-a7de-e621a94b31c3",
   "metadata": {
    "editable": true,
    "slideshow": {
     "slide_type": ""
    },
    "tags": []
   },
   "source": [
    "The [SciPy](https://scipy.org/) library provides a lot of methods for computing integrals:\n",
    "\n",
    "https://docs.scipy.org/doc/scipy/tutorial/integrate.html"
   ]
  },
  {
   "cell_type": "code",
   "execution_count": 1,
   "id": "df9c9162-77ce-43d1-9ba5-6dd5c32e1676",
   "metadata": {
    "editable": true,
    "slideshow": {
     "slide_type": ""
    },
    "tags": []
   },
   "outputs": [],
   "source": [
    "from scipy import integrate\n",
    "import numpy as np"
   ]
  },
  {
   "cell_type": "markdown",
   "id": "1754a7b3-2c10-4082-8850-0ba32ed8daec",
   "metadata": {
    "editable": true,
    "slideshow": {
     "slide_type": ""
    },
    "tags": []
   },
   "source": [
    "## Analytically defined function\n",
    "\n",
    "For a function where you know $f(x)$, [quad](https://docs.scipy.org/doc/scipy/reference/generated/scipy.integrate.quad.html#scipy.integrate.quad)  is a good general purpose integrator."
   ]
  },
  {
   "cell_type": "markdown",
   "id": "35500efa-35b3-4103-a86c-8e9b9375fe6c",
   "metadata": {
    "editable": true,
    "slideshow": {
     "slide_type": ""
    },
    "tags": []
   },
   "source": [
    "Let's compute\n",
    "\n",
    "$$I = \\int_0^{2\\pi} \\sin^2(x) dx$$"
   ]
  },
  {
   "cell_type": "code",
   "execution_count": 2,
   "id": "fa57e83c-dd0d-4d85-9548-c37cd25f0496",
   "metadata": {
    "editable": true,
    "slideshow": {
     "slide_type": ""
    },
    "tags": []
   },
   "outputs": [],
   "source": [
    "I, err = integrate.quad(lambda x: np.sin(x)**2, 0.0, 2.0 * np.pi)"
   ]
  },
  {
   "cell_type": "code",
   "execution_count": 3,
   "id": "0f893617-0e70-4016-855b-711a35283643",
   "metadata": {
    "editable": true,
    "slideshow": {
     "slide_type": ""
    },
    "tags": []
   },
   "outputs": [
    {
     "name": "stdout",
     "output_type": "stream",
     "text": [
      "3.141592653589793\n"
     ]
    }
   ],
   "source": [
    "print(I)"
   ]
  },
  {
   "cell_type": "code",
   "execution_count": 4,
   "id": "e550bfeb-3056-4ca7-a414-c57e92970303",
   "metadata": {
    "editable": true,
    "slideshow": {
     "slide_type": ""
    },
    "tags": []
   },
   "outputs": [
    {
     "name": "stdout",
     "output_type": "stream",
     "text": [
      "2.3058791671639882e-09\n"
     ]
    }
   ],
   "source": [
    "print(err)"
   ]
  },
  {
   "cell_type": "markdown",
   "id": "92813664-4729-4702-9ae8-667740a27361",
   "metadata": {
    "editable": true,
    "slideshow": {
     "slide_type": ""
    },
    "tags": []
   },
   "source": [
    "Notice that it gives us the answer as well as an estimate of the error."
   ]
  },
  {
   "cell_type": "markdown",
   "id": "ba6432a9-fe4e-43bc-b6ce-39eda3c8102e",
   "metadata": {
    "editable": true,
    "slideshow": {
     "slide_type": ""
    },
    "tags": []
   },
   "source": [
    "Sometimes our integrand takes arguments.  Let's integrate\n",
    "\n",
    "$$I = \\int_{-1}^1 A e^{-(x/\\sigma)^2} dx$$"
   ]
  },
  {
   "cell_type": "code",
   "execution_count": 5,
   "id": "feffcf50-a6f8-459b-b685-dd4c079aeb80",
   "metadata": {
    "editable": true,
    "slideshow": {
     "slide_type": ""
    },
    "tags": []
   },
   "outputs": [],
   "source": [
    "def integrand(x, A, sigma):\n",
    "    return A * np.exp(-x**2 / sigma**2)"
   ]
  },
  {
   "cell_type": "code",
   "execution_count": 6,
   "id": "e80d1c42-762b-48dc-8187-d5ff8354cce3",
   "metadata": {
    "editable": true,
    "slideshow": {
     "slide_type": ""
    },
    "tags": []
   },
   "outputs": [
    {
     "name": "stdout",
     "output_type": "stream",
     "text": [
      "1.8451240256511698 2.0484991765669867e-14\n"
     ]
    }
   ],
   "source": [
    "I, err = integrate.quad(integrand, -1.0, 1.0, args=(1.0, 2.0))\n",
    "print(I, err)"
   ]
  },
  {
   "cell_type": "markdown",
   "id": "44bc15a6-05ad-492d-ac27-89302f4cf814",
   "metadata": {
    "editable": true,
    "slideshow": {
     "slide_type": ""
    },
    "tags": []
   },
   "source": [
    "NumPy defines `np.inf` which can be used for integrating to infinity.  So to compute:\n",
    "\n",
    "$$I = \\int_{-\\infty}^{\\infty} A e^{-(x/\\sigma)^2} dx$$\n",
    "\n",
    "we do"
   ]
  },
  {
   "cell_type": "code",
   "execution_count": 8,
   "id": "65c6124d-e3e0-4f66-95ab-011b9a201d42",
   "metadata": {
    "editable": true,
    "slideshow": {
     "slide_type": ""
    },
    "tags": []
   },
   "outputs": [
    {
     "name": "stdout",
     "output_type": "stream",
     "text": [
      "1.7724538509055159 1.420263678094492e-08\n"
     ]
    }
   ],
   "source": [
    "I, err = integrate.quad(integrand, -np.inf, np.inf,\n",
    "                        args=(1.0, 1.0))\n",
    "print(I, err)"
   ]
  },
  {
   "cell_type": "markdown",
   "id": "a3a25880-fee1-4230-b195-e230eeb52a5b",
   "metadata": {
    "editable": true,
    "slideshow": {
     "slide_type": ""
    },
    "tags": []
   },
   "source": [
    "## Pointwise defined function\n",
    "\n",
    "For a function where we only have the value at some samples $\\{ f_i\\}$, we can use Simpson's rule"
   ]
  },
  {
   "cell_type": "markdown",
   "id": "00b4806b-b557-4991-b16d-82dfcd710ed8",
   "metadata": {
    "editable": true,
    "slideshow": {
     "slide_type": ""
    },
    "tags": []
   },
   "source": [
    "Let's compute\n",
    "\n",
    "$$I = \\int_0^{2\\pi} \\sin^2(x) dx$$\n",
    "\n",
    "with $(x_i, f_i)$ defined at $N$ points."
   ]
  },
  {
   "cell_type": "code",
   "execution_count": 12,
   "id": "21705742-e15b-4ccf-9f2f-27166330b759",
   "metadata": {
    "editable": true,
    "slideshow": {
     "slide_type": ""
    },
    "tags": []
   },
   "outputs": [
    {
     "name": "stdout",
     "output_type": "stream",
     "text": [
      "3.141592653589793\n"
     ]
    }
   ],
   "source": [
    "N = 17\n",
    "x = np.linspace(0.0, 2.0*np.pi, N, endpoint=True)\n",
    "y = np.sin(x)**2\n",
    "\n",
    "I = integrate.simpson(y, x=x)\n",
    "print(I)"
   ]
  }
 ],
 "metadata": {
  "kernelspec": {
   "display_name": "Python 3 (ipykernel)",
   "language": "python",
   "name": "python3"
  },
  "language_info": {
   "codemirror_mode": {
    "name": "ipython",
    "version": 3
   },
   "file_extension": ".py",
   "mimetype": "text/x-python",
   "name": "python",
   "nbconvert_exporter": "python",
   "pygments_lexer": "ipython3",
   "version": "3.12.7"
  }
 },
 "nbformat": 4,
 "nbformat_minor": 5
}
