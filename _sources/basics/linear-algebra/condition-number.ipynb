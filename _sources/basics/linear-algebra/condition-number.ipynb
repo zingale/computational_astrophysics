{
 "cells": [
  {
   "cell_type": "markdown",
   "id": "e833a926-525b-4daf-a8e9-44861a3e49be",
   "metadata": {
    "editable": true,
    "slideshow": {
     "slide_type": ""
    },
    "tags": []
   },
   "source": [
    "# Condition Number"
   ]
  },
  {
   "cell_type": "markdown",
   "id": "8229f243-1ebc-4930-bb91-b66bd38f9294",
   "metadata": {
    "editable": true,
    "slideshow": {
     "slide_type": ""
    },
    "tags": []
   },
   "source": [
    "The [_condition number_](https://en.wikipedia.org/wiki/Condition_number) of a matrix is a measure of how close to singular we are.\n",
    "\n",
    "The definition of the condition number for a matrix ${\\bf A}$ is:\n",
    "\n",
    "$$\\mathrm{cond}({\\bf A}) = \\| {\\bf A} \\| \\| {\\bf A}^{-1} \\|$$\n",
    "\n",
    "which requires defining a suitable norm.\n",
    "\n",
    "For a matrix with a large condition number, then when solving the system ${\\bf A}{\\bf x} = {\\bf b}$, a small change in ${\\bf b}$ leads to a large change in ${\\bf x}$.  This makes algorithms like Gaussian elimination inaccurate for matrices with large condition numbers."
   ]
  },
  {
   "cell_type": "markdown",
   "id": "e5ca5835-abc4-4c60-9ffb-dcb70b05dbd2",
   "metadata": {
    "editable": true,
    "slideshow": {
     "slide_type": ""
    },
    "tags": []
   },
   "source": [
    "```{tip}\n",
    "Condition number comes into play with roundoff error, since _for every order of magnitude of the condition number, we lose about 1 digit of accuracy in our solution_, or comparing an exact solution, ${\\bf x}^\\star$ with the computed solution, ${\\bf x}$:\n",
    "\n",
    "$$\\frac{\\| {\\bf x}^\\star - {\\bf x} \\|}{\\| {\\bf x}^\\star \\|} \\approx \\mathrm{cond}({\\bf A}) \\cdot \\epsilon_\\mathrm{machine}$$\n",
    "\n",
    "where $\\epsilon_\\mathrm{machine}$ is the machine epsilon of the floating point format.\n",
    "```"
   ]
  },
  {
   "cell_type": "markdown",
   "id": "78281541-7a24-4696-bd4e-6ea2ca3e2fd1",
   "metadata": {
    "editable": true,
    "slideshow": {
     "slide_type": ""
    },
    "tags": []
   },
   "source": [
    "## Example\n",
    "\n",
    "A nice example is given in the paper [A simple example of an ill-conditioned matrix](https://dl.acm.org/doi/10.1145/1052668.1052672) by G. J. Tee.  Let's work through that example here."
   ]
  },
  {
   "cell_type": "markdown",
   "id": "03ef6af3-7186-440e-b965-9533ef5b3215",
   "metadata": {},
   "source": [
    "Let's start with the matrix:"
   ]
  },
  {
   "cell_type": "code",
   "execution_count": 1,
   "id": "ea621957-bf41-4164-a2ac-1eb2e1e3f147",
   "metadata": {
    "editable": true,
    "slideshow": {
     "slide_type": ""
    },
    "tags": []
   },
   "outputs": [],
   "source": [
    "import numpy as np"
   ]
  },
  {
   "cell_type": "code",
   "execution_count": 7,
   "id": "643a649b-8b5c-4bcc-943d-c045af73d298",
   "metadata": {
    "tags": []
   },
   "outputs": [
    {
     "data": {
      "text/plain": [
       "array([[ 11.,  10.,  14.],\n",
       "       [ 12.,  11., -13.],\n",
       "       [ 14.,  13., -66.]])"
      ]
     },
     "execution_count": 7,
     "metadata": {},
     "output_type": "execute_result"
    }
   ],
   "source": [
    "A = np.array([[11, 10, 14],\n",
    "              [12, 11, -13],\n",
    "              [14, 13, -66]], dtype=np.float64)\n",
    "A"
   ]
  },
  {
   "cell_type": "markdown",
   "id": "a5e560c8-c6d5-462e-b34e-5fcebbe116d9",
   "metadata": {
    "tags": []
   },
   "source": [
    "We can compute the determinant:"
   ]
  },
  {
   "cell_type": "code",
   "execution_count": 8,
   "id": "d0c18695-8d3c-45e4-9d10-175f3f17ccdb",
   "metadata": {
    "tags": []
   },
   "outputs": [
    {
     "data": {
      "text/plain": [
       "1.0000000000000033"
      ]
     },
     "execution_count": 8,
     "metadata": {},
     "output_type": "execute_result"
    }
   ],
   "source": [
    "np.linalg.det(A)"
   ]
  },
  {
   "cell_type": "markdown",
   "id": "44ec141f-64e9-45f5-aac7-208bdc95f7f4",
   "metadata": {},
   "source": [
    "We see that it is non-singular.  But it is quite close to being singular.  To see this, we can perturb the middle element slightly:"
   ]
  },
  {
   "cell_type": "code",
   "execution_count": 9,
   "id": "eb3c7999-7e29-41f9-9cda-3fd2a0d46931",
   "metadata": {
    "tags": []
   },
   "outputs": [
    {
     "data": {
      "text/plain": [
       "array([[ 11.       ,  10.       ,  14.       ],\n",
       "       [ 12.       ,  11.0010846, -13.       ],\n",
       "       [ 14.       ,  13.       , -66.       ]])"
      ]
     },
     "execution_count": 9,
     "metadata": {},
     "output_type": "execute_result"
    }
   ],
   "source": [
    "B = A.copy()\n",
    "B[1, 1] += 1./922.\n",
    "B"
   ]
  },
  {
   "cell_type": "code",
   "execution_count": 10,
   "id": "0f596f3c-f798-4306-bc08-e0a8d0310c04",
   "metadata": {
    "tags": []
   },
   "outputs": [
    {
     "data": {
      "text/plain": [
       "1.5987211554602194e-14"
      ]
     },
     "execution_count": 10,
     "metadata": {},
     "output_type": "execute_result"
    }
   ],
   "source": [
    "np.linalg.det(B)"
   ]
  },
  {
   "cell_type": "markdown",
   "id": "35b1cc55-1033-4899-81ec-9a1ec385ec12",
   "metadata": {},
   "source": [
    "We see that that small perturbation essentially makes it singular (it would be algebraically singular, but our small number near machine epsilon is due to roundoff)."
   ]
  },
  {
   "cell_type": "markdown",
   "id": "dec81b55-9e06-4cb6-b178-ff2357cabbad",
   "metadata": {},
   "source": [
    "What is the condition number?"
   ]
  },
  {
   "cell_type": "code",
   "execution_count": 11,
   "id": "c7e47b40-aac0-4547-8157-43f849342be2",
   "metadata": {
    "tags": []
   },
   "outputs": [
    {
     "data": {
      "text/plain": [
       "111039.44853422188"
      ]
     },
     "execution_count": 11,
     "metadata": {},
     "output_type": "execute_result"
    }
   ],
   "source": [
    "np.linalg.cond(A)"
   ]
  },
  {
   "cell_type": "markdown",
   "id": "908e6bc3-3e2e-4522-a6a5-6b46528aca3e",
   "metadata": {},
   "source": [
    "That's quite large."
   ]
  },
  {
   "cell_type": "markdown",
   "id": "fed4c156-bcb2-4fdb-a30e-eb5bcee34b66",
   "metadata": {},
   "source": [
    "Let's consider solving:\n",
    "\n",
    "$${\\bf A}{\\bf x} = {\\bf b}$$\n",
    "\n",
    "with\n",
    "\n",
    "$${\\bf b} = \\left ( \\begin{array}{c} 1.001 \\\\ 0.999 \\\\ 1.001\\end{array} \\right )$$"
   ]
  },
  {
   "cell_type": "code",
   "execution_count": 19,
   "id": "b8ec63ac-d2bf-4200-9415-5c54bf1d6073",
   "metadata": {
    "tags": []
   },
   "outputs": [
    {
     "data": {
      "text/plain": [
       "array([-0.683,  0.843,  0.006])"
      ]
     },
     "execution_count": 19,
     "metadata": {},
     "output_type": "execute_result"
    }
   ],
   "source": [
    "b = np.array([1.001, 0.999, 1.001])\n",
    "x = np.linalg.solve(A, b)\n",
    "x"
   ]
  },
  {
   "cell_type": "markdown",
   "id": "f9d02ff1-6e85-47f6-be9e-ab7cf0366fea",
   "metadata": {
    "tags": []
   },
   "source": [
    "Now consider a small perturbation:\n",
    "    \n",
    "$${\\bf b} \\rightarrow \\left ( \\begin{array}{c} 1 \\\\  1 \\\\ 1 \\end{array} \\right )$$\n",
    "\n",
    "We can think of this as:\n",
    "\n",
    "$${\\bf A}({\\bf x} + \\delta{\\bf x}) = {\\bf b} + \\delta {\\bf b}$$\n",
    "\n",
    "And since we are doing a small perturbation to ${\\bf b}$, $\\delta {\\bf b}$, we would expect the correction to ${\\bf x}$, $\\delta {\\bf x}$, to also be small.\n",
    "\n",
    "Let's solve the new system:"
   ]
  },
  {
   "cell_type": "code",
   "execution_count": 20,
   "id": "d4689ad5-2355-46a9-bda4-881856cb6f12",
   "metadata": {
    "tags": []
   },
   "outputs": [
    {
     "data": {
      "text/plain": [
       "array([ 1.00000000e+00, -1.00000000e+00, -1.34812796e-16])"
      ]
     },
     "execution_count": 20,
     "metadata": {},
     "output_type": "execute_result"
    }
   ],
   "source": [
    "b2 = np.array([1.0, 1.0, 1.0])\n",
    "x2 = np.linalg.solve(A, b2)\n",
    "x2"
   ]
  },
  {
   "cell_type": "markdown",
   "id": "b9ada465-8994-40dd-ab15-bbdf69be06cd",
   "metadata": {},
   "source": [
    "so a $1\\%$ change in the righthand side, ${\\bf b}$ leads to a $\\sim 240\\%$ change in the solution, ${\\bf x}$.  This is not a small difference, and illustrates the behavior of a large condition number."
   ]
  }
 ],
 "metadata": {
  "kernelspec": {
   "display_name": "Python 3 (ipykernel)",
   "language": "python",
   "name": "python3"
  },
  "language_info": {
   "codemirror_mode": {
    "name": "ipython",
    "version": 3
   },
   "file_extension": ".py",
   "mimetype": "text/x-python",
   "name": "python",
   "nbconvert_exporter": "python",
   "pygments_lexer": "ipython3",
   "version": "3.13.2"
  }
 },
 "nbformat": 4,
 "nbformat_minor": 5
}
