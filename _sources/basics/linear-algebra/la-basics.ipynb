{
 "cells": [
  {
   "cell_type": "markdown",
   "metadata": {
    "editable": true,
    "slideshow": {
     "slide_type": ""
    },
    "tags": []
   },
   "source": [
    "# Review of Matrices"
   ]
  },
  {
   "cell_type": "markdown",
   "metadata": {
    "editable": true,
    "slideshow": {
     "slide_type": ""
    },
    "tags": []
   },
   "source": [
    "There are a lot of situations that we'll see lead to needing to solve a linear system of the form:\n",
    "\n",
    "$${\\bf A} {\\bf x} = {\\bf b}$$\n",
    "\n",
    "where ${\\bf A}$ is a matrix, ${\\bf b}$ is a known vector, and ${\\bf x}$ is the unknown vector we want to find.\n",
    "\n",
    "We'll start by looking at general methods, but there are lots of specialized ways to solve a linear system depending on the properties of the matrix ${\\bf A}$."
   ]
  },
  {
   "cell_type": "markdown",
   "metadata": {
    "editable": true,
    "slideshow": {
     "slide_type": ""
    },
    "tags": []
   },
   "source": [
    "```{tip}\n",
    "Numerical linear algebra can tricky and its easy to do things wrong.  Here's a nice summary: [Seven Sins of Numerical Linear Algebra](https://nhigham.com/2022/10/11/seven-sins-of-numerical-linear-algebra/)\n",
    "```"
   ]
  },
  {
   "cell_type": "markdown",
   "metadata": {
    "editable": true,
    "slideshow": {
     "slide_type": ""
    },
    "tags": []
   },
   "source": [
    "Before we look at methods for solving linear systems, we'll start with reviewing some of the methods we learned in the past."
   ]
  },
  {
   "cell_type": "markdown",
   "metadata": {},
   "source": [
    "## Matrix-vector multiplication\n",
    "\n",
    "Consider multiplying matrix ${\\bf A}$ and vector ${\\bf x}$ as ${\\bf A}{\\bf x} = {\\bf b}$.  Take:\n",
    "\n",
    "* ${\\bf A}$ to be an $m\\times n$ matrix\n",
    "* ${\\bf x}$ to be an $n\\times 1$ (column) vector\n",
    "* ${\\bf b}$ will be an $m\\times 1$ (column) vector\n",
    "\n",
    "The multiplication looks like:\n",
    "\n",
    "$$b_i = (A x)_i = \\sum_{j=1}^M A_{ij} x_j$$"
   ]
  },
  {
   "cell_type": "markdown",
   "metadata": {},
   "source": [
    "Python has it's own matrix multiplication operator, `@`, that works with NumPy arrays, so an example of this operation would be"
   ]
  },
  {
   "cell_type": "code",
   "execution_count": 1,
   "metadata": {
    "editable": true,
    "slideshow": {
     "slide_type": ""
    },
    "tags": []
   },
   "outputs": [],
   "source": [
    "import numpy as np"
   ]
  },
  {
   "cell_type": "code",
   "execution_count": 2,
   "metadata": {},
   "outputs": [
    {
     "data": {
      "text/plain": [
       "array([[ 0,  1,  2],\n",
       "       [ 3,  4,  5],\n",
       "       [ 6,  7,  8],\n",
       "       [ 9, 10, 11]])"
      ]
     },
     "execution_count": 2,
     "metadata": {},
     "output_type": "execute_result"
    }
   ],
   "source": [
    "A = np.arange(12).reshape(4, 3)\n",
    "A"
   ]
  },
  {
   "cell_type": "code",
   "execution_count": 3,
   "metadata": {},
   "outputs": [],
   "source": [
    "x = np.array([1, -1, 1])"
   ]
  },
  {
   "cell_type": "code",
   "execution_count": 4,
   "metadata": {},
   "outputs": [
    {
     "data": {
      "text/plain": [
       "array([ 1,  4,  7, 10])"
      ]
     },
     "execution_count": 4,
     "metadata": {},
     "output_type": "execute_result"
    }
   ],
   "source": [
    "A @ x"
   ]
  },
  {
   "cell_type": "markdown",
   "metadata": {},
   "source": [
    "Here we see `A` is a 4x3 matrix and x is a vector of 3 elements, so the result is a 4 element vector.\n",
    "\n",
    "Instead of using `@`, we can explicitly write out the multiplication ourselves to see the operations:"
   ]
  },
  {
   "cell_type": "code",
   "execution_count": 5,
   "metadata": {},
   "outputs": [],
   "source": [
    "b = np.zeros(A.shape[0])\n",
    "for i in range(A.shape[0]):       # loop over rows\n",
    "    for j in range(A.shape[1]):   # loop over columns\n",
    "        b[i] += A[i, j] * x[j]"
   ]
  },
  {
   "cell_type": "code",
   "execution_count": 6,
   "metadata": {},
   "outputs": [
    {
     "data": {
      "text/plain": [
       "array([ 1.,  4.,  7., 10.])"
      ]
     },
     "execution_count": 6,
     "metadata": {},
     "output_type": "execute_result"
    }
   ],
   "source": [
    "b"
   ]
  },
  {
   "cell_type": "markdown",
   "metadata": {},
   "source": [
    "We see that there are 2 loops in our implementation.  This means that for a square matrix of size NxN, the number of multiplications scales as $\\mathcal{O}(N^2)$"
   ]
  },
  {
   "cell_type": "markdown",
   "metadata": {},
   "source": [
    "## Matrix-matrix multiplication\n",
    "\n",
    "Now we can consider the case of multiplying 2 matrices ${\\bf C} = {\\bf A}{\\bf B}$.  Now we essentially do a dot product of each row in $A$ with each column of $B$.  This looks like:\n",
    "\n",
    "$$C_{ij} = (AB)_{ij} = \\sum_{k=1}^N A_{ik} B_{kj}$$\n",
    "\n",
    "Again, we can use the python `@` operator:"
   ]
  },
  {
   "cell_type": "code",
   "execution_count": 7,
   "metadata": {},
   "outputs": [],
   "source": [
    "B = np.array([[1, -1, 2, 3, 0],\n",
    "              [2, -2, 1, 5, -7],\n",
    "              [-1, 3, 4, -8, 3]])"
   ]
  },
  {
   "cell_type": "code",
   "execution_count": 8,
   "metadata": {},
   "outputs": [
    {
     "data": {
      "text/plain": [
       "array([[  0,   4,   9, -11,  -1],\n",
       "       [  6,   4,  30, -11, -13],\n",
       "       [ 12,   4,  51, -11, -25],\n",
       "       [ 18,   4,  72, -11, -37]])"
      ]
     },
     "execution_count": 8,
     "metadata": {},
     "output_type": "execute_result"
    }
   ],
   "source": [
    "A @ B"
   ]
  },
  {
   "cell_type": "markdown",
   "metadata": {},
   "source": [
    "Now we see that `A` is a 4x3 matrix and `B` is a 3x5 matrix, so the result is a 4x5 matrix.  \n",
    "\n",
    "Again, we can explicitly write this ourselves to see the details:"
   ]
  },
  {
   "cell_type": "code",
   "execution_count": 9,
   "metadata": {},
   "outputs": [],
   "source": [
    "assert A.shape[1] == B.shape[0]\n",
    "C = np.zeros((A.shape[0], B.shape[1]))\n",
    "for i in range(C.shape[0]):           # loop over rows of C\n",
    "    for j in range(C.shape[1]):       # loop over columns of C\n",
    "        for k in range(A.shape[1]):   # filling element C[i,j] via inner product\n",
    "            C[i, j] += A[i, k] * B[k, j]"
   ]
  },
  {
   "cell_type": "code",
   "execution_count": 10,
   "metadata": {},
   "outputs": [
    {
     "data": {
      "text/plain": [
       "array([[  0.,   4.,   9., -11.,  -1.],\n",
       "       [  6.,   4.,  30., -11., -13.],\n",
       "       [ 12.,   4.,  51., -11., -25.],\n",
       "       [ 18.,   4.,  72., -11., -37.]])"
      ]
     },
     "execution_count": 10,
     "metadata": {},
     "output_type": "execute_result"
    }
   ],
   "source": [
    "C"
   ]
  },
  {
   "cell_type": "markdown",
   "metadata": {},
   "source": [
    "Now we see that there are 3 loops, which means that for square matrices, matrix multiplication scales like $\\mathcal{O}(N^3)$."
   ]
  },
  {
   "cell_type": "markdown",
   "metadata": {},
   "source": [
    "```{note}\n",
    "If the matrix has some symmetries, it is possible to reduce the cost of the multiplication.  Making use of repeated work can also reduce the cost in the general case (see \n",
    "https://en.wikipedia.org/wiki/Matrix_multiplication#Computational_complexity)\n",
    "```"
   ]
  },
  {
   "cell_type": "markdown",
   "metadata": {
    "tags": []
   },
   "source": [
    "## Determinant\n",
    "\n",
    "A determinant operates on a square matrix and returns a scalar that characterizes the matrix.  For our purposes, the most important property of a determinant is that a linear system, ${\\bf A}{\\bf x} = {\\bf b}$ is solvable only if the determinant of ${\\bf A}$ is nonzero.\n",
    "\n",
    "Some common ways to note the determinant operation are:\n",
    "\n",
    "  * $|{\\bf A}|$\n",
    "\n",
    "  * $\\mathrm{det}({\\bf A})$\n",
    "  \n",
    "Computing the determinant for small matrices is straightforward:\n",
    "\n",
    "$$\\left | \\begin{array}{cc} a & b \\\\\n",
    "                            c & d \\end{array} \\right | = ad - bc$$\n",
    "                            \n",
    "$$\\left | \\begin{array}{ccc} a & b & c \\\\\n",
    "                             d & e & f \\\\\n",
    "                             g & h & i \\end{array} \\right | =\n",
    "                             a \\left | \\begin{array}{cc} e & f \\\\ h & i \\end{array} \\right | -\n",
    "                             b \\left | \\begin{array}{cc} d & f \\\\ g & i \\end{array} \\right | +\n",
    "                             c \\left | \\begin{array}{cc} d & e \\\\ g & h \\end{array} \\right |$$\n",
    "\n",
    "where the 3x3 case shown above is an example of [Laplace expansion](https://en.wikipedia.org/wiki/Laplace_expansion)."
   ]
  },
  {
   "cell_type": "markdown",
   "metadata": {
    "tags": []
   },
   "source": [
    "```{tip}\n",
    "While this can be extended to larger matrices, it becomes computationally expensive, and we will see a more natural way of getting the determinant as part of solving the linear system ${\\bf A}{\\bf x} = {\\bf b}$.\n",
    "```"
   ]
  },
  {
   "cell_type": "markdown",
   "metadata": {},
   "source": [
    "## Inverse\n",
    "\n",
    "For a matrix ${\\bf A}$, the inverse, ${\\bf A}^{-1}$ is defined such that\n",
    "\n",
    "$${\\bf A}{\\bf A}^{-1} = {\\bf A}^{-1} {\\bf A} = {\\bf I}$$"
   ]
  },
  {
   "cell_type": "markdown",
   "metadata": {},
   "source": [
    "```{note}\n",
    "From this definition, we might thing that the way to solve the linear system ${\\bf A}{\\bf x} = {\\bf b}$ is to first compute the inverse of ${\\bf A}$ and then do:\n",
    "\n",
    "$${\\bf x} = {\\bf A}^{-1} {\\bf b}$$\n",
    "\n",
    "However, computing the inverse of a matrix is very computationally expensive, and we'll see that there are easier ways to directly solve the linear system.\n",
    "```"
   ]
  },
  {
   "cell_type": "markdown",
   "metadata": {},
   "source": [
    "## Vector norm"
   ]
  },
  {
   "cell_type": "markdown",
   "metadata": {},
   "source": [
    "Given a vector ${\\bf v} = \\{v_1, v_2, ..., v_{N}\\}$ we sometimes want a single number that represents\n",
    "a measure of its size---this is a [vector norm](https://en.wikipedia.org/wiki/Norm_(mathematics)).  We usually\n",
    "write this as $\\| {\\bf v} \\|$.\n",
    "\n",
    "There are many potential definitions.  The *p-norm* is defined as:\n",
    "\n",
    "$$\\| {\\bf v} \\|_p = \\left ( \\sum_{i=1}^N |v_i|^p \\right )^{1/p}$$\n",
    "\n",
    "Some common choices are:\n",
    "\n",
    "* $p = 1$:\n",
    "\n",
    "  $$\\| {\\bf v} \\|_1 =  \\sum_{i=1}^N |v_i|$$\n",
    "  \n",
    "* $p = 2$ (Eucledian norm):\n",
    "\n",
    "  $$\\| {\\bf v} \\|_2 = \\left ( \\sum_{i=1}^N |v_i|^2 \\right )^{1/2}$$\n",
    "\n",
    "* $p = \\infty$ (infinity norm):\n",
    "\n",
    "  $$\\|{\\bf v}\\|_\\infty = \\max_i |x_i|$$"
   ]
  },
  {
   "cell_type": "markdown",
   "metadata": {},
   "source": [
    "Defining a [matrix norm](https://en.wikipedia.org/wiki/Matrix_norm) is more complicated."
   ]
  }
 ],
 "metadata": {
  "kernelspec": {
   "display_name": "Python 3 (ipykernel)",
   "language": "python",
   "name": "python3"
  },
  "language_info": {
   "codemirror_mode": {
    "name": "ipython",
    "version": 3
   },
   "file_extension": ".py",
   "mimetype": "text/x-python",
   "name": "python",
   "nbconvert_exporter": "python",
   "pygments_lexer": "ipython3",
   "version": "3.13.2"
  }
 },
 "nbformat": 4,
 "nbformat_minor": 4
}
