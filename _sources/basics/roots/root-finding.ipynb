{
 "cells": [
  {
   "cell_type": "markdown",
   "metadata": {},
   "source": [
    "# Root finding"
   ]
  },
  {
   "cell_type": "markdown",
   "metadata": {},
   "source": [
    "We want to find the value of $x$ such that $f(x) = 0$, for a general function $f(x)$.  This is the *root-finding* problem.\n",
    "\n",
    "There are lots of different methods for finding roots.  We'll look at 2.\n",
    "\n",
    "Let's start by trying to find the root of \n",
    "\n",
    "$$f(x) = \\frac{1}{2} x^3 + \\frac{\\pi}{3}x + 2$$\n",
    "\n"
   ]
  },
  {
   "cell_type": "code",
   "execution_count": 1,
   "metadata": {
    "editable": true,
    "slideshow": {
     "slide_type": ""
    },
    "tags": []
   },
   "outputs": [],
   "source": [
    "import numpy as np\n",
    "import matplotlib.pyplot as plt"
   ]
  },
  {
   "cell_type": "code",
   "execution_count": 2,
   "metadata": {},
   "outputs": [],
   "source": [
    "def f(x):\n",
    "    return 0.5*x**3 + np.pi/3 * x + 2"
   ]
  },
  {
   "cell_type": "markdown",
   "metadata": {},
   "source": [
    "## Bisection"
   ]
  },
  {
   "cell_type": "markdown",
   "metadata": {},
   "source": [
    "Let's start by plotting the function&mdash;we already have a decision to make.  We want to pick a range where we expect there to be a root.  So we will make a somewhat generous range."
   ]
  },
  {
   "cell_type": "code",
   "execution_count": 3,
   "metadata": {},
   "outputs": [
    {
     "data": {
      "image/png": "[encoded data removed]",
      "text/plain": [
       "<Figure size 640x480 with 1 Axes>"
      ]
     },
     "metadata": {},
     "output_type": "display_data"
    }
   ],
   "source": [
    "x = np.linspace(-3, 3, 1000)\n",
    "\n",
    "fig = plt.figure()\n",
    "ax = fig.add_subplot(111)\n",
    "\n",
    "# plot our function\n",
    "ax.plot(x, f(x))\n",
    "\n",
    "# also plot y = 0, so we can see visually where the root lies\n",
    "ax.plot(x, 0*x, linestyle=\":\", color=\"0.5\")\n",
    "ax.grid()"
   ]
  },
  {
   "cell_type": "markdown",
   "metadata": {},
   "source": [
    "Notice from this that the function crosses $y = 0$ near $x = -1$.  So just from the graph we have an approximation of the root.\n",
    "\n",
    "But also notice that to the left of the root, $f(x) < 0$, and to the right of the root, $f(x) > 0$.  \n",
    "\n",
    "So we can locate the root by looking for the region where $f(x)$ changes sign.  This is what bisection does&mdash;we pick an interval where we expect there to be a root and we narrow the interval by looking for the half-interval where $f(x)$ still changes sign."
   ]
  },
  {
   "cell_type": "markdown",
   "metadata": {},
   "source": [
    "Looking at the plot, we expect that the root lies between $[-2, -1]$&mdash;we'll call these the left and right points $x_l$ and $x_r$.\n",
    "\n",
    "We can be sure by looking at the function values at those two points and checking if it indeed changes sign."
   ]
  },
  {
   "cell_type": "code",
   "execution_count": 4,
   "metadata": {},
   "outputs": [
    {
     "name": "stdout",
     "output_type": "stream",
     "text": [
      "-4.094395102393195 0.45280244880340237\n"
     ]
    }
   ],
   "source": [
    "xl = -2\n",
    "xr = -1\n",
    "\n",
    "print(f(xl), f(xr))"
   ]
  },
  {
   "cell_type": "markdown",
   "metadata": {},
   "source": [
    "It does!.  Now we can try to narrow the range.  For the bisection method, we'll look at the point in the middle (we'll call that $x_m$):"
   ]
  },
  {
   "cell_type": "code",
   "execution_count": 5,
   "metadata": {},
   "outputs": [
    {
     "name": "stdout",
     "output_type": "stream",
     "text": [
      "-1.2582963267948966\n"
     ]
    }
   ],
   "source": [
    "xm = 0.5 * (xl + xr)\n",
    "print(f(xm))"
   ]
  },
  {
   "cell_type": "markdown",
   "metadata": {},
   "source": [
    "$f(x_m) < 0$ just like $f(x_l)$, therefore, it must be the case that that our root, $x_0 \\in [x_m, x_r]$.\n",
    "\n",
    "So we now have cut the range in half.  We can then repeat this process, each time cutting the range where the root lies in half.  Once the interval containing the root is small enough (e.g., the width is less than the error with which we want to know the root), then we stop."
   ]
  },
  {
   "cell_type": "markdown",
   "metadata": {},
   "source": [
    "Let's code this idea up"
   ]
  },
  {
   "cell_type": "code",
   "execution_count": 6,
   "metadata": {},
   "outputs": [],
   "source": [
    "def bisect(xl, xr, func, tol=1.e-8):\n",
    "    \"\"\"find the zero of func(x) in the interval [xl, xr]\"\"\"\n",
    "    \n",
    "    # first check if there is a root in the interval\n",
    "    fl = func(xl)\n",
    "    fr = func(xr)\n",
    "    \n",
    "    if fl * fr > 0:\n",
    "        print(\"no root in the interval\")\n",
    "        return None\n",
    "    \n",
    "    # now setup our iteration loop.  We will keep looping until\n",
    "    # the relative error is < tol\n",
    "    err = 1.e10\n",
    "    xm = 0.5 * (xl + xr)\n",
    "\n",
    "    while err > tol:\n",
    "        fm = func(xm)\n",
    "        \n",
    "        if fl*fm > 0:\n",
    "            # the root is in the right half of the interval\n",
    "            xl = xm\n",
    "            fl = fm\n",
    "        else:\n",
    "            # the root is in the left half of the interval\n",
    "            xr = xm\n",
    "            fr = fm\n",
    "        \n",
    "        xm = 0.5 * (xl + xr)\n",
    "        err = np.abs(xr - xl) / np.abs(xm)\n",
    "        \n",
    "    return xm"
   ]
  },
  {
   "cell_type": "markdown",
   "metadata": {},
   "source": [
    "Notice that for `err`, we use a _relative error_&mdash;this is because depending on the function, the magnitude of the root $x_0$ may be $|x_0| \\gg 1$.\n",
    "\n",
    "Now we can call it by giving it a range and the function we wish to zero"
   ]
  },
  {
   "cell_type": "code",
   "execution_count": 7,
   "metadata": {},
   "outputs": [
    {
     "data": {
      "text/plain": [
       "-1.161565298534697"
      ]
     },
     "execution_count": 7,
     "metadata": {},
     "output_type": "execute_result"
    }
   ],
   "source": [
    "x0 = bisect(-2, -1, f, tol=1.e-10)\n",
    "x0"
   ]
  },
  {
   "cell_type": "markdown",
   "metadata": {},
   "source": [
    "Did we get it right?  We can evaluate $f(x)$ at $x_0$:"
   ]
  },
  {
   "cell_type": "code",
   "execution_count": 8,
   "metadata": {},
   "outputs": [
    {
     "data": {
      "text/plain": [
       "6.193801027620793e-11"
      ]
     },
     "execution_count": 8,
     "metadata": {},
     "output_type": "execute_result"
    }
   ],
   "source": [
    "f(x0)"
   ]
  },
  {
   "cell_type": "markdown",
   "metadata": {},
   "source": [
    "That's pretty close to 0!"
   ]
  },
  {
   "cell_type": "markdown",
   "metadata": {},
   "source": [
    "Bisection convergece slowly&mdash;each iteration cuts the interval in half, so a lot of iterations may be needed to find the zero to the accuracy you want."
   ]
  },
  {
   "cell_type": "markdown",
   "metadata": {
    "editable": true,
    "slideshow": {
     "slide_type": ""
    },
    "tags": []
   },
   "source": [
    "```{admonition} Exercise\n",
    "Consider the function \n",
    "\n",
    "$$g(x) = x^2$$\n",
    "\n",
    "What happens when you try to use bisection on this? why?\n",
    "```"
   ]
  },
  {
   "cell_type": "code",
   "execution_count": 9,
   "metadata": {
    "editable": true,
    "slideshow": {
     "slide_type": ""
    },
    "tags": []
   },
   "outputs": [
    {
     "name": "stdout",
     "output_type": "stream",
     "text": [
      "no root in the interval\n"
     ]
    }
   ],
   "source": [
    "def g(x):\n",
    "    return x**2\n",
    "\n",
    "bisect(-1, 1, g)"
   ]
  },
  {
   "cell_type": "markdown",
   "metadata": {
    "tags": [
     "hide-cell"
    ]
   },
   "source": [
    "Look at the function: there is no change in sign, even though there is a root at $x = 0$.  Bisection cannot find the root in this case."
   ]
  },
  {
   "cell_type": "code",
   "execution_count": 10,
   "metadata": {
    "tags": []
   },
   "outputs": [
    {
     "data": {
      "text/plain": [
       "[<matplotlib.lines.Line2D at 0x7ff5cc7a20d0>]"
      ]
     },
     "execution_count": 10,
     "metadata": {},
     "output_type": "execute_result"
    },
    {
     "data": {
      "image/png": "[encoded data removed]",
      "text/plain": [
       "<Figure size 640x480 with 1 Axes>"
      ]
     },
     "metadata": {},
     "output_type": "display_data"
    }
   ],
   "source": [
    "x = np.linspace(-1, 1, 100)\n",
    "fig, ax = plt.subplots()\n",
    "ax.plot(x, g(x))"
   ]
  },
  {
   "cell_type": "markdown",
   "metadata": {},
   "source": [
    "## Newton-Raphson"
   ]
  },
  {
   "cell_type": "markdown",
   "metadata": {},
   "source": [
    "The Newton-Raphson approach will often converge faster than bisection.  Instead of starting with a bracket containing the root, you start with an initial guess for the root, $x_0$.  We can then Taylor-expand around our guess:\n",
    "\n",
    "$$f(x_0 + \\delta x) = f(x_0) + f^\\prime(x_0) \\delta x + \\mathcal{O}(\\delta x^2)$$\n",
    "\n",
    "Here, $\\delta x$ is the correction to $x_0$ that gives us our root, i.e., $f(x_0 + \\delta x) = 0$.\n",
    "\n",
    "If our initial guess is good, then $\\delta x$ is small, and we can neglect the higher-order terms in the expansion, and we have:\n",
    "\n",
    "$$f(x_0 + \\delta x) \\approx f(x_0) + f^\\prime(x_0) \\delta x = 0$$\n",
    "\n",
    "Solving for our correction, we have:\n",
    "\n",
    "$$\\delta x = -\\frac{f(x_0)}{f^\\prime(x_0)}$$\n",
    "\n",
    "We can correct our initial guess: $x_0 \\rightarrow x_0 + \\delta x$ and repeat the process until $|\\delta x| \\ll |x_0|$.\n",
    "\n",
    "One complication compared with bisection is that we need the derivative, $f^\\prime(x)$ now.  Usually we'll want to provide the analytic derivative (but if needed, we could do a difference approximation)."
   ]
  },
  {
   "cell_type": "markdown",
   "metadata": {},
   "source": [
    "We can understand Newton's method graphically as follows.  At each iteration, we have a guess for the root.  We follow the slope of the function, $f^\\prime$ from that guess to where the slope intercepts the x-axis.  The x-intercept of the slope becomes our new guess and we repeat.  \n",
    "\n",
    "For our function, starting with $x_0 = 3$, this looks like:\n",
    "\n",
    "![Newton iter 0](newton_00.png)\n",
    "\n",
    "The function evaluated at our initial guess, $f(x_0)$ is labeled `0`.  We look at the derivatve there and follow it down to the x-axis and get a new guess for the root (which we mark with a red \"x\").\n",
    "\n",
    "Then we repeat, starting with this new guess:\n",
    "\n",
    "![Newton iter 1](newton_01.png)\n",
    "\n",
    "and again:\n",
    "\n",
    "![Newton iter 2](newton_02.png)\n",
    "\n",
    "Already in this 3rd iteration our new estimate for the root is quite good."
   ]
  },
  {
   "cell_type": "markdown",
   "metadata": {},
   "source": [
    "To code this up, we need to provide the derivative of our function above"
   ]
  },
  {
   "cell_type": "code",
   "execution_count": 11,
   "metadata": {},
   "outputs": [],
   "source": [
    "def fprime(x):\n",
    "    return 1.5*x**2 + np.pi/3.0"
   ]
  },
  {
   "cell_type": "code",
   "execution_count": 12,
   "metadata": {},
   "outputs": [],
   "source": [
    "def newton(x0, func, funcprime, tol=1.e-8):\n",
    "    \"\"\"find the root of func(x) using Newton's method, taking\n",
    "    x0 as an initial guess\"\"\"\n",
    "    \n",
    "    err = 1.e10\n",
    "    \n",
    "    while err > tol:\n",
    "        dx = -func(x0) / funcprime(x0)\n",
    "        x0 += dx\n",
    "        \n",
    "        # be careful about dividing by 0 for |x| ~ 0\n",
    "        if np.abs(x0) < tol:\n",
    "            err = np.abs(dx)\n",
    "        else:\n",
    "            err = np.abs(dx) / np.abs(x0)\n",
    "        \n",
    "    return x0"
   ]
  },
  {
   "cell_type": "markdown",
   "metadata": {},
   "source": [
    "Let's start with $x_0 = 3$, just like the figures above:"
   ]
  },
  {
   "cell_type": "code",
   "execution_count": 13,
   "metadata": {},
   "outputs": [
    {
     "data": {
      "text/plain": [
       "-1.1615652985548652"
      ]
     },
     "execution_count": 13,
     "metadata": {},
     "output_type": "execute_result"
    }
   ],
   "source": [
    "x0 = 3\n",
    "newton(x0, f, fprime)"
   ]
  },
  {
   "cell_type": "markdown",
   "metadata": {
    "editable": true,
    "slideshow": {
     "slide_type": ""
    },
    "tags": []
   },
   "source": [
    "```{admonition} Exercise\n",
    "Following up on the previous exercise.  Try finding the root of \n",
    "    \n",
    "$$g(x) = x^2$$\n",
    "    \n",
    "using Newton's method.  How many iterations are needed to reach your error?\n",
    "```"
   ]
  },
  {
   "cell_type": "code",
   "execution_count": 14,
   "metadata": {
    "editable": true,
    "slideshow": {
     "slide_type": ""
    },
    "tags": []
   },
   "outputs": [
    {
     "data": {
      "text/plain": [
       "5.587935447692871e-09"
      ]
     },
     "execution_count": 14,
     "metadata": {},
     "output_type": "execute_result"
    }
   ],
   "source": [
    "def gprime(x):\n",
    "    return 2*x\n",
    "\n",
    "x0 = 3\n",
    "newton(x0, g, gprime)"
   ]
  },
  {
   "cell_type": "markdown",
   "metadata": {},
   "source": [
    "What about multiple roots?  Newton's method takes a single initial guess and it (may) converge to a single root.  By changing the initial guess, we might converge to a different root (if one exists).\n",
    "\n",
    "Consider the following function:"
   ]
  },
  {
   "cell_type": "code",
   "execution_count": 15,
   "metadata": {},
   "outputs": [
    {
     "data": {
      "image/png": "[encoded data removed]",
      "text/plain": [
       "<Figure size 640x480 with 1 Axes>"
      ]
     },
     "metadata": {},
     "output_type": "display_data"
    }
   ],
   "source": [
    "def h(x):\n",
    "    return x**4 - 2*x**3 + 1\n",
    "\n",
    "def hprime(x):\n",
    "    return 4*x**3 - 6*x**2\n",
    "\n",
    "x = np.linspace(-2,3,100)\n",
    "\n",
    "fig, ax = plt.subplots()\n",
    "ax.plot(x, h(x))\n",
    "ax.grid()"
   ]
  },
  {
   "cell_type": "markdown",
   "metadata": {
    "editable": true,
    "slideshow": {
     "slide_type": ""
    },
    "tags": []
   },
   "source": [
    "```{admonition} Exercise    \n",
    "There are 2 real roots.  Find both using Newton's method.\n",
    "```"
   ]
  },
  {
   "cell_type": "markdown",
   "metadata": {
    "editable": true,
    "slideshow": {
     "slide_type": ""
    },
    "tags": []
   },
   "source": [
    "Now our initial guess will matter.  Let's pick a value way to the right and see what happens"
   ]
  },
  {
   "cell_type": "code",
   "execution_count": 16,
   "metadata": {},
   "outputs": [
    {
     "data": {
      "text/plain": [
       "1.8392867552141612"
      ]
     },
     "execution_count": 16,
     "metadata": {},
     "output_type": "execute_result"
    }
   ],
   "source": [
    "x0 = 10\n",
    "newton(x0, h, hprime)"
   ]
  },
  {
   "cell_type": "markdown",
   "metadata": {},
   "source": [
    "now way to the left"
   ]
  },
  {
   "cell_type": "code",
   "execution_count": 17,
   "metadata": {},
   "outputs": [
    {
     "data": {
      "text/plain": [
       "1.839286755214161"
      ]
     },
     "execution_count": 17,
     "metadata": {},
     "output_type": "execute_result"
    }
   ],
   "source": [
    "x0 = -10\n",
    "newton(x0, h, hprime)"
   ]
  },
  {
   "cell_type": "markdown",
   "metadata": {},
   "source": [
    "curiously we got the same root!  Newton's method doesn't always converge to the root closest to your initial guess.\n",
    "\n",
    "So we need to play around a bit"
   ]
  },
  {
   "cell_type": "code",
   "execution_count": 18,
   "metadata": {},
   "outputs": [
    {
     "name": "stdout",
     "output_type": "stream",
     "text": [
      "-1.00 :  1.83929\n",
      "-0.50 :  1.83929\n",
      " 0.50 :  1.00000\n",
      " 0.75 :  1.00000\n"
     ]
    }
   ],
   "source": [
    "for x0 in [-1, -0.5, 0.5, 0.75]:\n",
    "    r = newton(x0, h, hprime)\n",
    "    print(f\"{x0:5.2f} : {r:8.5f}\")"
   ]
  },
  {
   "cell_type": "markdown",
   "metadata": {},
   "source": [
    "Now we see that depending on our initial guess, we can get both of the roots."
   ]
  },
  {
   "cell_type": "markdown",
   "metadata": {
    "editable": true,
    "slideshow": {
     "slide_type": ""
    },
    "tags": []
   },
   "source": [
    "## C++ example\n",
    "\n",
    "A C++ version of the bisection method is available here: [roots.cpp](https://github.com/zingale/computational_astrophysics/blob/main/examples/roots/roots.cpp)\n",
    "\n",
    "```{literalinclude} ../../../examples/roots/roots.cpp\n",
    ":language: c++\n",
    "```"
   ]
  }
 ],
 "metadata": {
  "kernelspec": {
   "display_name": "Python 3 (ipykernel)",
   "language": "python",
   "name": "python3"
  },
  "language_info": {
   "codemirror_mode": {
    "name": "ipython",
    "version": 3
   },
   "file_extension": ".py",
   "mimetype": "text/x-python",
   "name": "python",
   "nbconvert_exporter": "python",
   "pygments_lexer": "ipython3",
   "version": "3.13.1"
  }
 },
 "nbformat": 4,
 "nbformat_minor": 4
}
