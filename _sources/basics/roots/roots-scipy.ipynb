{
 "cells": [
  {
   "cell_type": "markdown",
   "id": "9731cb38-5d88-41da-a0d3-b8d15f3fbc31",
   "metadata": {},
   "source": [
    "# SciPy Root Finding"
   ]
  },
  {
   "cell_type": "code",
   "execution_count": 1,
   "id": "ec05bc15-fa5d-4b51-9d05-1338addb4ffe",
   "metadata": {},
   "outputs": [],
   "source": [
    "import numpy as np\n",
    "from scipy import optimize"
   ]
  },
  {
   "cell_type": "markdown",
   "id": "ee35c547-100f-402c-82f0-8a7fa2443271",
   "metadata": {},
   "source": [
    "The SciPy library has root finders in the `optimize` module:\n",
    "https://docs.scipy.org/doc/scipy/reference/optimize.html"
   ]
  },
  {
   "cell_type": "markdown",
   "id": "31171326-24c9-4596-8b02-9148eba7e39a",
   "metadata": {},
   "source": [
    "The general purpose root finder for a single variable is `optimize.brentq` which implements [Brent's method](https://en.wikipedia.org/wiki/Brent%27s_method).  This is a mix of bisection and something like Newton's method.\n",
    "\n",
    "Like bisection, Brent's method requires you to provide an interval in which to find the root."
   ]
  },
  {
   "cell_type": "markdown",
   "id": "21c95d3a-45c1-4781-98e8-1b87b314d6ad",
   "metadata": {},
   "source": [
    "Let's try it on the same functions as we did previously"
   ]
  },
  {
   "cell_type": "code",
   "execution_count": 2,
   "id": "d0ae184d-290f-45be-a528-23de0d159422",
   "metadata": {},
   "outputs": [],
   "source": [
    "def f(x):\n",
    "    return 0.5*x**3 + np.pi/3 * x + 2"
   ]
  },
  {
   "cell_type": "code",
   "execution_count": 3,
   "id": "d887b182-12a1-4a62-aa46-5026d2462de1",
   "metadata": {},
   "outputs": [
    {
     "data": {
      "text/plain": [
       "-1.1615652985544285"
      ]
     },
     "execution_count": 3,
     "metadata": {},
     "output_type": "execute_result"
    }
   ],
   "source": [
    "r = optimize.brentq(f, -2, 2)\n",
    "r"
   ]
  },
  {
   "cell_type": "code",
   "execution_count": 4,
   "id": "679949fe-2668-43b7-a38c-83cb486be04e",
   "metadata": {},
   "outputs": [],
   "source": [
    "def h(x):\n",
    "    return x**4 - 2*x**3 + 1"
   ]
  },
  {
   "cell_type": "code",
   "execution_count": 7,
   "id": "61aabaa7-2a5a-4ab6-aa7f-b679a267be01",
   "metadata": {},
   "outputs": [
    {
     "data": {
      "text/plain": [
       "1.839286755214158"
      ]
     },
     "execution_count": 7,
     "metadata": {},
     "output_type": "execute_result"
    }
   ],
   "source": [
    "r = optimize.brentq(h, 1.1, 2)\n",
    "r"
   ]
  },
  {
   "cell_type": "code",
   "execution_count": null,
   "id": "b2fec0e9-d445-4a64-b4ba-8217bbb81307",
   "metadata": {},
   "outputs": [],
   "source": []
  }
 ],
 "metadata": {
  "kernelspec": {
   "display_name": "Python 3 (ipykernel)",
   "language": "python",
   "name": "python3"
  },
  "language_info": {
   "codemirror_mode": {
    "name": "ipython",
    "version": 3
   },
   "file_extension": ".py",
   "mimetype": "text/x-python",
   "name": "python",
   "nbconvert_exporter": "python",
   "pygments_lexer": "ipython3",
   "version": "3.10.9"
  }
 },
 "nbformat": 4,
 "nbformat_minor": 5
}
