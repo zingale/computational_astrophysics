{
 "cells": [
  {
   "cell_type": "markdown",
   "id": "42f0b4f8-7a9c-4b2f-a88c-82b34d7f5cf5",
   "metadata": {},
   "source": [
    "# Application: Wien's law\n",
    "\n",
    "[Wien's law](https://en.wikipedia.org/wiki/Wien's_displacement_law) relates the temperature of a blackbody to\n",
    "the wavelength of peak emission.  It has the form:\n",
    "\n",
    "$$\\lambda_\\mathrm{max} T = b$$\n",
    "\n",
    "where $b$ is a constant.\n",
    "\n",
    "Here we'll find that constant."
   ]
  },
  {
   "cell_type": "markdown",
   "id": "094027fe-b076-488d-92d2-6101f665c04f",
   "metadata": {},
   "source": [
    "As before, the Planck function describes the intensity of a blackbody:\n",
    "\n",
    "$$B_\\lambda = \\frac{2h c^2}{\\lambda^5} \\frac{1}{\\exp\\left(\\frac{hc}{\\lambda k_B T}\\right) -1}$$\n",
    "\n",
    "defining\n",
    "\n",
    "$$x = \\frac{hc}{\\lambda k_B T}$$\n",
    "\n",
    "we have\n",
    "\n",
    "$$B = \\frac{2 (k_B T)^5}{h^4 c^3} \\frac{x^5}{e^x - 1}$$\n",
    "\n",
    "To find the maximum, we set $dB/dx = 0$, giving:\n",
    "\n",
    "$$\\frac{dB}{dx} =- x^5 (e^x - 1)^{-2} e^x + \\frac{5x^4}{e^x - 1} = 0$$\n",
    "\n",
    "or\n",
    "\n",
    "$$(5 - x )e ^x - 5 = 0$$\n",
    "\n",
    "Let's plot this."
   ]
  },
  {
   "cell_type": "code",
   "execution_count": 1,
   "id": "541a76ca-a45e-4921-af46-4dea520e5555",
   "metadata": {},
   "outputs": [],
   "source": [
    "import numpy as np\n",
    "import matplotlib.pyplot as plt"
   ]
  },
  {
   "cell_type": "code",
   "execution_count": 2,
   "id": "e9728d02-d248-4882-92bf-4ce72c4b2915",
   "metadata": {},
   "outputs": [],
   "source": [
    "def f(x):\n",
    "    return (5 - x) * np.exp(x) - 5"
   ]
  },
  {
   "cell_type": "code",
   "execution_count": 3,
   "id": "6f1edf7f-25fb-41e8-a284-0344b5c8441c",
   "metadata": {},
   "outputs": [
    {
     "data": {
      "image/png": "[encoded data removed]",
      "text/plain": [
       "<Figure size 640x480 with 1 Axes>"
      ]
     },
     "metadata": {},
     "output_type": "display_data"
    }
   ],
   "source": [
    "fig, ax = plt.subplots()\n",
    "x = np.linspace(0, 6, 100)\n",
    "ax.plot(x, f(x))\n",
    "ax.grid()"
   ]
  },
  {
   "cell_type": "markdown",
   "id": "9b960e5b-028b-49dc-af91-283625638e0b",
   "metadata": {},
   "source": [
    "This clearly has a root close to $x = 5$.\n",
    "\n",
    "We'll find it via bisection"
   ]
  },
  {
   "cell_type": "code",
   "execution_count": 4,
   "id": "1ec3f6b7-044d-49e3-a2f3-e042f4f9ad12",
   "metadata": {},
   "outputs": [],
   "source": [
    "def bisect(xl, xr, func, tol=1.e-8):\n",
    "    \"\"\"find the zero of func(x) in the interval [xl, xr]\"\"\"\n",
    "    \n",
    "    # first check if there is a root in the interval\n",
    "    fl = func(xl)\n",
    "    fr = func(xr)\n",
    "    \n",
    "    if fl * fr > 0:\n",
    "        print(\"no root in the interval\")\n",
    "        return None\n",
    "    \n",
    "    # now setup our iteration loop.  We will keep looping until\n",
    "    # the relative error is < tol\n",
    "    err = 1.e10\n",
    "    xm = 0.5 * (xl + xr)\n",
    "\n",
    "    while err > tol:\n",
    "        fm = func(xm)\n",
    "        \n",
    "        if fl*fm > 0:\n",
    "            # the root is in the right half of the interval\n",
    "            xl = xm\n",
    "            fl = fm\n",
    "        else:\n",
    "            # the root is in the left half of the interval\n",
    "            xr = xm\n",
    "            fr = fm\n",
    "        \n",
    "        xm = 0.5 * (xl + xr)\n",
    "        err = np.abs(xr - xl) / np.abs(xm)\n",
    "        \n",
    "    return xm"
   ]
  },
  {
   "cell_type": "code",
   "execution_count": 5,
   "id": "d3916bc3-e9a3-4148-8e40-97a80fcdb4ab",
   "metadata": {},
   "outputs": [
    {
     "data": {
      "text/plain": [
       "4.9651142209768295"
      ]
     },
     "execution_count": 5,
     "metadata": {},
     "output_type": "execute_result"
    }
   ],
   "source": [
    "x0 = bisect(1, 5, f)\n",
    "x0"
   ]
  },
  {
   "cell_type": "markdown",
   "id": "da9f925a-fa70-4392-aea4-8f121ce13c33",
   "metadata": {},
   "source": [
    "Now we bring this back to physical units.  Note that:\n",
    "\n",
    "$$\\lambda T = \\frac{hc}{k} \\frac{1}{x}$$"
   ]
  },
  {
   "cell_type": "code",
   "execution_count": 6,
   "id": "6c14ced1-5f9e-493a-bab0-bb74ef84cf9b",
   "metadata": {},
   "outputs": [
    {
     "name": "stdout",
     "output_type": "stream",
     "text": [
      "0.29028624190291574\n"
     ]
    }
   ],
   "source": [
    "k = 1.38e-16  # erg /K\n",
    "c = 3e10  # cm/s\n",
    "h = 6.63e-27  # erg s\n",
    "\n",
    "print(h*c/k/x0)"
   ]
  },
  {
   "cell_type": "markdown",
   "id": "ce65d0bf-9b81-442e-9a56-c0337e8eb719",
   "metadata": {},
   "source": [
    "This shows that\n",
    "\n",
    "$$\\lambda_\\mathrm{max} T = 0.29~\\mbox{cm~K}$$"
   ]
  },
  {
   "cell_type": "code",
   "execution_count": null,
   "id": "345490da-fc06-4a6f-8c67-954615960bd5",
   "metadata": {},
   "outputs": [],
   "source": []
  },
  {
   "cell_type": "code",
   "execution_count": null,
   "id": "a19982b6-a312-449f-85e4-b8993acaa0a4",
   "metadata": {},
   "outputs": [],
   "source": []
  }
 ],
 "metadata": {
  "kernelspec": {
   "display_name": "Python 3 (ipykernel)",
   "language": "python",
   "name": "python3"
  },
  "language_info": {
   "codemirror_mode": {
    "name": "ipython",
    "version": 3
   },
   "file_extension": ".py",
   "mimetype": "text/x-python",
   "name": "python",
   "nbconvert_exporter": "python",
   "pygments_lexer": "ipython3",
   "version": "3.10.9"
  }
 },
 "nbformat": 4,
 "nbformat_minor": 5
}
