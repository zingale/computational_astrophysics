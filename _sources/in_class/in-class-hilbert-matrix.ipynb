{
 "cells": [
  {
   "cell_type": "markdown",
   "id": "b831d648-e96c-4621-ab0a-33869b040b2d",
   "metadata": {},
   "source": [
    "# Linear Algebra Review: Hilbert Matrix"
   ]
  },
  {
   "cell_type": "markdown",
   "id": "1615de67-ec87-41e9-9fe3-d4f0dfcabf30",
   "metadata": {},
   "source": [
    "The [Hilbert matrix](https://en.wikipedia.org/wiki/Hilbert_matrix), ${\\bf H}$ is defined such\n",
    "   that its elements are:\n",
    "\n",
    "   $$H_{ij} = (i + j -1)^{-1}$$\n",
    "\n",
    "for $i = 1, \\ldots, N$ and $j = 1, \\ldots, N$.  "
   ]
  },
  {
   "cell_type": "markdown",
   "id": "cf2b6c76-8021-4e81-b16d-5970fee15e29",
   "metadata": {},
   "source": [
    "```{warning}\n",
    "This matrix is known to\n",
    "have a large condition number.\n",
    "```"
   ]
  },
  {
   "cell_type": "markdown",
   "id": "82a2589a-96f0-4a5d-815b-951c4688728e",
   "metadata": {},
   "source": [
    "Here we will explore the influence of the large condition number \n",
    "by solving progressively larger linear systems."
   ]
  },
  {
   "cell_type": "markdown",
   "id": "1a9f4b26-a20c-4ad8-8ae4-a9bd1f1b4d81",
   "metadata": {},
   "source": [
    "Define a vector:\n",
    "\n",
    "   $${\\bf x}^{(N)} = (0, 1, \\ldots, N-1)^T$$\n",
    "\n",
    "and call the\n",
    "$N\\times N$ Hilbert matrix ${\\bf H}^{(N)}$.  \n",
    "\n",
    "Define the righthand side of a linear system simply as:\n",
    "\n",
    "   $${\\bf b}^{(N)} = {\\bf H}^{(N)} {\\bf x}^{(N)}$$"
   ]
  },
  {
   "cell_type": "markdown",
   "id": "e404d94f-b728-4bc3-b076-f866c817f6d3",
   "metadata": {},
   "source": [
    "Using our Gaussian elimination routine or a linear algebra library, solve the system\n",
    "\n",
    "   $${\\bf H}^{(N)} \\tilde{\\bf x} = {\\bf b}^{(N)}$$\n",
    "\n",
    "for $N = 2, \\ldots, 15$.\n",
    "\n",
    "Define the error in your solution as\n",
    "\n",
    "$$\\epsilon = \\max |\\tilde{\\bf x}  - {\\bf x}^{(N)} |$$\n",
    "\n",
    "For what value of $N$ does this error become\n",
    "$\\mathcal{O}(1)$?---i.e. even the first digit in your computed\n",
    "solution is wrong."
   ]
  },
  {
   "cell_type": "markdown",
   "id": "87dec468-a2bb-42ab-bc02-33b50014536f",
   "metadata": {},
   "source": [
    "We decided to implement this in C++.  We'll reuse the `Array` class and the other matrix routines we implemented previously in C++.  They are:\n",
    "\n",
    "* {download}`array.H <../../examples/linear-algebra/array.H>` : the `Array` class\n",
    "* {download}`matmul.H <../../examples/linear-algebra/matmul.H>` : a maxtrix-vector product function for doing ${\\bf b} = {\\bf A}{\\bf x}$\n",
    "* {download}`gauss.H <../../examples/linear-algebra/gauss.H>` : contains the Gaussian elimination solver for solving ${\\bf A}{\\bf x} = {\\bf b}$"
   ]
  },
  {
   "cell_type": "markdown",
   "id": "14dd7ca2-e25e-4a98-a146-c017dc93385e",
   "metadata": {},
   "source": [
    "Here's the code we came up with:\n",
    "\n",
    "```{literalinclude} ../../examples/linear-algebra/hilbert.cpp\n",
    ":language: C++\n",
    "```"
   ]
  },
  {
   "cell_type": "markdown",
   "id": "7f8294d4-cc9b-4052-bad6-a8b11e2b405f",
   "metadata": {},
   "source": [
    "And our output:\n",
    "\n",
    "```text\n",
    "for n = 2 error = 0\n",
    "for n = 3 error = 2.22045e-16\n",
    "for n = 4 error = 6.62581e-13\n",
    "for n = 5 error = 1.11449e-11\n",
    "for n = 6 error = 7.78773e-10\n",
    "for n = 7 error = 6.92262e-09\n",
    "for n = 8 error = 1.06671e-06\n",
    "for n = 9 error = 7.72834e-06\n",
    "for n = 10 error = 0.00195039\n",
    "for n = 11 error = 0.0329536\n",
    "for n = 12 error = 0.806736\n",
    "for n = 13 error = 5.67127\n",
    "```"
   ]
  },
  {
   "cell_type": "markdown",
   "id": "92dd4b10-7168-4729-b3aa-dab6510b509e",
   "metadata": {},
   "source": [
    "We see that once we hit $N = 12$ we are making nearly a 100% error."
   ]
  }
 ],
 "metadata": {
  "kernelspec": {
   "display_name": "Python 3 (ipykernel)",
   "language": "python",
   "name": "python3"
  },
  "language_info": {
   "codemirror_mode": {
    "name": "ipython",
    "version": 3
   },
   "file_extension": ".py",
   "mimetype": "text/x-python",
   "name": "python",
   "nbconvert_exporter": "python",
   "pygments_lexer": "ipython3",
   "version": "3.13.2"
  }
 },
 "nbformat": 4,
 "nbformat_minor": 5
}
