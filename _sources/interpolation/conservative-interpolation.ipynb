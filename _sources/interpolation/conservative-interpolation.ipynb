{
 "cells": [
  {
   "cell_type": "markdown",
   "id": "f402ae10-c969-4880-b2bc-fdf4ff520d6b",
   "metadata": {
    "tags": []
   },
   "source": [
    "# Conservative Interpolation"
   ]
  },
  {
   "cell_type": "markdown",
   "id": "27ecef9e-e727-4489-90f6-1ecb3b165676",
   "metadata": {
    "tags": []
   },
   "source": [
    "A common requirement for interpolation in astrophysics is that it is conservative.  Let's see what that means.\n",
    "\n",
    "Imagine that we divide our domain into uniformly sized bins, and in each bin we place some mass.  We can describe the mass by its density, and in each of the bins, we store the average density, $\\langle \\rho \\rangle$:\n",
    "\n",
    "![density in equally spaced bins](density_interpolation.png)\n",
    "\n",
    "Here, $x_{i-1/2}$ is the coordinate of the left edge of bin $i$, and $x_{i+1/2}$ is the coordinate of the right edge of bin $i$.  The mass in bin $i$ would be computed as:\n",
    "\n",
    "$$m_i = \\int_{x_{i-1/2}}^{x_{i+1/2}} \\rho(x) dx$$\n",
    "\n",
    "and the average density in that bin would be:\n",
    "\n",
    "$$\\langle \\rho \\rangle_i = \\frac{m_i}{\\Delta x}$$"
   ]
  },
  {
   "cell_type": "markdown",
   "id": "d3b0ab6c-c2bf-484e-a934-34a62bb4ee2c",
   "metadata": {
    "tags": []
   },
   "source": [
    "Now, we want to construct a cubic interpolant through zones $i-2$, $i-1$, $i$, and $i+1$ that conserves mass, i.e., when we integrate the interpolant over each of the bins, it gives us the correct amount of mass for that bin.  This is called a _conservative interpolant_ and is the basis for _reconstruction_ of the density / mass when we have gridded data that we will use when we move onto PDEs."
   ]
  },
  {
   "cell_type": "markdown",
   "id": "8160f52b-762f-4749-8936-a3ee77d87b4e",
   "metadata": {},
   "source": [
    "So we seek something of the form:\n",
    "\n",
    "$$\\rho(x) = a (x - x_i)^3 + b (x - x_i)^2 + c (x - x_i) + d$$\n",
    "\n",
    "constrained such that:\n",
    "\n",
    "\n",
    "\\begin{align*}\n",
    "\\langle \\rho \\rangle_{i-2} &= \\frac{1}{\\Delta x} \\int_{x_{i-5/2}}^{x_{i-3/2}} \\rho(x) dx \\\\\n",
    "\\langle \\rho \\rangle_{i-1} &= \\frac{1}{\\Delta x} \\int_{x_{i-3/2}}^{x_{i-1/2}} \\rho(x) dx \\\\\n",
    "\\langle \\rho \\rangle_{i}   &= \\frac{1}{\\Delta x} \\int_{x_{i-1/2}}^{x_{i+1/2}} \\rho(x) dx \\\\\n",
    "\\langle \\rho \\rangle_{i+1} &= \\frac{1}{\\Delta x} \\int_{x_{i+1/2}}^{x_{i+3/2}} \\rho(x) dx\n",
    "\\end{align*}\n",
    "\n",
    "This is 4 equations and 4 unknowns ($a$, $b$, $c$, and $d$), so we can solve this.\n",
    "\n",
    "Let's use SymPy"
   ]
  },
  {
   "cell_type": "code",
   "execution_count": 2,
   "id": "5b3dca17-fe3c-4d4b-93d8-eb6581e3d0f8",
   "metadata": {
    "tags": []
   },
   "outputs": [
    {
     "name": "stdout",
     "output_type": "stream",
     "text": [
      "IPython console for SymPy 1.10.1 (Python 3.10.9-64-bit) (ground types: gmpy)\n",
      "\n",
      "These commands were executed:\n",
      ">>> from sympy import *\n",
      ">>> x, y, z, t = symbols('x y z t')\n",
      ">>> k, m, n = symbols('k m n', integer=True)\n",
      ">>> f, g, h = symbols('f g h', cls=Function)\n",
      ">>> init_printing()\n",
      "\n",
      "Documentation can be found at https://docs.sympy.org/1.10.1/\n",
      "\n"
     ]
    }
   ],
   "source": [
    "from sympy import init_session\n",
    "init_session(use_latex=\"mathjax\")"
   ]
  },
  {
   "cell_type": "code",
   "execution_count": 8,
   "id": "99df74bb-43cc-4de5-9a38-6da2604b6c89",
   "metadata": {
    "tags": []
   },
   "outputs": [],
   "source": [
    "x0 = symbols(\"x0\")\n",
    "dx = symbols(\"\\Delta{}x\")\n",
    "rm2, rm, r0, rp = symbols(r\"\\rho_{i-2} \\rho_{i-1} \\rho_i \\rho_{i+1}\")\n",
    "xm52 = x0 - Rational(5,2)*dx\n",
    "xm32 = x0 - Rational(3,2)*dx\n",
    "xm12 = x0 - Rational(1,2)*dx\n",
    "xp12 = x0 + Rational(1,2)*dx\n",
    "xp32 = x0 + Rational(3,2)*dx\n",
    "a, b, c, d = symbols(\"a b c d\")"
   ]
  },
  {
   "cell_type": "markdown",
   "id": "dd227cd4-43fd-4b8e-8c33-25355029f185",
   "metadata": {},
   "source": [
    "Make our cubic function"
   ]
  },
  {
   "cell_type": "code",
   "execution_count": 9,
   "id": "be6ea789-bb59-47ac-a9de-a8b891a632e6",
   "metadata": {
    "tags": []
   },
   "outputs": [
    {
     "data": {
      "image/png": "[encoded data removed]",
      "text/latex": [
       "$\\displaystyle a \\left(x - x_{0}\\right)^{3} + b \\left(x - x_{0}\\right)^{2} + c \\left(x - x_{0}\\right) + d$"
      ],
      "text/plain": [
       "          3             2                 \n",
       "a⋅(x - x₀)  + b⋅(x - x₀)  + c⋅(x - x₀) + d"
      ]
     },
     "execution_count": 9,
     "metadata": {},
     "output_type": "execute_result"
    }
   ],
   "source": [
    "f = a*(x-x0)**3 + b*(x-x0)**2 + c*(x-x0) + d\n",
    "f"
   ]
  },
  {
   "cell_type": "markdown",
   "id": "e383a07b-a0bf-4445-a9a9-3e51567b4699",
   "metadata": {},
   "source": [
    "Do the 4 integrals"
   ]
  },
  {
   "cell_type": "code",
   "execution_count": 10,
   "id": "fdc882a6-5d98-43be-834b-4d89d74ea40b",
   "metadata": {
    "tags": []
   },
   "outputs": [],
   "source": [
    "A = simplify(integrate(f/dx, (x, xm52, xm32)))\n",
    "B = simplify(integrate(f/dx, (x, xm32, xm12)))\n",
    "C = simplify(integrate(f/dx, (x, xm12, xp12)))\n",
    "D = simplify(integrate(f/dx, (x, xp12, xp32)))"
   ]
  },
  {
   "cell_type": "markdown",
   "id": "85e69884-7e23-490e-af48-07a11ce26095",
   "metadata": {
    "tags": []
   },
   "source": [
    "Solve for our coefficients"
   ]
  },
  {
   "cell_type": "code",
   "execution_count": 11,
   "id": "5d24add6-780d-4a70-9151-a1384d32ef05",
   "metadata": {
    "tags": []
   },
   "outputs": [
    {
     "data": {
      "image/png": "[encoded data removed]",
      "text/latex": [
       "$\\displaystyle \\left\\{ a : \\frac{- 3 \\rho_{i} + \\rho_{i+1} + 3 \\rho_{i-1} - \\rho_{i-2}}{6 \\Delta{}x^{3}}, \\  b : \\frac{- 2 \\rho_{i} + \\rho_{i+1} + \\rho_{i-1}}{2 \\Delta{}x^{2}}, \\  c : \\frac{15 \\rho_{i} + 7 \\rho_{i+1} - 27 \\rho_{i-1} + 5 \\rho_{i-2}}{24 \\Delta{}x}, \\  d : \\frac{13 \\rho_{i}}{12} - \\frac{\\rho_{i+1}}{24} - \\frac{\\rho_{i-1}}{24}\\right\\}$"
      ],
      "text/plain": [
       "⎧   -3⋅\\rhoᵢ + \\rho_{i+1} + 3⋅\\rho_{i-1} - \\rho_{i-2}     -2⋅\\rhoᵢ + \\rho_{i+1} + \\rho_{i-1}     15⋅\\rhoᵢ + 7⋅\\r\n",
       "⎪a: ─────────────────────────────────────────────────, b: ──────────────────────────────────, c: ───────────────\n",
       "⎨                                 3                                             2                               \n",
       "⎪                      6⋅\\Delta{}x                                   2⋅\\Delta{}x                                \n",
       "⎩                                                                                                               \n",
       "\n",
       "ho_{i+1} - 27⋅\\rho_{i-1} + 5⋅\\rho_{i-2}     13⋅\\rhoᵢ   \\rho_{i+1}   \\rho_{i-1}⎫\n",
       "───────────────────────────────────────, d: ──────── - ────────── - ──────────⎪\n",
       "      24⋅\\Delta{}x                             12          24           24    ⎬\n",
       "                                                                              ⎪\n",
       "                                                                              ⎭"
      ]
     },
     "execution_count": 11,
     "metadata": {},
     "output_type": "execute_result"
    }
   ],
   "source": [
    "coeffs = solve([A - rm2, B - rm, C - r0, D - rp], [a, b, c, d], check=False)\n",
    "coeffs"
   ]
  },
  {
   "cell_type": "markdown",
   "id": "b76093c7-dad6-4174-9dc2-30365ca318f5",
   "metadata": {},
   "source": [
    "and let's see the polynomial"
   ]
  },
  {
   "cell_type": "code",
   "execution_count": 12,
   "id": "ed2c410b-f4fc-4cd6-a28d-8fa1af9fd9a6",
   "metadata": {
    "tags": []
   },
   "outputs": [
    {
     "data": {
      "image/png": "[encoded data removed]",
      "text/latex": [
       "$\\displaystyle \\frac{13 \\rho_{i}}{12} - \\frac{\\rho_{i+1}}{24} - \\frac{\\rho_{i-1}}{24} + \\frac{\\left(x - x_{0}\\right) \\left(15 \\rho_{i} + 7 \\rho_{i+1} - 27 \\rho_{i-1} + 5 \\rho_{i-2}\\right)}{24 \\Delta{}x} + \\frac{\\left(x - x_{0}\\right)^{2} \\left(- 2 \\rho_{i} + \\rho_{i+1} + \\rho_{i-1}\\right)}{2 \\Delta{}x^{2}} + \\frac{\\left(x - x_{0}\\right)^{3} \\left(- 3 \\rho_{i} + \\rho_{i+1} + 3 \\rho_{i-1} - \\rho_{i-2}\\right)}{6 \\Delta{}x^{3}}$"
      ],
      "text/plain": [
       "                                                                                                                \n",
       "13⋅\\rhoᵢ   \\rho_{i+1}   \\rho_{i-1}   (x - x₀)⋅(15⋅\\rhoᵢ + 7⋅\\rho_{i+1} - 27⋅\\rho_{i-1} + 5⋅\\rho_{i-2})   (x - x₀\n",
       "──────── - ────────── - ────────── + ───────────────────────────────────────────────────────────────── + ───────\n",
       "   12          24           24                                  24⋅\\Delta{}x                                    \n",
       "                                                                                                                \n",
       "\n",
       " 2                                                3                                                    \n",
       ") ⋅(-2⋅\\rhoᵢ + \\rho_{i+1} + \\rho_{i-1})   (x - x₀) ⋅(-3⋅\\rhoᵢ + \\rho_{i+1} + 3⋅\\rho_{i-1} - \\rho_{i-2})\n",
       "─────────────────────────────────────── + ─────────────────────────────────────────────────────────────\n",
       "                     2                                                        3                        \n",
       "          2⋅\\Delta{}x                                              6⋅\\Delta{}x                         "
      ]
     },
     "execution_count": 12,
     "metadata": {},
     "output_type": "execute_result"
    }
   ],
   "source": [
    "fc = f.subs(a,coeffs[a]).subs(b,coeffs[b]).subs(c,coeffs[c]).subs(d,coeffs[d])\n",
    "fc"
   ]
  },
  {
   "cell_type": "markdown",
   "id": "d88bf3d3-295c-47a4-bc06-c495cd7b5bc1",
   "metadata": {},
   "source": [
    "In the paper [_The Piecewise Parabolic Method (PPM) for Gas-dynamical Systems_](https://crd.lbl.gov/assets/pubs_presos/AMCS/ANAG/A141984.pdf) this cubic conservative interpolant is used to find the state on the middle edge of our interval, $x_{i-1/2}$.  Let's evaluate our function there:"
   ]
  },
  {
   "cell_type": "code",
   "execution_count": 13,
   "id": "f102da11-68f3-4692-a50d-60b383416509",
   "metadata": {
    "tags": []
   },
   "outputs": [
    {
     "data": {
      "image/png": "[encoded data removed]",
      "text/latex": [
       "$\\displaystyle \\frac{7 \\rho_{i}}{12} - \\frac{\\rho_{i+1}}{12} + \\frac{7 \\rho_{i-1}}{12} - \\frac{\\rho_{i-2}}{12}$"
      ],
      "text/plain": [
       "7⋅\\rhoᵢ   \\rho_{i+1}   7⋅\\rho_{i-1}   \\rho_{i-2}\n",
       "─────── - ────────── + ──────────── - ──────────\n",
       "   12         12            12            12    "
      ]
     },
     "execution_count": 13,
     "metadata": {},
     "output_type": "execute_result"
    }
   ],
   "source": [
    "fc.subs(x, x0-Rational(1,2)*dx)"
   ]
  },
  {
   "cell_type": "markdown",
   "id": "35848d6f-998a-4949-a666-eff748c834d5",
   "metadata": {},
   "source": [
    "This is equivalent to equation 1.9 in the PPM paper:\n",
    "\n",
    "$$\\rho_{i-1/2} = \\frac{7}{12} (\\rho_{i-1} + \\rho_i) - \\frac{1}{12} (\\rho_{i-2} + \\rho_{i+1})$$\n",
    "\n",
    "The PPM algorithm is widely-used in astrophysics for modeling hydrodynamics.  Using a conservative interpolant ensure that we are not creating any extra mass when we go from our bin-average values of density to the density at a specific location."
   ]
  }
 ],
 "metadata": {
  "kernelspec": {
   "display_name": "Python 3 (ipykernel)",
   "language": "python",
   "name": "python3"
  },
  "language_info": {
   "codemirror_mode": {
    "name": "ipython",
    "version": 3
   },
   "file_extension": ".py",
   "mimetype": "text/x-python",
   "name": "python",
   "nbconvert_exporter": "python",
   "pygments_lexer": "ipython3",
   "version": "3.13.2"
  }
 },
 "nbformat": 4,
 "nbformat_minor": 5
}
