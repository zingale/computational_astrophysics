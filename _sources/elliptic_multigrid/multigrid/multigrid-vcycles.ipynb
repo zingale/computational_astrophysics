{
 "cells": [
  {
   "cell_type": "markdown",
   "metadata": {
    "tags": [
     "hide-cell"
    ]
   },
   "source": [
    "# V-Cycles"
   ]
  },
  {
   "cell_type": "markdown",
   "metadata": {},
   "source": [
    "We now have what we need to apply this two-grid solver recursively.  Instead of solving the coarse grid directly via smoothing, we instead treat it like a new Poisson problem to solve and create an even coarser grid to do the correction, and so on...\n",
    "\n",
    "Eventually, we will have a tower of grids spanning from our original fine grid resolution down to something suitably coarse that we can relax the solution there with only a few iterations:\n",
    "\n",
    "![multgrid tower](mgtower.png)\n"
   ]
  },
  {
   "cell_type": "markdown",
   "metadata": {},
   "source": [
    "To make things simpler, we'll work with grids that are a power of 2 in size.  Then we will coarsen all the way down until we have a grid with only 2 zones (because of how we implement our boundary conditions, we can't go all the way down to a single zone).\n",
    "\n",
    "On that 2 zone coarsest grid, just a few smoothing iterations will solve the problem.  We call this the *bottom solver*."
   ]
  },
  {
   "cell_type": "markdown",
   "metadata": {},
   "source": [
    "Here's a multigrid class that implements this recursive structure.  It is currently implemented only for homogeneous boundary conditions.\n",
    "\n",
    "The main data structure is a list of grids, `Multigrid.grids`, which holds the hierarchy of grids at the different resolutions.\n",
    "\n",
    "Our two-grid correction code that we previously implemented is now called `vcycle()`, and it will apply the two-grid correction on all grids except the very coarsest, on which it instead just smooths.\n",
    "\n",
    "Finally, there is one new function here, `solve()`.  This calls `vcycle()` repeatedly until the error is below our desired tolerance.\n",
    "\n",
    "The overall flow looks like:\n",
    "\n",
    "![vcycle](vcycle.png)"
   ]
  },
  {
   "cell_type": "code",
   "execution_count": 1,
   "metadata": {
    "tags": []
   },
   "outputs": [],
   "source": [
    "import numpy as np\n",
    "import matplotlib.pyplot as plt"
   ]
  },
  {
   "cell_type": "code",
   "execution_count": 2,
   "metadata": {
    "tags": []
   },
   "outputs": [],
   "source": [
    "import multigrid"
   ]
  },
  {
   "cell_type": "code",
   "execution_count": 3,
   "metadata": {
    "tags": []
   },
   "outputs": [
    {
     "name": "stdout",
     "output_type": "stream",
     "text": [
      "import numpy as np\n",
      "\n",
      "import grid\n",
      "\n",
      "\n",
      "class Multigrid:\n",
      "    \"\"\"\n",
      "    The main multigrid class for cell-centered data.\n",
      "\n",
      "    We require that nx be a power of 2 for simplicity\n",
      "    \"\"\"\n",
      "\n",
      "    def __init__(self, nx, xmin=0.0, xmax=1.0,\n",
      "                 bc_left_type=\"dirichlet\", bc_right_type=\"dirichlet\",\n",
      "                 nsmooth=10, nsmooth_bottom=50,\n",
      "                 verbose=0,\n",
      "                 true_function=None):\n",
      "\n",
      "        self.nx = nx\n",
      "        self.ng = 1\n",
      "\n",
      "        self.xmin = xmin\n",
      "        self.xmax = xmax\n",
      "\n",
      "        self.nsmooth = nsmooth\n",
      "        self.nsmooth_bottom = nsmooth_bottom\n",
      "\n",
      "        self.max_cycles = 100\n",
      "\n",
      "        self.verbose = verbose\n",
      "\n",
      "        self.bc_left_type = bc_left_type\n",
      "        self.bc_right_type = bc_right_type\n",
      "\n",
      "        # a function that gives the analytic solution (if available)\n",
      "        # for diagnostics only\n",
      "        self.true_function = true_function\n",
      "\n",
      "        # assume that self.nx = 2^(nlevels-1)\n",
      "        # this defines nlevels such that we end exactly on a 2 zone grid\n",
      "        self.nlevels = int(np.log(self.nx)/np.log(2.0))\n",
      "\n",
      "        # a multigrid object will be a list of grids\n",
      "        self.grids = []\n",
      "\n",
      "        # create the grids.  Here, self.grids[0] will be the coarsest\n",
      "        # grid and self.grids[nlevel-1] will be the finest grid we\n",
      "        # store the solution, v, the rhs, f.\n",
      "\n",
      "        nx_t = 2\n",
      "        for _ in range(self.nlevels):\n",
      "\n",
      "            # add a grid for this level\n",
      "            self.grids.append(grid.Grid(nx_t, xmin=self.xmin, xmax=self.xmax,\n",
      "                                        bc_left_type=self.bc_left_type,\n",
      "                                        bc_right_type=self.bc_right_type))\n",
      "\n",
      "            nx_t *= 2\n",
      "\n",
      "        # provide coordinate and indexing information for the solution mesh\n",
      "        self.soln_grid = self.grids[self.nlevels-1]\n",
      "\n",
      "        self.ilo = self.soln_grid.ilo\n",
      "        self.ihi = self.soln_grid.ihi\n",
      "\n",
      "        self.x = self.soln_grid.x\n",
      "        self.dx = self.soln_grid.dx\n",
      "\n",
      "        # store the source norm\n",
      "        self.source_norm = 0.0\n",
      "\n",
      "        # after solving, keep track of the number of cycles taken and\n",
      "        # the residual error (normalized to the source norm)\n",
      "\n",
      "        self.num_cycles = 0\n",
      "        self.residual_error = 1.e33\n",
      "\n",
      "    def get_solution(self):\n",
      "        return self.grids[self.nlevels-1].v.copy()\n",
      "\n",
      "    def get_solution_object(self):\n",
      "        return self.grids[self.nlevels-1]\n",
      "\n",
      "    def init_solution(self):\n",
      "        \"\"\"\n",
      "        initialize the solution to the elliptic problem as zero\n",
      "        \"\"\"\n",
      "        self.soln_grid.v[:] = 0.0\n",
      "\n",
      "    def init_rhs(self, data):\n",
      "        self.soln_grid.f[:] = data.copy()\n",
      "\n",
      "        # store the source norm\n",
      "        self.source_norm = self.soln_grid.norm(self.soln_grid.f)\n",
      "\n",
      "    def smooth(self, level, nsmooth):\n",
      "        \"\"\" use Gauss-Seidel iterations to smooth \"\"\"\n",
      "\n",
      "        myg = self.grids[level]\n",
      "\n",
      "        myg.fill_bcs()\n",
      "\n",
      "        # do red-black G-S\n",
      "        for _ in range(nsmooth):\n",
      "\n",
      "            myg.v[myg.ilo:myg.ihi+1:2] = 0.5 * (\n",
      "                -myg.dx * myg.dx * myg.f[myg.ilo:myg.ihi+1:2] +\n",
      "                myg.v[myg.ilo+1:myg.ihi+2:2] + myg.v[myg.ilo-1:myg.ihi:2])\n",
      "\n",
      "            myg.fill_bcs()\n",
      "\n",
      "            myg.v[myg.ilo+1:myg.ihi+1:2] = 0.5 * (\n",
      "                -myg.dx * myg.dx * myg.f[myg.ilo+1:myg.ihi+1:2] +\n",
      "                myg.v[myg.ilo+2:myg.ihi+2:2] + myg.v[myg.ilo:myg.ihi:2])\n",
      "\n",
      "            myg.fill_bcs()\n",
      "\n",
      "    def solve(self, rtol=1.e-11):\n",
      "        \"\"\"do V-cycles util the L2 norm of the relative solution difference is\n",
      "        < rtol\n",
      "\n",
      "        \"\"\"\n",
      "\n",
      "        if self.verbose:\n",
      "            print(\"source norm = \", self.source_norm)\n",
      "\n",
      "        residual_error = 1.e33\n",
      "        cycle = 1\n",
      "\n",
      "        # diagnostics that are returned -- residual error norm and true\n",
      "        # error norm (if possible) for each cycle\n",
      "        rlist = []\n",
      "        elist = []\n",
      "\n",
      "        while residual_error > rtol and cycle <= self.max_cycles:\n",
      "\n",
      "            # zero out the solution on all but the finest grid\n",
      "            for level in range(self.nlevels-1):\n",
      "                self.grids[level].v[:] = 0.0\n",
      "\n",
      "            # descending part\n",
      "            if self.verbose:\n",
      "                print(f\"<<< beginning V-cycle (cycle {cycle}) >>>\\n\")\n",
      "\n",
      "            self.v_cycle(self.nlevels-1)\n",
      "\n",
      "            # compute the residual error, relative to the source norm\n",
      "            self.soln_grid.compute_residual()\n",
      "            residual_error = self.soln_grid.norm(self.soln_grid.r)\n",
      "            if self.source_norm != 0.0:\n",
      "                residual_error /= self.source_norm\n",
      "\n",
      "            if residual_error < rtol:\n",
      "                self.num_cycles = cycle\n",
      "                self.residual_error = residual_error\n",
      "                self.soln_grid.fill_bcs()\n",
      "\n",
      "            if self.verbose:\n",
      "                print(f\"cycle {cycle}: residual err / source norm = {residual_error:11.6g}\\n\")\n",
      "\n",
      "            rlist.append(residual_error)\n",
      "\n",
      "            if self.true_function is not None:\n",
      "                elist.append(self.soln_grid.norm(self.soln_grid.v - self.true_function(self.soln_grid.x)))\n",
      "\n",
      "            cycle += 1\n",
      "\n",
      "        return elist, rlist\n",
      "\n",
      "    def v_cycle(self, level):\n",
      "\n",
      "        if level > 0:\n",
      "            fp = self.grids[level]\n",
      "            cp = self.grids[level-1]\n",
      "\n",
      "            if self.verbose:\n",
      "                fp.compute_residual()\n",
      "                old_res_norm = fp.norm(fp.r)\n",
      "\n",
      "            # smooth on the current level\n",
      "            self.smooth(level, self.nsmooth)\n",
      "\n",
      "            # compute the residual\n",
      "            fp.compute_residual()\n",
      "\n",
      "            if self.verbose:\n",
      "                print(f\"  level = {level}, nx = {fp.nx:4}, residual change: {old_res_norm:11.6g} -> {fp.norm(fp.r):11.6g}\")\n",
      "\n",
      "            # restrict the residual down to the RHS of the coarser level\n",
      "            cp.f[:] = fp.restrict(fp.r)\n",
      "\n",
      "            # solve the coarse problem\n",
      "            self.v_cycle(level-1)\n",
      "\n",
      "            # prolong the error up from the coarse grid\n",
      "            fp.v += cp.prolong(cp.v)\n",
      "\n",
      "            if self.verbose:\n",
      "                fp.compute_residual()\n",
      "                old_res_norm = fp.norm(fp.r)\n",
      "\n",
      "            # smooth\n",
      "            self.smooth(level, self.nsmooth)\n",
      "\n",
      "            if self.verbose:\n",
      "                fp.compute_residual()\n",
      "                print(f\"  level = {level}, nx = {fp.nx:4}, residual change: {old_res_norm:11.6g} -> {fp.norm(fp.r):11.6g}\")\n",
      "\n",
      "        else:\n",
      "            # solve the discrete coarse problem just via smoothing\n",
      "            if self.verbose:\n",
      "                print(\"  bottom solve\")\n",
      "\n",
      "            bp = self.grids[0]\n",
      "\n",
      "            self.smooth(0, self.nsmooth_bottom)\n",
      "\n",
      "            bp.fill_bcs()\n"
     ]
    }
   ],
   "source": [
    "%cat multigrid.py"
   ]
  },
  {
   "cell_type": "markdown",
   "metadata": {},
   "source": [
    "Let's try this out"
   ]
  },
  {
   "cell_type": "code",
   "execution_count": 4,
   "metadata": {
    "tags": []
   },
   "outputs": [],
   "source": [
    "def true(x):\n",
    "    # the analytic solution\n",
    "    return -np.sin(x) + x*np.sin(1.0)\n",
    "\n",
    "def f(x):\n",
    "    # the righthand side\n",
    "    return np.sin(x)"
   ]
  },
  {
   "cell_type": "code",
   "execution_count": 5,
   "metadata": {
    "tags": []
   },
   "outputs": [
    {
     "name": "stdout",
     "output_type": "stream",
     "text": [
      "source norm =  0.5221813198632965\n",
      "<<< beginning V-cycle (cycle 1) >>>\n",
      "\n",
      "  level = 6, nx =  128, residual change:    0.522181 ->    0.700617\n",
      "  level = 5, nx =   64, residual change:    0.495162 ->    0.649824\n",
      "  level = 4, nx =   32, residual change:    0.459083 ->    0.549621\n",
      "  level = 3, nx =   16, residual change:    0.387872 ->    0.351795\n",
      "  level = 2, nx =    8, residual change:    0.247396 ->   0.0731208\n",
      "  level = 1, nx =    4, residual change:   0.0502257 -> 4.11445e-05\n",
      "  bottom solve\n",
      "  level = 1, nx =    4, residual change: 3.04921e-05 -> 3.62431e-09\n",
      "  level = 2, nx =    8, residual change:   0.0618107 -> 0.000937419\n",
      "  level = 3, nx =   16, residual change:     0.37581 ->  0.00791276\n",
      "  level = 4, nx =   32, residual change:    0.769146 ->   0.0206557\n",
      "  level = 5, nx =   64, residual change:     1.23875 ->   0.0291926\n",
      "  level = 6, nx =  128, residual change:      1.8559 ->   0.0338419\n",
      "cycle 1: residual err / source norm =   0.0648087\n",
      "\n",
      "<<< beginning V-cycle (cycle 2) >>>\n",
      "\n",
      "  level = 6, nx =  128, residual change:   0.0338419 ->   0.0317092\n",
      "  level = 5, nx =   64, residual change:   0.0224078 ->   0.0270913\n",
      "  level = 4, nx =   32, residual change:   0.0191314 ->   0.0186129\n",
      "  level = 3, nx =   16, residual change:   0.0131391 ->  0.00837232\n",
      "  level = 2, nx =    8, residual change:  0.00591933 ->  0.00171262\n",
      "  level = 1, nx =    4, residual change:  0.00117663 -> 9.64214e-07\n",
      "  bottom solve\n",
      "  level = 1, nx =    4, residual change: 7.14503e-07 -> 8.49423e-11\n",
      "  level = 2, nx =    8, residual change:  0.00144876 -> 2.21026e-05\n",
      "  level = 3, nx =   16, residual change:  0.00932633 -> 0.000317085\n",
      "  level = 4, nx =   32, residual change:   0.0209894 ->   0.0011109\n",
      "  level = 5, nx =   64, residual change:   0.0339925 ->  0.00188769\n",
      "  level = 6, nx =  128, residual change:   0.0499314 ->  0.00240723\n",
      "cycle 2: residual err / source norm =  0.00460995\n",
      "\n",
      "<<< beginning V-cycle (cycle 3) >>>\n",
      "\n",
      "  level = 6, nx =  128, residual change:  0.00240723 ->   0.0022994\n",
      "  level = 5, nx =   64, residual change:  0.00162566 ->  0.00208879\n",
      "  level = 4, nx =   32, residual change:  0.00147695 ->  0.00170259\n",
      "  level = 3, nx =   16, residual change:  0.00120312 ->  0.00103128\n",
      "  level = 2, nx =    8, residual change: 0.000724769 -> 0.000211595\n",
      "  level = 1, nx =    4, residual change: 0.000145338 -> 1.19054e-07\n",
      "  bottom solve\n",
      "  level = 1, nx =    4, residual change: 8.82319e-08 -> 1.04871e-11\n",
      "  level = 2, nx =    8, residual change:  0.00017885 -> 2.71041e-06\n",
      "  level = 3, nx =   16, residual change:  0.00108812 -> 2.33868e-05\n",
      "  level = 4, nx =   32, residual change:  0.00218287 -> 8.87994e-05\n",
      "  level = 5, nx =   64, residual change:  0.00308115 -> 0.000153082\n",
      "  level = 6, nx =  128, residual change:  0.00390778 -> 0.000198049\n",
      "cycle 3: residual err / source norm = 0.000379272\n",
      "\n",
      "<<< beginning V-cycle (cycle 4) >>>\n",
      "\n",
      "  level = 6, nx =  128, residual change: 0.000198049 -> 0.000191664\n",
      "  level = 5, nx =   64, residual change: 0.000135525 ->  0.00017191\n",
      "  level = 4, nx =   32, residual change:  0.00012151 -> 0.000116464\n",
      "  level = 3, nx =   16, residual change: 8.21779e-05 ->  3.9485e-05\n",
      "  level = 2, nx =    8, residual change: 2.79117e-05 -> 7.43198e-06\n",
      "  level = 1, nx =    4, residual change: 5.10658e-06 ->  4.1854e-09\n",
      "  bottom solve\n",
      "  level = 1, nx =    4, residual change: 3.10131e-09 -> 3.68729e-13\n",
      "  level = 2, nx =    8, residual change: 6.28922e-06 -> 9.62323e-08\n",
      "  level = 3, nx =   16, residual change: 4.31702e-05 -> 1.83078e-06\n",
      "  level = 4, nx =   32, residual change: 0.000115963 -> 7.33731e-06\n",
      "  level = 5, nx =   64, residual change: 0.000191138 -> 1.32008e-05\n",
      "  level = 6, nx =  128, residual change: 0.000260099 -> 1.72097e-05\n",
      "cycle 4: residual err / source norm = 3.29573e-05\n",
      "\n",
      "<<< beginning V-cycle (cycle 5) >>>\n",
      "\n",
      "  level = 6, nx =  128, residual change: 1.72097e-05 -> 1.65319e-05\n",
      "  level = 5, nx =   64, residual change: 1.16888e-05 -> 1.45261e-05\n",
      "  level = 4, nx =   32, residual change: 1.02693e-05 -> 1.06983e-05\n",
      "  level = 3, nx =   16, residual change: 7.56435e-06 -> 6.40215e-06\n",
      "  level = 2, nx =    8, residual change: 4.50194e-06 -> 1.32103e-06\n",
      "  level = 1, nx =    4, residual change: 9.07381e-07 ->   7.433e-10\n",
      "  bottom solve\n",
      "  level = 1, nx =    4, residual change: 5.50861e-10 -> 6.54748e-14\n",
      "  level = 2, nx =    8, residual change: 1.11663e-06 -> 1.69267e-08\n",
      "  level = 3, nx =   16, residual change: 6.78716e-06 -> 1.47246e-07\n",
      "  level = 4, nx =   32, residual change: 1.31085e-05 ->  6.2776e-07\n",
      "  level = 5, nx =   64, residual change: 1.73065e-05 -> 1.16723e-06\n",
      "  level = 6, nx =  128, residual change: 2.07958e-05 -> 1.54144e-06\n",
      "cycle 5: residual err / source norm = 2.95193e-06\n",
      "\n",
      "<<< beginning V-cycle (cycle 6) >>>\n",
      "\n",
      "  level = 6, nx =  128, residual change: 1.54144e-06 -> 1.48598e-06\n",
      "  level = 5, nx =   64, residual change: 1.05075e-06 -> 1.32109e-06\n",
      "  level = 4, nx =   32, residual change: 9.34071e-07 -> 8.83384e-07\n",
      "  level = 3, nx =   16, residual change: 6.23446e-07 -> 2.31782e-07\n",
      "  level = 2, nx =    8, residual change: 1.63401e-07 -> 3.53382e-08\n",
      "  level = 1, nx =    4, residual change:  2.4286e-08 -> 1.99112e-11\n",
      "  bottom solve\n",
      "  level = 1, nx =    4, residual change: 1.47525e-11 -> 1.75429e-15\n",
      "  level = 2, nx =    8, residual change: 2.99243e-08 -> 4.60355e-10\n",
      "  level = 3, nx =   16, residual change: 2.38669e-07 -> 1.29896e-08\n",
      "  level = 4, nx =   32, residual change: 8.26216e-07 -> 5.65267e-08\n",
      "  level = 5, nx =   64, residual change:  1.3865e-06 -> 1.05798e-07\n",
      "  level = 6, nx =  128, residual change: 1.81761e-06 -> 1.40268e-07\n",
      "cycle 6: residual err / source norm = 2.68619e-07\n",
      "\n",
      "<<< beginning V-cycle (cycle 7) >>>\n",
      "\n",
      "  level = 6, nx =  128, residual change: 1.40268e-07 -> 1.34754e-07\n",
      "  level = 5, nx =   64, residual change: 9.52817e-08 -> 1.16914e-07\n",
      "  level = 4, nx =   32, residual change: 8.26508e-08 -> 8.00411e-08\n",
      "  level = 3, nx =   16, residual change: 5.65961e-08 ->  4.7816e-08\n",
      "  level = 2, nx =    8, residual change: 3.36554e-08 -> 9.97506e-09\n",
      "  level = 1, nx =    4, residual change: 6.85178e-09 -> 5.61298e-12\n",
      "  bottom solve\n",
      "  level = 1, nx =    4, residual change: 4.15975e-12 -> 4.94433e-16\n",
      "  level = 2, nx =    8, residual change: 8.43232e-09 -> 1.27905e-10\n",
      "  level = 3, nx =   16, residual change: 5.12193e-08 -> 1.12547e-09\n",
      "  level = 4, nx =   32, residual change: 9.52837e-08 -> 4.96598e-09\n",
      "  level = 5, nx =   64, residual change:  1.2275e-07 -> 9.63633e-09\n",
      "  level = 6, nx =  128, residual change: 1.45577e-07 -> 1.28961e-08\n",
      "cycle 7: residual err / source norm = 2.46965e-08\n",
      "\n",
      "<<< beginning V-cycle (cycle 8) >>>\n",
      "\n",
      "  level = 6, nx =  128, residual change: 1.28961e-08 ->  1.2395e-08\n",
      "  level = 5, nx =   64, residual change: 8.76447e-09 -> 1.08791e-08\n",
      "  level = 4, nx =   32, residual change: 7.69259e-09 -> 7.17337e-09\n",
      "  level = 3, nx =   16, residual change: 5.06449e-09 ->  1.5655e-09\n",
      "  level = 2, nx =    8, residual change: 1.09623e-09 -> 1.28153e-10\n",
      "  level = 1, nx =    4, residual change: 8.81273e-11 -> 7.23224e-14\n",
      "  bottom solve\n",
      "  level = 1, nx =    4, residual change: 5.35688e-14 -> 6.37363e-18\n",
      "  level = 2, nx =    8, residual change: 1.08749e-10 -> 1.70162e-12\n",
      "  level = 3, nx =   16, residual change: 1.40942e-09 ->  9.9182e-11\n",
      "  level = 4, nx =   32, residual change: 6.53672e-09 -> 4.61658e-10\n",
      "  level = 5, nx =   64, residual change:  1.1048e-08 -> 8.88393e-10\n",
      "  level = 6, nx =  128, residual change: 1.42054e-08 -> 1.19231e-09\n",
      "cycle 8: residual err / source norm = 2.28332e-09\n",
      "\n",
      "<<< beginning V-cycle (cycle 9) >>>\n",
      "\n",
      "  level = 6, nx =  128, residual change: 1.19231e-09 -> 1.14391e-09\n",
      "  level = 5, nx =   64, residual change: 8.08857e-10 -> 9.85038e-10\n",
      "  level = 4, nx =   32, residual change: 6.96384e-10 -> 6.43751e-10\n",
      "  level = 3, nx =   16, residual change: 4.55092e-10 -> 3.80371e-10\n",
      "  level = 2, nx =    8, residual change: 2.67995e-10 -> 8.01385e-11\n",
      "  level = 1, nx =    4, residual change: 5.50479e-11 -> 4.50973e-14\n",
      "  bottom solve\n",
      "  level = 1, nx =    4, residual change: 3.34209e-14 -> 3.97256e-18\n",
      "  level = 2, nx =    8, residual change: 6.77507e-11 -> 1.02848e-12\n",
      "  level = 3, nx =   16, residual change: 4.12047e-10 -> 9.35298e-12\n",
      "  level = 4, nx =   32, residual change: 7.47687e-10 -> 4.11344e-11\n",
      "  level = 5, nx =   64, residual change: 9.62859e-10 -> 8.19452e-11\n",
      "  level = 6, nx =  128, residual change: 1.14364e-09 -> 1.10707e-10\n",
      "cycle 9: residual err / source norm = 2.12009e-10\n",
      "\n",
      "<<< beginning V-cycle (cycle 10) >>>\n",
      "\n",
      "  level = 6, nx =  128, residual change: 1.10707e-10 -> 1.06183e-10\n",
      "  level = 5, nx =   64, residual change: 7.50834e-11 -> 9.22324e-11\n",
      "  level = 4, nx =   32, residual change: 6.52181e-11 -> 6.00174e-11\n",
      "  level = 3, nx =   16, residual change: 4.23901e-11 -> 1.28587e-11\n",
      "  level = 2, nx =    8, residual change: 8.94185e-12 -> 2.23329e-13\n",
      "  level = 1, nx =    4, residual change: 1.52558e-13 -> 1.23793e-16\n",
      "  bottom solve\n",
      "  level = 1, nx =    4, residual change: 9.19761e-17 -> 1.08809e-20\n",
      "  level = 2, nx =    8, residual change: 1.85396e-13 -> 2.38713e-15\n",
      "  level = 3, nx =   16, residual change: 1.01041e-11 -> 7.80254e-13\n",
      "  level = 4, nx =   32, residual change: 5.45635e-11 -> 3.87589e-12\n",
      "  level = 5, nx =   64, residual change: 9.16104e-11 -> 7.60695e-12\n",
      "  level = 6, nx =  128, residual change:  1.1637e-10 ->  1.0298e-11\n",
      "cycle 10: residual err / source norm =  1.9721e-11\n",
      "\n",
      "<<< beginning V-cycle (cycle 11) >>>\n",
      "\n",
      "  level = 6, nx =  128, residual change:  1.0298e-11 -> 9.87413e-12\n",
      "  level = 5, nx =   64, residual change: 6.97734e-12 -> 8.45531e-12\n",
      "  level = 4, nx =   32, residual change: 5.97782e-12 -> 5.37496e-12\n",
      "  level = 3, nx =   16, residual change: 3.79861e-12 -> 3.07967e-12\n",
      "  level = 2, nx =    8, residual change: 2.17194e-12 -> 6.52951e-13\n",
      "  level = 1, nx =    4, residual change: 4.48533e-13 -> 3.67473e-16\n",
      "  bottom solve\n",
      "  level = 1, nx =    4, residual change: 2.72325e-16 -> 3.23706e-20\n",
      "  level = 2, nx =    8, residual change: 5.52076e-13 -> 8.38793e-15\n",
      "  level = 3, nx =   16, residual change: 3.37089e-12 -> 8.09049e-14\n",
      "  level = 4, nx =   32, residual change: 6.08043e-12 -> 3.48793e-13\n",
      "  level = 5, nx =   64, residual change: 7.95466e-12 -> 7.06031e-13\n",
      "  level = 6, nx =  128, residual change: 9.52594e-12 -> 9.61779e-13\n",
      "cycle 11: residual err / source norm = 1.84185e-12\n",
      "\n"
     ]
    }
   ],
   "source": [
    "nx = 128\n",
    "\n",
    "# create the multigrid object\n",
    "a = multigrid.Multigrid(nx,\n",
    "                        bc_left_type=\"dirichlet\", bc_right_type=\"dirichlet\",\n",
    "                        verbose=1, true_function=true)\n",
    "\n",
    "# initialize the RHS using the function f\n",
    "a.init_rhs(f(a.x))\n",
    "\n",
    "# solve to a relative tolerance of 1.e-11\n",
    "elist, rlist = a.solve(rtol=1.e-11)"
   ]
  },
  {
   "cell_type": "markdown",
   "metadata": {},
   "source": [
    "Notice that it did 11 V-cycles.  \n",
    "\n",
    "We also see that each V-cycle reduces the residual error by about an order of magnitude&mdash;this is a good rule-of-thumb for multigrid."
   ]
  },
  {
   "cell_type": "markdown",
   "metadata": {},
   "source": [
    "We can also compute the error with respect to the analytic solution (since we know that for this case):"
   ]
  },
  {
   "cell_type": "code",
   "execution_count": 6,
   "metadata": {},
   "outputs": [
    {
     "name": "stdout",
     "output_type": "stream",
     "text": [
      "L2 error from true solution = 3.8905913165725256e-06\n"
     ]
    }
   ],
   "source": [
    "# get the solution \n",
    "v = a.get_solution()\n",
    "\n",
    "# compute the error from the analytic solution\n",
    "e = v - true(a.x)\n",
    "\n",
    "print(f\"L2 error from true solution = {a.soln_grid.norm(e)}\")"
   ]
  },
  {
   "cell_type": "markdown",
   "metadata": {},
   "source": [
    "Now let's plot the solution and how the error changes as a function of cycle"
   ]
  },
  {
   "cell_type": "code",
   "execution_count": 9,
   "metadata": {},
   "outputs": [
    {
     "data": {
      "text/plain": [
       "<matplotlib.legend.Legend at 0x7eff57908790>"
      ]
     },
     "execution_count": 9,
     "metadata": {},
     "output_type": "execute_result"
    },
    {
     "data": {
      "image/png": "[encoded data removed]",
      "text/plain": [
       "<Figure size 640x480 with 1 Axes>"
      ]
     },
     "metadata": {},
     "output_type": "display_data"
    }
   ],
   "source": [
    "fig = plt.figure()\n",
    "ax = fig.add_subplot(111)\n",
    "\n",
    "ax.plot(a.x[a.ilo:a.ihi+1], true(a.x[a.ilo:a.ihi+1]),\n",
    "        color=\"0.5\", ls=\":\", label=\"analytic solution\")\n",
    "ax.scatter(a.x[a.ilo:a.ihi+1], v[a.ilo:a.ihi+1],\n",
    "           color=\"C1\", label=\"multigrid solution\", marker=\"+\")\n",
    "ax.set_xlabel(\"x\")\n",
    "ax.set_ylabel(r\"$\\phi$\")\n",
    "ax.legend()"
   ]
  },
  {
   "cell_type": "code",
   "execution_count": 8,
   "metadata": {},
   "outputs": [
    {
     "data": {
      "text/plain": [
       "<matplotlib.legend.Legend at 0x7eff5790da10>"
      ]
     },
     "execution_count": 8,
     "metadata": {},
     "output_type": "execute_result"
    },
    {
     "data": {
      "image/png": "[encoded data removed]",
      "text/plain": [
       "<Figure size 640x480 with 1 Axes>"
      ]
     },
     "metadata": {},
     "output_type": "display_data"
    }
   ],
   "source": [
    "fig = plt.figure()\n",
    "ax = fig.add_subplot(111)\n",
    "\n",
    "ncycle = np.arange(len(elist)) + 1\n",
    "\n",
    "ax.plot(ncycle, elist, label=r\"$\\| e\\|$\")\n",
    "ax.plot(ncycle, rlist, \"--\", label=r\"$\\| r\\|$\")\n",
    "\n",
    "ax.set_xlabel(\"# of V-cycles\")\n",
    "ax.set_ylabel(\"L2 norm of error\")\n",
    "\n",
    "ax.set_yscale('log')\n",
    "\n",
    "ax.legend()"
   ]
  },
  {
   "cell_type": "markdown",
   "metadata": {},
   "source": [
    "We see the same behavior as we did with smoothing: the true error, $\\| e \\|$ stalls because of the truncation error of our discretization, but the residual error, $\\| r \\|$ keeps\n",
    "decreasing (at least until it reaches roundoff error)."
   ]
  }
 ],
 "metadata": {
  "kernelspec": {
   "display_name": "Python 3 (ipykernel)",
   "language": "python",
   "name": "python3"
  },
  "language_info": {
   "codemirror_mode": {
    "name": "ipython",
    "version": 3
   },
   "file_extension": ".py",
   "mimetype": "text/x-python",
   "name": "python",
   "nbconvert_exporter": "python",
   "pygments_lexer": "ipython3",
   "version": "3.11.2"
  }
 },
 "nbformat": 4,
 "nbformat_minor": 4
}
