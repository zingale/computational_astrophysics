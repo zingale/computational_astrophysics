{
 "cells": [
  {
   "cell_type": "markdown",
   "metadata": {},
   "source": [
    "# Residual"
   ]
  },
  {
   "cell_type": "markdown",
   "metadata": {},
   "source": [
    "We need to have a way to tell when to stop smoothing.\n",
    "\n",
    "If we know the analytic solution, then we can just compare to that, and keep iterating until the error is small, but that kinda defeats the purpose."
   ]
  },
  {
   "cell_type": "markdown",
   "metadata": {},
   "source": [
    "Instead, we can measure how well we satisfy the discrete equation&mdash;this is called the *residual*.\n",
    "\n",
    "$$r_i \\equiv f_i - \\frac{\\phi^{(k)}_{i+1} - 2 \\phi^{(k)}_i + \\phi_{i-1}^{(k)}}{\\Delta x^2}$$\n",
    "\n",
    "We still need something to compare to, so we define the *source norm*, $\\| f \\|$, and we will pick a tolerance $\\epsilon$ and iterate until:\n",
    "\n",
    "$$\\| r \\| < \\epsilon \\| f \\|$$\n",
    "\n",
    "For the special case of a homogeneous source ($f = 0$), then we will iterate until\n",
    "\n",
    "$$\\| r \\| < \\epsilon$$\n",
    "\n",
    "We will use the L2 norm:\n",
    "\n",
    "$$\\| e \\|_2 \\equiv \\left ( \\Delta x \\sum_i |e_i|^2 \\right )^{1/2}$$"
   ]
  },
  {
   "cell_type": "markdown",
   "metadata": {},
   "source": [
    "## Implementation"
   ]
  },
  {
   "cell_type": "markdown",
   "metadata": {},
   "source": [
    "Let's update our grid class to include a norm and residual function:"
   ]
  },
  {
   "cell_type": "code",
   "execution_count": 1,
   "metadata": {
    "tags": []
   },
   "outputs": [],
   "source": [
    "import numpy as np\n",
    "import matplotlib.pyplot as plt"
   ]
  },
  {
   "cell_type": "markdown",
   "metadata": {},
   "source": [
    "This is the same grid class as before"
   ]
  },
  {
   "cell_type": "code",
   "execution_count": 2,
   "metadata": {
    "tags": []
   },
   "outputs": [],
   "source": [
    "class Grid:\n",
    "    def __init__(self, nx, ng=1, xmin=0, xmax=1,\n",
    "                 bc_left_type=\"dirichlet\", bc_left_val=0.0,\n",
    "                 bc_right_type=\"dirichlet\", bc_right_val=0.0):\n",
    "\n",
    "        self.xmin = xmin\n",
    "        self.xmax = xmax\n",
    "        self.ng = ng\n",
    "        self.nx = nx\n",
    "        \n",
    "        self.bc_left_type = bc_left_type\n",
    "        self.bc_left_val = bc_left_val\n",
    "        \n",
    "        self.bc_right_type = bc_right_type\n",
    "        self.bc_right_val = bc_right_val\n",
    "        \n",
    "        # python is zero-based.  Make easy integers to know where the\n",
    "        # real data lives\n",
    "        self.ilo = ng\n",
    "        self.ihi = ng+nx-1\n",
    "\n",
    "        # physical coords -- cell-centered\n",
    "        self.dx = (xmax - xmin)/(nx)\n",
    "        self.x = xmin + (np.arange(nx+2*ng)-ng+0.5)*self.dx\n",
    "\n",
    "        # storage for the solution\n",
    "        self.phi = self.scratch_array()\n",
    "        self.f = self.scratch_array()\n",
    "        \n",
    "    def scratch_array(self):\n",
    "        \"\"\"return a scratch array dimensioned for our grid \"\"\"\n",
    "        return np.zeros((self.nx+2*self.ng), dtype=np.float64)\n",
    "\n",
    "    def norm(self, e):\n",
    "        \"\"\"compute the L2 norm of e that lives on our grid\"\"\"\n",
    "        return np.sqrt(self.dx * np.sum(e[self.ilo:self.ihi+1]**2))\n",
    "    \n",
    "    def fill_bcs(self):\n",
    "        \"\"\"fill the boundary conditions on phi\"\"\"\n",
    "        \n",
    "        # we only deal with a single ghost cell here\n",
    "        \n",
    "        # left\n",
    "        if self.bc_left_type.lower() == \"dirichlet\":\n",
    "            self.phi[self.ilo-1] = 2 * self.bc_left_val - self.phi[self.ilo]\n",
    "        elif self.bc_left_type.lower() == \"neumann\":\n",
    "            self.phi[self.ilo-1] = self.phi[self.ilo] - self.dx * self.bc_left_val\n",
    "        else:\n",
    "            raise ValueError(\"invalid bc_left_type\")\n",
    "            \n",
    "        # right\n",
    "        if self.bc_right_type.lower() == \"dirichlet\":\n",
    "            self.phi[self.ihi+1] = 2 * self.bc_right_val - self.phi[self.ihi]\n",
    "        elif self.bc_right_type.lower() == \"neumann\":\n",
    "            self.phi[self.ihi+1] = self.phi[self.ihi] - self.dx * self.bc_right_val\n",
    "        else:\n",
    "            raise ValueError(\"invalid bc_right_type\")"
   ]
  },
  {
   "cell_type": "markdown",
   "metadata": {},
   "source": [
    "Now we'll write our residual routine"
   ]
  },
  {
   "cell_type": "code",
   "execution_count": 3,
   "metadata": {
    "tags": []
   },
   "outputs": [],
   "source": [
    "def residual_norm(g):\n",
    "    \"\"\"compute the residual norm\"\"\"\n",
    "    r = g.scratch_array()\n",
    "    r[g.ilo:g.ihi+1] = g.f[g.ilo:g.ihi+1] - (g.phi[g.ilo+1:g.ihi+2] -\n",
    "                                            2 * g.phi[g.ilo:g.ihi+1] +\n",
    "                                            g.phi[g.ilo-1:g.ihi]) / g.dx**2\n",
    "    return g.norm(r)"
   ]
  },
  {
   "cell_type": "markdown",
   "metadata": {},
   "source": [
    "Now we'll write a relaxation function that does smoothing until either a maximum number of iterations is taken or we reach a desired tolerance.  If the tolerance is set to `None`, then the routine will take the full amount of iterations."
   ]
  },
  {
   "cell_type": "code",
   "execution_count": 8,
   "metadata": {
    "tags": []
   },
   "outputs": [],
   "source": [
    "class TooManyIterations(Exception):\n",
    "    pass\n",
    "\n",
    "def relax(g, tol=1.e-8, max_iters=200000, analytic=None):\n",
    "    \n",
    "    iter = 0\n",
    "    fnorm = g.norm(g.f)\n",
    "    \n",
    "    # if the RHS is f = 0, then set the norm to 1\n",
    "    # this ensures that we then check for residual < eps\n",
    "    if fnorm == 0.0:\n",
    "        fnorm = 1\n",
    "        \n",
    "    g.fill_bcs()        \n",
    "    r = residual_norm(g)\n",
    "    \n",
    "    res_norm = []\n",
    "    true_norm = []\n",
    "    \n",
    "    while iter < max_iters and (tol is None or r > tol * fnorm):\n",
    "\n",
    "        g.phi[g.ilo:g.ihi+1:2] = 0.5 * (-g.dx * g.dx * g.f[g.ilo:g.ihi+1:2] +\n",
    "                                        g.phi[g.ilo+1:g.ihi+2:2] + g.phi[g.ilo-1:g.ihi:2])\n",
    "    \n",
    "        g.fill_bcs()\n",
    "\n",
    "        g.phi[g.ilo+1:g.ihi+1:2] = 0.5 * (-g.dx * g.dx * g.f[g.ilo+1:g.ihi+1:2] +\n",
    "                                          g.phi[g.ilo+2:g.ihi+2:2] + g.phi[g.ilo:g.ihi:2])\n",
    "        \n",
    "        g.fill_bcs()\n",
    "        \n",
    "        r = residual_norm(g)\n",
    "        res_norm.append(r / fnorm)\n",
    "        \n",
    "        if analytic is not None:\n",
    "            true_norm.append(g.norm(g.phi - analytic(g.x)))\n",
    "        \n",
    "        iter += 1\n",
    "        \n",
    "    if tol is not None and iter >= max_iters:\n",
    "        raise TooManyIterations(f\"too many iterations, niter = {iter}\")\n",
    "        \n",
    "    return res_norm, true_norm, iter"
   ]
  },
  {
   "cell_type": "markdown",
   "metadata": {},
   "source": [
    "## Residual vs. Truncation Error\n",
    "\n",
    "Let's look at how the residual error compares to the truncation error of our discretization.  We'll take a fixed number of iterations for our same model problem,\n",
    "\n",
    "$$\\phi^{\\prime\\prime} = \\sin(x)$$\n",
    "\n",
    "on $[0, 1]$ with homogeneous Dirichlet BCs."
   ]
  },
  {
   "cell_type": "code",
   "execution_count": 9,
   "metadata": {
    "tags": []
   },
   "outputs": [],
   "source": [
    "def analytic(x):\n",
    "    return -np.sin(x) + x * np.sin(1.0)\n",
    "\n",
    "def f(x):\n",
    "    return np.sin(x)"
   ]
  },
  {
   "cell_type": "code",
   "execution_count": 10,
   "metadata": {
    "tags": []
   },
   "outputs": [
    {
     "name": "stdout",
     "output_type": "stream",
     "text": [
      "nx = 16, true error = 0.0002489743563076079\n",
      "nx = 32, true error = 6.22480653738797e-05\n",
      "nx = 64, true error = 1.5562295551083177e-05\n"
     ]
    },
    {
     "data": {
      "image/png": "[encoded data removed]",
      "text/plain": [
       "<Figure size 640x480 with 1 Axes>"
      ]
     },
     "metadata": {},
     "output_type": "display_data"
    }
   ],
   "source": [
    "from matplotlib.lines import Line2D\n",
    "fig, ax = plt.subplots()\n",
    "\n",
    "for i, nx in enumerate([16, 32, 64]):\n",
    "    g = Grid(nx)\n",
    "    g.f[:] = f(g.x)\n",
    "\n",
    "    res_norm, true_norm, _ = relax(g, tol=None, max_iters=20000, analytic=analytic)\n",
    "    n = np.arange(len(res_norm)) + 1\n",
    "    \n",
    "    ax.loglog(n, true_norm, label=f\"{nx}\", color=f\"C{i}\")\n",
    "    ax.loglog(n, res_norm, ls=\":\", color=f\"C{i}\")\n",
    "    \n",
    "    print(f\"nx = {nx}, true error = {true_norm[-1]}\")\n",
    "\n",
    "# manually add line types to the legend\n",
    "handles, labels = ax.get_legend_handles_labels()\n",
    "line1 = Line2D([0], [0], ls=\"-\", color=\"k\", label=\"truncation error\")\n",
    "line2 = Line2D([0], [0], ls=\":\", color=\"k\", label=\"residual\")\n",
    "handles.extend([line1, line2])\n",
    "ax.legend(handles=handles, ncol=2)\n",
    "\n",
    "ax.set_xlabel(\"number of smoothing iterations\")\n",
    "ax.grid(ls=\":\", color=\"0.5\")"
   ]
  },
  {
   "cell_type": "markdown",
   "metadata": {},
   "source": [
    "Look at what this shows us:\n",
    "    \n",
    "* The truncation error (solid line) stalls at a much higher value than the residual (dotted).  \n",
    "\n",
    "* The truncation error converges second order with the number of zones (look at the numbers printed during the run)\n",
    "\n",
    "* As we increase the number of zones, we need more iterations until the residual drops to machine roundoff\n",
    "\n",
    "* The residual error eventually reaches roundoff&mdash;this indicates that we satisfy the discrete equation \"exactly\""
   ]
  },
  {
   "cell_type": "markdown",
   "metadata": {},
   "source": [
    "```{important}\n",
    "The residual is telling us how well we satisfy the discrete form of Poisson's equation, but it is not telling us anything about whether the discrete approximation we are using for Poisson's equation is a good approximation.  That is our job as a computational scientist to assess.\n",
    "```\n",
    "\n",
    "We are using a second-order accurate discretization.  If needed, we could use a higher-order accurate method, although\n",
    "that would be more computationally expensive."
   ]
  },
  {
   "cell_type": "markdown",
   "metadata": {},
   "source": [
    "## In-class attempt"
   ]
  },
  {
   "cell_type": "markdown",
   "metadata": {},
   "source": [
    "Let's try to solve the problem \n",
    "    \n",
    "$$\\phi^{\\prime\\prime} = -4\\pi^2 \\cos(2\\pi x)$$\n",
    "    \n",
    "on $[0, 1]$ with homogeneous Neumann boundary conditions.\n"
   ]
  },
  {
   "cell_type": "code",
   "execution_count": null,
   "metadata": {},
   "outputs": [],
   "source": []
  },
  {
   "cell_type": "markdown",
   "metadata": {},
   "source": [
    "## C++ implementation\n",
    "\n",
    "Here's a C++ implementation that supports Dirichlet boundary conditions.\n",
    "\n",
    "* [poisson.H](../../../examples/poisson/poisson.H)\n",
    "\n",
    "  ```{literalinclude} ../../../examples/poisson/poisson.H\n",
    "  :language: C++\n",
    "  ```\n",
    "  \n",
    "* [poisson.cpp](../../../examples/poisson/poisson.cpp)\n",
    "\n",
    "  ```{literalinclude} ../../../examples/poisson/poisson.cpp\n",
    "  :language: C++\n",
    "  ```\n",
    "  \n",
    "This can be compiled as:\n",
    "\n",
    "```\n",
    "g++ -I. -o poisson poisson.cpp\n",
    "```\n",
    "\n",
    "and it will output a text file, `poisson.txt` with 3 columns of information: $x$, $\\phi$, and $f$."
   ]
  }
 ],
 "metadata": {
  "kernelspec": {
   "display_name": "Python 3 (ipykernel)",
   "language": "python",
   "name": "python3"
  },
  "language_info": {
   "codemirror_mode": {
    "name": "ipython",
    "version": 3
   },
   "file_extension": ".py",
   "mimetype": "text/x-python",
   "name": "python",
   "nbconvert_exporter": "python",
   "pygments_lexer": "ipython3",
   "version": "3.13.2"
  }
 },
 "nbformat": 4,
 "nbformat_minor": 4
}
