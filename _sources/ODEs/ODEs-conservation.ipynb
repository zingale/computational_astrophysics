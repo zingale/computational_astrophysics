{
 "cells": [
  {
   "cell_type": "markdown",
   "id": "79e1355b-b9a7-4aff-a17d-604531ee3c0e",
   "metadata": {
    "editable": true,
    "slideshow": {
     "slide_type": ""
    },
    "tags": []
   },
   "source": [
    "# ODEs and Conservation"
   ]
  },
  {
   "cell_type": "markdown",
   "id": "9e9e0bef-c96b-461f-8895-dd06874ee277",
   "metadata": {
    "editable": true,
    "slideshow": {
     "slide_type": ""
    },
    "tags": []
   },
   "source": [
    "As we saw now in a few examples, the Runge-Kutta methods do not conserve energy.  For integrating over very long timescales, this can be problematic.\n",
    "\n",
    "Let's explore some other methods to get a feel for what it means to be conservative."
   ]
  },
  {
   "cell_type": "code",
   "execution_count": 1,
   "id": "47dabdf5-82b5-4038-a87c-60116b5688a5",
   "metadata": {},
   "outputs": [],
   "source": [
    "import numpy as np\n",
    "import matplotlib.pyplot as plt"
   ]
  },
  {
   "cell_type": "markdown",
   "id": "82d94c0d-f01c-4128-918b-35fe27031763",
   "metadata": {
    "editable": true,
    "slideshow": {
     "slide_type": ""
    },
    "tags": []
   },
   "source": [
    "## Euler-Cromer method\n",
    "\n",
    "The [Euler-Cromer method](https://en.wikipedia.org/wiki/Semi-implicit_Euler_method) or semi-implicit Euler method\n",
    "is a first order method very similar to the first-order Euler, but with one simple change.  The update is:\n",
    "\n",
    "$${\\bf v}^{n+1} = {\\bf v}^n + \\tau \\,{\\bf a}({\\bf r}^{n}) + \\mathcal{O}(\\tau^2)$$\n",
    "\n",
    "$${\\bf r}^{n+1} = {\\bf r}^n + \\tau \\, {\\color{red}{\\bf v}^{n+1}} + \\mathcal{O}(\\tau^2)$$"
   ]
  },
  {
   "cell_type": "markdown",
   "id": "83c70212-52a1-4170-ab09-049bc74130e6",
   "metadata": {
    "editable": true,
    "slideshow": {
     "slide_type": ""
    },
    "tags": []
   },
   "source": [
    "```{note}\n",
    "The only change is that we use the updated velocity, ${\\bf v}^{n+1}$ in the expression to get the new position.  This is not an _implicit method_, since we already have the new velocity from the first expression.\n",
    "```"
   ]
  },
  {
   "cell_type": "markdown",
   "id": "59b4602a-9ccc-442c-8da9-b613583422ed",
   "metadata": {
    "editable": true,
    "slideshow": {
     "slide_type": ""
    },
    "tags": []
   },
   "source": [
    "## Implementation\n",
    "\n",
    "Let's integrate our planet and compare this to the original Euler method.\n",
    "\n",
    "We'll use the same helper module to provide the core functions we need, these are now in a module [orbit_util.py](https://github.com/zingale/computational_astrophysics/blob/main/content/ODEs/orbit_util.py)."
   ]
  },
  {
   "cell_type": "code",
   "execution_count": 2,
   "id": "11b36e1d-7ef2-420b-bb21-7ef9277554a7",
   "metadata": {
    "editable": true,
    "slideshow": {
     "slide_type": ""
    },
    "tags": []
   },
   "outputs": [],
   "source": [
    "import orbit_util as ou"
   ]
  },
  {
   "cell_type": "markdown",
   "id": "c3aed103-1f81-4d3f-97ff-14d76773b29c",
   "metadata": {},
   "source": [
    "Here's the original Euler method"
   ]
  },
  {
   "cell_type": "code",
   "execution_count": 3,
   "id": "355773ba-4e0b-4ce6-902e-121897db5754",
   "metadata": {},
   "outputs": [],
   "source": [
    "def euler_orbit(state0, tau, T):\n",
    "    \"\"\"integrate an orbit given an initial position, pos0, and velocity, vel0,\n",
    "    using first-order Euler integration\"\"\"\n",
    "    \n",
    "    times = []\n",
    "    history = []\n",
    "    \n",
    "    # initialize time\n",
    "    t = 0\n",
    "    \n",
    "    # store the initial conditions\n",
    "    times.append(t)\n",
    "    history.append(state0)\n",
    "    \n",
    "    # main timestep loop\n",
    "    while t < T:\n",
    "        \n",
    "        state_old = history[-1]\n",
    "        \n",
    "        # make sure that the last step does not take us past T\n",
    "        if t + tau > T:\n",
    "            tau = T - t\n",
    "\n",
    "        # get the RHS\n",
    "        ydot = ou.rhs(state_old)\n",
    "        \n",
    "        # do the Euler update\n",
    "        state_new = state_old + tau * ydot\n",
    "        t += tau\n",
    "        \n",
    "        # store the state\n",
    "        times.append(t)\n",
    "        history.append(state_new)\n",
    "        \n",
    "    return times, history"
   ]
  },
  {
   "cell_type": "markdown",
   "id": "8cb2b7b0-5e92-4fb6-88c6-0f22292ba33b",
   "metadata": {},
   "source": [
    "and here's Euler-Cromer"
   ]
  },
  {
   "cell_type": "code",
   "execution_count": 4,
   "id": "bbab7e05-fcab-4722-aedb-ada5a2cbfb09",
   "metadata": {},
   "outputs": [],
   "source": [
    "def euler_cromer_orbit(state0, tau, T):\n",
    "    \"\"\"integrate an orbit given an initial position, pos0, and velocity, vel0,\n",
    "    using first-order Euler-Cromer integration\"\"\"\n",
    "    \n",
    "    times = []\n",
    "    history = []\n",
    "    \n",
    "    # initialize time\n",
    "    t = 0\n",
    "    \n",
    "    # store the initial conditions\n",
    "    times.append(t)\n",
    "    history.append(state0)\n",
    "    \n",
    "    # main timestep loop\n",
    "    while t < T:\n",
    "        \n",
    "        state_old = history[-1]\n",
    "        \n",
    "        # make sure that the last step does not take us past T\n",
    "        if t + tau > T:\n",
    "            tau = T - t\n",
    "\n",
    "        # get the RHS\n",
    "        ydot = ou.rhs(state_old)\n",
    "        \n",
    "        # do the Euler update\n",
    "        unew = state_old.u + tau * ydot.u\n",
    "        vnew = state_old.v + tau * ydot.v\n",
    "        \n",
    "        xnew = state_old.x + tau * unew\n",
    "        ynew = state_old.y + tau * vnew        \n",
    "\n",
    "        state_new = ou.OrbitState(xnew, ynew, unew, vnew)\n",
    "        t += tau\n",
    "        \n",
    "        # store the state\n",
    "        times.append(t)\n",
    "        history.append(state_new)\n",
    "        \n",
    "    return times, history"
   ]
  },
  {
   "cell_type": "code",
   "execution_count": 5,
   "id": "72637bfd-74e4-4dcd-b3bc-7a69928722b4",
   "metadata": {},
   "outputs": [],
   "source": [
    "state0 = ou.initial_conditions()\n",
    "\n",
    "tau = 0.01\n",
    "tmax = 1.0\n",
    "\n",
    "times_euler, history_euler = euler_orbit(state0, tau, tmax)\n",
    "times_ec, history_ec = euler_cromer_orbit(state0, tau, tmax)"
   ]
  },
  {
   "cell_type": "code",
   "execution_count": 6,
   "id": "672ebdd9-25ef-49c7-a009-e79e00c41f43",
   "metadata": {},
   "outputs": [
    {
     "data": {
      "text/plain": [
       "<matplotlib.legend.Legend at 0x7ff2d07358d0>"
      ]
     },
     "execution_count": 6,
     "metadata": {},
     "output_type": "execute_result"
    },
    {
     "data": {
      "image/png": "[encoded data removed]",
      "text/plain": [
       "<Figure size 640x480 with 1 Axes>"
      ]
     },
     "metadata": {},
     "output_type": "display_data"
    }
   ],
   "source": [
    "fig = ou.plot(history_euler, label=\"Euler\")\n",
    "ou.plot(history_ec, ax=fig.gca(), label=\"Euler-Cromer\")\n",
    "fig.gca().legend()"
   ]
  },
  {
   "cell_type": "markdown",
   "id": "002a6e9b-4ac6-4325-9634-65ed035aa664",
   "metadata": {},
   "source": [
    "These are both first-order accurate, but notice how much better the Euler-Cromer solution is!"
   ]
  },
  {
   "cell_type": "markdown",
   "id": "632271f9-746e-4210-b10b-0e548d359d0c",
   "metadata": {
    "editable": true,
    "slideshow": {
     "slide_type": ""
    },
    "tags": []
   },
   "source": [
    "## Angular momentum\n",
    "\n",
    "Let's consider the angular momentum of the orbit as evolved by Euler-Cromer.\n",
    "\n",
    "Angular momentum / unit mass in the orbit plane is:\n",
    "\n",
    "$$l = |{\\bf v} \\times {\\bf r} | = uy - vx$$\n",
    "\n",
    "Using the Euler-Cromer evolution:\n",
    "\n",
    "$${\\bf v}^{n+1} = {\\bf v}^n + \\tau {\\bf a}({\\bf r}^n)$$\n",
    "\n",
    "$${\\bf r}^{n+1} = {\\bf r}^n + \\tau {\\bf v}^{n+1}$$\n",
    "\n",
    "We can compute the new angular momentum\n",
    "\n",
    "$$l^{n+1} = u^{n+1} y^{n+1} - v^{n+1} x^{n+1}\n",
    " = \\underbrace{u^n y^n - v^n x^n}_{\\mbox{this is}~ l^n} + \\tau \\underbrace{(a_{(x)}^n y^n - a_{(y)}^n x^n)}_{\\mbox{this is}~{\\bf a}\\times {\\bf r} = 0} + \\mathcal{O}(\\tau^2)$$\n",
    " \n",
    "We see that, for a central potential, since ${\\bf a} \\times {\\bf r} = 0$, the new (discrete) angular momentum is equal to the old angular momentum in this scheme (to $\\mathcal{O}(\\tau^2)$)."
   ]
  },
  {
   "cell_type": "markdown",
   "id": "92c72839-bbda-4391-93e4-eb591e2e44cc",
   "metadata": {
    "editable": true,
    "slideshow": {
     "slide_type": ""
    },
    "tags": []
   },
   "source": [
    "So the Euler-Cromer method does better because it has a notion of conservation."
   ]
  },
  {
   "cell_type": "markdown",
   "id": "6d7edbe8-4a52-4882-ab46-9ca5d565768b",
   "metadata": {
    "editable": true,
    "slideshow": {
     "slide_type": ""
    },
    "tags": []
   },
   "source": [
    "Note that there is still error, and it will converge globally first order."
   ]
  },
  {
   "cell_type": "markdown",
   "id": "e4314690-ffba-4a5d-88cc-3dacbbe8d331",
   "metadata": {
    "editable": true,
    "slideshow": {
     "slide_type": ""
    },
    "tags": []
   },
   "source": [
    "## Eccentric orbit\n",
    "\n",
    "Let's look at an eccentric orbit:"
   ]
  },
  {
   "cell_type": "code",
   "execution_count": 7,
   "id": "3e30e060-d439-4d17-9916-079341dbede8",
   "metadata": {
    "editable": true,
    "slideshow": {
     "slide_type": ""
    },
    "tags": []
   },
   "outputs": [],
   "source": [
    "a = 1.0\n",
    "e = 0.6\n",
    "\n",
    "# perihelion velocity\n",
    "x0 = 0.0          # start at x = 0 by definition\n",
    "y0 = a * (1.0 - e)  # start at perihelion\n",
    "\n",
    "u0 = -np.sqrt((ou.GM/a)* (1.0 + e) / (1.0 - e))\n",
    "v0 = 0.0\n",
    "\n",
    "state0 = ou.OrbitState(x0, y0, u0, v0)"
   ]
  },
  {
   "cell_type": "code",
   "execution_count": 8,
   "id": "ed532b7e-69da-4f12-93b7-5c7d086f75d9",
   "metadata": {
    "editable": true,
    "slideshow": {
     "slide_type": ""
    },
    "tags": []
   },
   "outputs": [
    {
     "data": {
      "text/plain": [
       "<matplotlib.legend.Legend at 0x7ff2d02e8790>"
      ]
     },
     "execution_count": 8,
     "metadata": {},
     "output_type": "execute_result"
    },
    {
     "data": {
      "image/png": "[encoded data removed]",
      "text/plain": [
       "<Figure size 640x480 with 1 Axes>"
      ]
     },
     "metadata": {},
     "output_type": "display_data"
    }
   ],
   "source": [
    "times_euler, history_euler = euler_orbit(state0, tau, tmax)\n",
    "times_ec, history_ec = euler_cromer_orbit(state0, tau, tmax)\n",
    "\n",
    "fig = ou.plot(history_euler, label=\"Euler\")\n",
    "ou.plot(history_ec, ax=fig.gca(), label=\"Euler-Cromer\")\n",
    "fig.gca().legend()"
   ]
  }
 ],
 "metadata": {
  "kernelspec": {
   "display_name": "Python 3 (ipykernel)",
   "language": "python",
   "name": "python3"
  },
  "language_info": {
   "codemirror_mode": {
    "name": "ipython",
    "version": 3
   },
   "file_extension": ".py",
   "mimetype": "text/x-python",
   "name": "python",
   "nbconvert_exporter": "python",
   "pygments_lexer": "ipython3",
   "version": "3.13.2"
  }
 },
 "nbformat": 4,
 "nbformat_minor": 5
}
