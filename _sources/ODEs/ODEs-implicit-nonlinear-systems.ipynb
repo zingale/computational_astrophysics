{
 "cells": [
  {
   "cell_type": "markdown",
   "metadata": {},
   "source": [
    "# Implicit Methods and Nonlinear Systems"
   ]
  },
  {
   "cell_type": "markdown",
   "metadata": {},
   "source": [
    "## Nonlinear system\n",
    "\n",
    "Consider the following nonlinear system:\n",
    "\n",
    "$$\n",
    "\\frac{d}{dt} \\left (\n",
    "   \\begin{array}{c} y_1 \\\\ y_2 \\\\ y_3 \\end{array}\n",
    "  \\right ) =\n",
    "%\n",
    "\\left (\n",
    " \\begin{array}{rrr}\n",
    "  -0.04 y_1 & + 10^4 y_2 y_3  & \\\\\n",
    "   0.04 y_1 & - 10^4 y_2 y_3 & -3\\times 10^7 y_2^2 \\\\\n",
    "   &  & 3\\times 10^7 y_2^2 \n",
    "\\end{array}\n",
    "\\right )\n",
    "$$\n",
    "\n",
    "The Jacobian is:\n",
    "\n",
    "$$\n",
    "{\\bf J} = \\left (\n",
    "\\begin{array}{ccc}\n",
    "  -0.04 & 10^4 y_3 & 10^4 y_2 \\\\\n",
    "   0.04 & -10^4 y_3 - 6\\times 10^7 y_2 & -10^4 y_2 \\\\\n",
    "   0 & 6\\times 10^7 y_2 & 0 \n",
    "\\end{array}\n",
    "\\right )$$\n",
    "\n",
    "(this example comes from the VODE documentation)\n",
    "\n",
    "We'll use the initial conditions\n",
    "\n",
    "$$y_1(0) = 1, \\, y_2(0) = y_3(0) = 0$$\n",
    "\n",
    "This system has the longterm behavior that:\n",
    "\n",
    "$$y_1, y_2 \\rightarrow 0, \\, y_3 \\rightarrow 1$$\n",
    "\n",
    "Although $y_2$ is initially 0, it will build up quickly and feed the creation of $y_3$."
   ]
  },
  {
   "cell_type": "markdown",
   "metadata": {},
   "source": [
    "## Linearization"
   ]
  },
  {
   "cell_type": "markdown",
   "metadata": {},
   "source": [
    "Let's write our system as:\n",
    "\n",
    "$$\\dot{\\bf y} = {\\bf f}({\\bf y})$$\n",
    "\n",
    "We will discretize this as:\n",
    "\n",
    "$${\\bf y}^{n+1} = {\\bf y}^n + \\tau {\\bf f}(t^{n+1}, {\\bf y}^{n+1})$$\n",
    "\n",
    "We will linearize the righthand side. We'll start with an initial guess for the new-time solution, ${\\bf y}_0^{n+1}$, and seek a correction, $\\Delta {\\bf y}_0$ such that:\n",
    "\n",
    "$${\\bf y}^{n+1} = {\\bf y}_0^{n+1} + \\Delta {\\bf y}_0$$\n",
    "\n",
    "Now we insert this in ${\\bf f}$ and Taylor expand:\n",
    "\n",
    "$${\\bf f}(t^{n+1},{\\bf y}^{n+1}) = {\\bf f}(t^{n+1}, {\\bf y}_0^{n+1} )\n",
    "   + \\underbrace{ \\left . \\frac{\\partial {\\bf f}}{\\partial {\\bf y}} \\right |_0}_{\\equiv {\\bf J}} \\Delta {\\bf y}_0 + \\ldots$$\n",
    "   \n",
    "Our linearized system becomes:\n",
    "\n",
    "$${\\bf y}^{n+1} = {\\bf y}^n + \\tau \\left [ {\\bf f}(t^{n+1}, {\\bf y}_0^{n+1}) + {\\bf J}\\Delta {\\bf y}_0 \\right ]$$\n",
    "\n",
    "or in terms of the correction:\n",
    "\n",
    "$$\\left ( {\\bf I} - \\tau {\\bf J} \\right ) \\Delta {\\bf y}_0 = {\\bf y}^n - {\\bf y}_0^{n+1}\n",
    "  + \\tau {\\bf f}(t^{n+1}, {\\bf y}_0^{n+1})$$\n",
    "  \n",
    "This is a linear system that we can solve.  The basic idea will be:\n",
    "\n",
    "* Apply the correction\n",
    "* Check for convergence: $\\| \\Delta {\\bf y} \\| < \\epsilon \\| {\\bf y}^n \\|$\n",
    "* Iterate, finding the next correction until we converge"
   ]
  },
  {
   "cell_type": "markdown",
   "metadata": {},
   "source": [
    "## Backward Euler Implementation"
   ]
  },
  {
   "cell_type": "markdown",
   "metadata": {},
   "source": [
    "First we need functions for the righthand side and Jacobian"
   ]
  },
  {
   "cell_type": "code",
   "execution_count": 1,
   "metadata": {
    "editable": true,
    "slideshow": {
     "slide_type": ""
    },
    "tags": []
   },
   "outputs": [],
   "source": [
    "import numpy as np\n",
    "import matplotlib.pyplot as plt"
   ]
  },
  {
   "cell_type": "code",
   "execution_count": 2,
   "metadata": {},
   "outputs": [],
   "source": [
    "def rhs(t, Y):\n",
    "    \"\"\" RHS of the system -- using 0-based indexing \"\"\"\n",
    "    y1 = Y[0]\n",
    "    y2 = Y[1]\n",
    "    y3 = Y[2]\n",
    "\n",
    "    dy1dt = -0.04*y1 + 1.e4*y2*y3\n",
    "    dy2dt =  0.04*y1 - 1.e4*y2*y3 - 3.e7*y2**2\n",
    "    dy3dt =                         3.e7*y2**2\n",
    "\n",
    "    return np.array([dy1dt, dy2dt, dy3dt])\n",
    "\n",
    "def jac(t, Y):\n",
    "    \"\"\" J_{i,j} = df_i/dy_j \"\"\"\n",
    "\n",
    "    y1 = Y[0]\n",
    "    y2 = Y[1]\n",
    "    y3 = Y[2]\n",
    "    \n",
    "    df1dy1 = -0.04\n",
    "    df1dy2 = 1.e4*y3\n",
    "    df1dy3 = 1.e4*y2\n",
    "\n",
    "    df2dy1 = 0.04\n",
    "    df2dy2 = -1.e4*y3 - 6.e7*y2\n",
    "    df2dy3 = -1.e4*y2\n",
    "\n",
    "    df3dy1 = 0.0\n",
    "    df3dy2 = 6.e7*y2\n",
    "    df3dy3 = 0.0\n",
    "\n",
    "    return np.array([ [ df1dy1, df1dy2, df1dy3 ],\n",
    "                      [ df2dy1, df2dy2, df2dy3 ],\n",
    "                      [ df3dy1, df3dy2, df3dy3 ] ])"
   ]
  },
  {
   "cell_type": "markdown",
   "metadata": {},
   "source": [
    "Next we'll write the main driver.  This integrates from `[t, tmax]` using a timestep `dt_init`.  We specify a tolerance for the convergence of the nonlinear system solve for each step."
   ]
  },
  {
   "cell_type": "code",
   "execution_count": 3,
   "metadata": {},
   "outputs": [],
   "source": [
    "SMALL = 1.e-100\n",
    "\n",
    "def backwards_euler(t, tmax, dt_init, y_init, rhs, jac,\n",
    "                    tol=1.e-6, max_iter=100):\n",
    "    \"\"\"solve the system dy/dt = f(y), where f(y) is provided by the\n",
    "    routine rhs(), and the Jacobian is provided by the routine jac().\n",
    "\n",
    "      t : the current time\n",
    "      tmax : the ending time of integration\n",
    "      dt_init : initial timestep\n",
    "      y_init : the initial conditions\n",
    "\n",
    "    \"\"\"\n",
    "\n",
    "    time = t\n",
    "    dt = dt_init\n",
    "\n",
    "    # starting point of integration of each step\n",
    "    y_n = np.zeros_like(y_init)\n",
    "    y_n[:] = y_init[:]\n",
    "\n",
    "    y_new = np.zeros_like(y_init)\n",
    "\n",
    "    while time < tmax:\n",
    "\n",
    "        converged = False\n",
    "\n",
    "        # we want to solve for the updated y.  Set an initial guess to\n",
    "        # the current solution.\n",
    "        y_new[:] = y_n[:]\n",
    "\n",
    "        err = 1.e30\n",
    "        niter = 0\n",
    "        \n",
    "        neq = len(y_init)\n",
    "        \n",
    "        while err > tol and niter < max_iter:\n",
    "\n",
    "            # construct the matrix A = I - dt J\n",
    "            A = np.eye(neq) - dt * jac(time, y_n)\n",
    "\n",
    "            # construct the RHS\n",
    "            b = y_n - y_new + dt * rhs(time, y_new)\n",
    "\n",
    "            # solve the linear system A dy = b\n",
    "            dy = np.linalg.solve(A, b)\n",
    "\n",
    "            # correct our guess\n",
    "            y_new += dy\n",
    "\n",
    "            # check for convergence\n",
    "            err = np.linalg.norm(dy) / np.linalg.norm(y_new) #max(abs(y_new) + SMALL)\n",
    "            niter += 1\n",
    "\n",
    "        if time + dt > tmax:\n",
    "            dt = tmax - time\n",
    "\n",
    "        y_n[:] = y_new[:]\n",
    "        time += dt\n",
    "\n",
    "    return y_n"
   ]
  },
  {
   "cell_type": "markdown",
   "metadata": {},
   "source": [
    "We'll follow the example from the VODE documentation and integrate in several chunks.  We'll evolve from $t = 0$ stopping at $t = 10^{-6}, 10^{-5}, \\ldots 10^8$.  Each call to the integrator will begin with the time from the previous integration, and we'll always set $\\tau$ to have ~10 steps per interval."
   ]
  },
  {
   "cell_type": "code",
   "execution_count": 4,
   "metadata": {},
   "outputs": [],
   "source": [
    "y_init = np.array([1.0, 0.0, 0.0])\n",
    "\n",
    "# like the vode driver, we will do the integration in a bunch of\n",
    "# pieces, increasing the stopping time by 10x each run\n",
    "tends = np.logspace(-6, 8, 15)\n",
    "\n",
    "time = 0.0\n",
    "y_old = y_init.copy()\n",
    "\n",
    "ys = []\n",
    "for y in y_init:\n",
    "    ys.append([y])\n",
    "\n",
    "ts = [time]\n",
    "\n",
    "total_be_solves = 0\n",
    "\n",
    "for tmax in tends:\n",
    "\n",
    "    y_new = backwards_euler(time, tmax, tmax/10, y_old, rhs, jac)\n",
    "\n",
    "    time = tmax\n",
    "    ts.append(time)\n",
    "    for n, y in enumerate(y_new):\n",
    "        ys[n].append(y)\n",
    "\n",
    "    y_old[:] = y_new[:]"
   ]
  },
  {
   "cell_type": "markdown",
   "metadata": {},
   "source": [
    "Now we can plot the 3 species"
   ]
  },
  {
   "cell_type": "code",
   "execution_count": 5,
   "metadata": {},
   "outputs": [
    {
     "data": {
      "image/png": "[encoded data removed]",
      "text/plain": [
       "<Figure size 640x480 with 1 Axes>"
      ]
     },
     "metadata": {},
     "output_type": "display_data"
    }
   ],
   "source": [
    "fig = plt.figure()\n",
    "ax = fig.add_subplot(111)\n",
    "\n",
    "for n, y in enumerate(ys):\n",
    "    ax.plot(ts, y, label=rf\"$y_{n+1}$\")\n",
    "\n",
    "ax.legend(frameon=False, fontsize=\"large\")\n",
    "ax.set_xscale(\"log\")\n",
    "ax.set_yscale(\"log\")"
   ]
  },
  {
   "cell_type": "markdown",
   "metadata": {},
   "source": [
    "## Comparison of Methods"
   ]
  },
  {
   "cell_type": "code",
   "execution_count": 6,
   "metadata": {},
   "outputs": [],
   "source": [
    "from scipy.integrate import solve_ivp"
   ]
  },
  {
   "cell_type": "markdown",
   "metadata": {},
   "source": [
    "Now we can try integrating this system using any of the methods built into SciPy\n",
    "https://docs.scipy.org/doc/scipy/reference/generated/scipy.integrate.solve_ivp.html\n",
    "\n",
    "We are successful if we try `BDF`, but we fail if we try the `RK45` method.  This is an empirical demonstration that this problem is stiff."
   ]
  },
  {
   "cell_type": "code",
   "execution_count": 7,
   "metadata": {},
   "outputs": [],
   "source": [
    "sol = solve_ivp(rhs, [0, 1.e8], [1, 0, 0], method=\"BDF\", dense_output=True)"
   ]
  },
  {
   "cell_type": "code",
   "execution_count": 8,
   "metadata": {
    "editable": true,
    "slideshow": {
     "slide_type": ""
    },
    "tags": []
   },
   "outputs": [
    {
     "name": "stdout",
     "output_type": "stream",
     "text": [
      "  message: The solver successfully reached the end of the integration interval.\n",
      "  success: True\n",
      "   status: 0\n",
      "        t: [ 0.000e+00  3.196e-05 ...  9.399e+07  1.000e+08]\n",
      "        y: [[ 1.000e+00  1.000e+00 ...  2.209e-05  2.075e-05]\n",
      "            [ 0.000e+00  1.277e-06 ...  8.836e-11  8.300e-11]\n",
      "            [ 0.000e+00  1.320e-09 ...  1.000e+00  1.000e+00]]\n",
      "      sol: <scipy.integrate._ivp.common.OdeSolution object at 0x7fa7d9575f70>\n",
      " t_events: None\n",
      " y_events: None\n",
      "     nfev: 443\n",
      "     njev: 12\n",
      "      nlu: 57\n"
     ]
    }
   ],
   "source": [
    "print(sol)"
   ]
  }
 ],
 "metadata": {
  "kernelspec": {
   "display_name": "Python 3 (ipykernel)",
   "language": "python",
   "name": "python3"
  },
  "language_info": {
   "codemirror_mode": {
    "name": "ipython",
    "version": 3
   },
   "file_extension": ".py",
   "mimetype": "text/x-python",
   "name": "python",
   "nbconvert_exporter": "python",
   "pygments_lexer": "ipython3",
   "version": "3.12.7"
  }
 },
 "nbformat": 4,
 "nbformat_minor": 4
}
