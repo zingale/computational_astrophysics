{
 "cells": [
  {
   "cell_type": "markdown",
   "id": "18d707d0-4892-4e84-b598-575c149e9d75",
   "metadata": {},
   "source": [
    "# Two Point Boundary Value Problems"
   ]
  },
  {
   "cell_type": "markdown",
   "id": "ad7b8a0c-0e0e-4b35-9bdc-6ef5256c0db7",
   "metadata": {},
   "source": [
    "Consider a Poisson equation:\n",
    "    \n",
    "$$u^{\\prime\\prime} = f(x, u)$$\n",
    "\n",
    "on $[0, 1]$.  This is a second-order ODE, so it requires 2 boundary conditions.  Let's take:\n",
    "\n",
    "\\begin{align*}\n",
    "u(0) &= a \\\\\n",
    "u(1) &= b\n",
    "\\end{align*}"
   ]
  },
  {
   "cell_type": "markdown",
   "id": "ec8e70eb-471c-453e-80d5-d8fcfeda15fe",
   "metadata": {},
   "source": [
    "```{important}\n",
    "These boundary conditions are at opposite ends on the domain&mdash;this is not an initial value problem.  The methods we used thus far do not work on this.\n",
    "```"
   ]
  },
  {
   "cell_type": "markdown",
   "id": "d928d608-1563-41d0-a162-424adae0afb9",
   "metadata": {},
   "source": [
    "We'd like to turn this into an initial value problem so we can reuse the methods\n",
    "we already developed (like 4th-order Runge-Kutta).  We'll see here how we can do this.\n",
    "via the [_shooting method_](https://en.wikipedia.org/wiki/Shooting_method)."
   ]
  },
  {
   "cell_type": "markdown",
   "id": "8ea1dfcf-c328-4e23-8866-5cda8017bbb8",
   "metadata": {},
   "source": [
    "```{note}\n",
    "Later we'll see how to apply _relaxation methods_ to this problem. \n",
    "```"
   ]
  },
  {
   "cell_type": "markdown",
   "id": "5b1d5bd5-f6cc-4d1d-a547-c9db04fb14df",
   "metadata": {},
   "source": [
    "## Shooting\n",
    "\n",
    "Let's rewrite this as a system defining:\n",
    "\n",
    "\\begin{align*}\n",
    "y &= u \\\\\n",
    "z &= u^\\prime\n",
    "\\end{align*}\n",
    "\n",
    "Let's take the left boundary conditions as:\n",
    "\n",
    "\\begin{align*}\n",
    "y(0) &= a \\\\\n",
    "z(0) &= \\eta \n",
    "\\end{align*}"
   ]
  },
  {
   "cell_type": "markdown",
   "id": "489e0a57-c18a-4c0a-8ae3-1cb215a96ec8",
   "metadata": {},
   "source": [
    "```{important}\n",
    "What is $\\eta$?  This is a parameter that we will adjust to make the solution yield $y(1) = b$ at the end of integration.  We'll call the solution for a particular value of $\\eta$: $y^{(\\eta)}(x)$.\n",
    "```"
   ]
  },
  {
   "cell_type": "markdown",
   "id": "9b6c3af7-d6fa-42de-94d1-372a96c74d0f",
   "metadata": {},
   "source": [
    "Shooting algorithm:\n",
    "\n",
    "  * Guess $\\eta$\n",
    "  * Iterate:\n",
    "    * Integrate system to right boundary\n",
    "    * Use secant method to zero $f(\\eta) = b - y^{(\\eta)}(1)$\n",
    "    * Correct $\\eta$"
   ]
  },
  {
   "cell_type": "markdown",
   "id": "392ac840-a109-4961-972b-690be823b0da",
   "metadata": {
    "editable": true,
    "slideshow": {
     "slide_type": ""
    },
    "tags": []
   },
   "source": [
    "## First example\n",
    "\n",
    "Consider:\n",
    "\n",
    "$$u^{\\prime\\prime} = \\sin(x)$$\n",
    "\n",
    "with\n",
    "\n",
    "\\begin{align*}\n",
    "u(0) &= 0 \\\\\n",
    "u(1) &= 1\n",
    "\\end{align*}"
   ]
  },
  {
   "cell_type": "markdown",
   "id": "d3108067-e888-404a-a4c2-42a500aaab8d",
   "metadata": {},
   "source": [
    "```{note}\n",
    "This is a linear ODE, since $u$ only appears linearly in the equation.\n",
    "```"
   ]
  },
  {
   "cell_type": "markdown",
   "id": "32363c24-cc73-4649-a130-bf289dfd0de2",
   "metadata": {
    "editable": true,
    "slideshow": {
     "slide_type": ""
    },
    "tags": []
   },
   "source": [
    "We can integrate this twice and find:\n",
    "\n",
    "$$u(x) = -\\sin(x) + c_1 x + c_2$$\n",
    "\n",
    "where $c_1$ and $c_2$ are integration constants.  Applying the boundary\n",
    "conditions, we get:\n",
    "\n",
    "$$u(x) = -\\sin(x) + (1 + \\sin(1)) x$$"
   ]
  },
  {
   "cell_type": "markdown",
   "id": "2828a5ee-a537-4b2c-a91a-5234be8638a3",
   "metadata": {
    "editable": true,
    "slideshow": {
     "slide_type": ""
    },
    "tags": []
   },
   "source": [
    "Rewriting this system, we have:\n",
    "\n",
    "\\begin{align*}\n",
    "y^\\prime &= z \\\\\n",
    "z^\\prime &= \\sin(x)\n",
    "\\end{align*}"
   ]
  },
  {
   "cell_type": "markdown",
   "id": "72dc091d-1665-4108-b3ef-314e9f00a07b",
   "metadata": {},
   "source": [
    "Here's an implementation that uses RK4.\n",
    "\n",
    "First the RHS function:"
   ]
  },
  {
   "cell_type": "code",
   "execution_count": 1,
   "id": "30cf2ec4-ad40-4642-8a7d-16ba7907537a",
   "metadata": {
    "editable": true,
    "slideshow": {
     "slide_type": ""
    },
    "tags": []
   },
   "outputs": [],
   "source": [
    "import numpy as np\n",
    "import matplotlib.pyplot as plt"
   ]
  },
  {
   "cell_type": "code",
   "execution_count": 2,
   "id": "5f856637-7fa5-4e0a-b62e-6d6fa5806c6c",
   "metadata": {},
   "outputs": [],
   "source": [
    "def rhs(x, y, z):\n",
    "    \"\"\" RHS function.  Here y = u, z = u'\"\"\"\n",
    "    \n",
    "    dydx = z\n",
    "    dzdx = np.sin(x)\n",
    "\n",
    "    return dydx, dzdx"
   ]
  },
  {
   "cell_type": "markdown",
   "id": "5f2e9c52-a0f6-4243-bf23-3d71ca16f4f1",
   "metadata": {},
   "source": [
    "Now a simple fixed-stepsize RK4 integrator:"
   ]
  },
  {
   "cell_type": "code",
   "execution_count": 3,
   "id": "2a0f04a7-0057-4eac-aa22-851d75784cc3",
   "metadata": {},
   "outputs": [],
   "source": [
    "def rk4(y0, eta0, rhs, xl=0.0, xr=1.0, n=100):\n",
    "    \"\"\"\n",
    "    R-K 4 integration: y0 and eta0 are y(0) and z(0); rhs is the\n",
    "    righthand side function xl and xr are the domain limits n\n",
    "    is the number of integration points (including starting point)\n",
    "\n",
    "    \"\"\"\n",
    "    \n",
    "    # compute the step size\n",
    "    h = (xr - xl) / (n - 1)\n",
    "\n",
    "    y = np.zeros(n)\n",
    "    z = np.zeros(n)\n",
    "\n",
    "    # left boundary initialization\n",
    "    y[0] = y0\n",
    "    z[0] = eta0\n",
    "\n",
    "    x = xl\n",
    "    for m in range(n-1):\n",
    "        dydx_1, dzdx_1 = rhs(x, y[m], z[m])\n",
    "        dydx_2, dzdx_2 = rhs(x + 0.5 * h, y[m] + 0.5 * h * dydx_1, z[m] + 0.5 * h * dzdx_1)\n",
    "        dydx_3, dzdx_3 = rhs(x + 0.5 * h, y[m] + 0.5 * h * dydx_2, z[m] + 0.5 * h * dzdx_2)\n",
    "        dydx_4, dzdx_4 = rhs(x + h, y[m] + h * dydx_3, z[m] + h * dzdx_3)\n",
    "\n",
    "        y[m+1] = y[m] + (h / 6.0) * (dydx_1 + 2.0 * dydx_2 + 2.0 * dydx_3 + dydx_4)\n",
    "        z[m+1] = z[m] + (h / 6.0) * (dzdx_1 + 2.0 * dzdx_2 + 2.0 * dzdx_3 + dzdx_4)\n",
    "\n",
    "        x += h\n",
    "    return y, z"
   ]
  },
  {
   "cell_type": "markdown",
   "id": "79f1a705-7362-4cb8-8bd5-e6012525ca31",
   "metadata": {},
   "source": [
    "and finally the driver.  Here we specify the right boundary condition ($b$) via the parameter `y_right_true`.\n",
    "Also note that if we pass in a matplotlib `Axis` object via `ax`, we'll plot the progress as we iterate."
   ]
  },
  {
   "cell_type": "code",
   "execution_count": 4,
   "id": "0d7bb778-ebba-438e-8132-bf605344d3e6",
   "metadata": {},
   "outputs": [],
   "source": [
    "def solve_bvp(npts, rhs, *,\n",
    "              xl=0, xr=1,\n",
    "              y_right_true=1, eps=1.e-8, ax=None):\n",
    "    \n",
    "    \"\"\"shoot from x = 0 to x = 1.  We will do this by selecting a boundary\n",
    "    value for z and use a secant method to adjust it until we reach the\n",
    "    desired boundary condition at y(1)\"\"\"\n",
    "\n",
    "    # initial guess\n",
    "    y_0 = 0.0   # this is the correct boundary condition a x = 0\n",
    "    eta = 0.0   # this is what we will adjust to get the desired y1(1)\n",
    "\n",
    "    # Secant loop\n",
    "    dy = 1.e30    # fail first time through\n",
    "\n",
    "    # keep track of iteration for plotting\n",
    "    iter = 0\n",
    "\n",
    "    while dy > eps:\n",
    "        # integrate\n",
    "        y, z = rk4(y_0, eta, rhs, xl=0.0, xr=1.0, n=npts)\n",
    "\n",
    "        if ax:\n",
    "            x = np.linspace(xl, xr, npts)\n",
    "            ax.scatter(x, y, label=f\"iteration {iter}\", marker=\"x\")\n",
    "\n",
    "        if iter == 0:\n",
    "            # we don't yet have enough information to estimate\n",
    "            # the derivative.  So store what we have and\n",
    "            # go to the next iteration\n",
    "            eta_m1 = eta\n",
    "            eta = -1\n",
    "            y_old = y\n",
    "            iter += 1\n",
    "            continue\n",
    "            \n",
    "        # do a Secant method to correct.  Here eta = y2(0) -- our\n",
    "        # control parameter.  We want to zero:\n",
    "        #   f(eta) = y1_true(1) - y1^(eta)(1)\n",
    "\n",
    "        # derivative (for Secant)\n",
    "        dfdeta = ( (y_right_true - y_old[-1]) -\n",
    "                   (y_right_true - y[-1]) ) / (eta_m1 - eta)\n",
    "\n",
    "        # correction by f(eta) = 0 = f(eta_0) + dfdeta deta\n",
    "        deta = -(y_right_true - y[-1]) / dfdeta\n",
    "\n",
    "        # store the old guess and correct\n",
    "        eta_m1 = eta\n",
    "        eta += deta\n",
    "\n",
    "        dy = abs(deta)\n",
    "\n",
    "        y_old = y\n",
    "\n",
    "        iter += 1\n",
    "        print(f\"finished iter {iter}, error = {dy}\")\n",
    "        \n",
    "    return eta, y, z"
   ]
  },
  {
   "cell_type": "markdown",
   "id": "f940cdf6-3a24-44ff-9e70-f1e5cb7c3a43",
   "metadata": {},
   "source": [
    "Now we'll run it, making plots along the way.  We'll also show the analytic solution"
   ]
  },
  {
   "cell_type": "code",
   "execution_count": 5,
   "id": "180be0f5-1565-4bdb-a457-b6a66aa48f73",
   "metadata": {},
   "outputs": [],
   "source": [
    "def analytic(x):\n",
    "    \"\"\" analytic solution \"\"\"\n",
    "    return -np.sin(x) + (1.0 + np.sin(1)) * x"
   ]
  },
  {
   "cell_type": "code",
   "execution_count": 6,
   "id": "d117f455-8141-40d6-9dc7-043795ff3f05",
   "metadata": {
    "tags": []
   },
   "outputs": [
    {
     "name": "stdout",
     "output_type": "stream",
     "text": [
      "finished iter 2, error = 1.841470960630243\n",
      "finished iter 3, error = 0.0\n"
     ]
    },
    {
     "data": {
      "text/plain": [
       "<matplotlib.legend.Legend at 0x7f905c82c590>"
      ]
     },
     "execution_count": 6,
     "metadata": {},
     "output_type": "execute_result"
    },
    {
     "data": {
      "image/png": "[encoded data removed]",
      "text/plain": [
       "<Figure size 640x480 with 1 Axes>"
      ]
     },
     "metadata": {},
     "output_type": "display_data"
    }
   ],
   "source": [
    "fig, ax = plt.subplots()\n",
    "\n",
    "eta, y, z = solve_bvp(16, rhs, ax=ax)\n",
    "\n",
    "x = np.linspace(0, 1, 100)\n",
    "ax.plot(x, analytic(x), color=\"0.5\", ls=\"-\", label=\"analytic\")\n",
    "ax.legend()"
   ]
  },
  {
   "cell_type": "markdown",
   "id": "13f0e226-f2d2-46cd-a637-b79bef030e35",
   "metadata": {},
   "source": [
    "Notice that we get the correct solution after only 2 iterations---this is mainly because this is a linear problem."
   ]
  },
  {
   "cell_type": "markdown",
   "id": "52d3d53d-8b54-45e3-9c95-14700a1e4943",
   "metadata": {},
   "source": [
    "## Nonlinear example"
   ]
  },
  {
   "cell_type": "markdown",
   "id": "ef760c46-eaf8-4221-ba87-2242ae0ccbbc",
   "metadata": {},
   "source": [
    "Consider the problem:\n",
    "\n",
    "$$u^{\\prime\\prime} + u^2 = -\\sin(x) (1 - \\sin(x))$$\n",
    "\n",
    "on $[0, 1]$ with \n",
    "\n",
    "\\begin{align*}\n",
    "u(0) &= 0 \\\\\n",
    "u(1) &= \\sin(1)\n",
    "\\end{align*}"
   ]
  },
  {
   "cell_type": "markdown",
   "id": "75729791-f5ca-46ed-bbb5-458eb82c4bae",
   "metadata": {},
   "source": [
    "```{note}\n",
    "This is nonlinear because the term $u^2$ appears in the equation.\n",
    "```"
   ]
  },
  {
   "cell_type": "markdown",
   "id": "7cae54a2-4137-4772-b8ee-caa2a5061851",
   "metadata": {},
   "source": [
    "This has the solution: $u(x) = \\sin(x)$\n",
    "\n",
    "Rewriting it in terms of $y = u$ and $z = u^\\prime$, we have:\n",
    "\n",
    "\\begin{align*}\n",
    "y' &= z \\\\\n",
    "z' &= -y^2 - \\sin(x) (1 - \\sin(x))\n",
    "\\end{align*}"
   ]
  },
  {
   "cell_type": "markdown",
   "id": "422ffb81-02e4-4e9a-92d9-96730f56867c",
   "metadata": {},
   "source": [
    "Here's the righthand side function for this new system"
   ]
  },
  {
   "cell_type": "code",
   "execution_count": 7,
   "id": "a5e0eba9-8012-450d-aa5c-b21fdc818f97",
   "metadata": {},
   "outputs": [],
   "source": [
    "def rhs2(x, y, z):\n",
    "    \"\"\" RHS function.  Here y = u, z = u'\"\"\"\n",
    "    \n",
    "    dydx = z\n",
    "    dzdx = -y**2 - np.sin(x) * (1.0 - np.sin(x))\n",
    "\n",
    "    return dydx, dzdx"
   ]
  },
  {
   "cell_type": "markdown",
   "id": "8415e7e2-4527-4e8a-8ace-d9b92cc91fce",
   "metadata": {},
   "source": [
    "and the analytic solution"
   ]
  },
  {
   "cell_type": "code",
   "execution_count": 8,
   "id": "94e1b40a-d1cf-48da-a8db-97d0c86c1790",
   "metadata": {},
   "outputs": [],
   "source": [
    "def analytic2(x):\n",
    "    \"\"\" analytic solution \"\"\"\n",
    "    return np.sin(x)"
   ]
  },
  {
   "cell_type": "code",
   "execution_count": 9,
   "id": "7c7444bc-bbba-466b-9327-1103fb466de8",
   "metadata": {},
   "outputs": [
    {
     "name": "stdout",
     "output_type": "stream",
     "text": [
      "finished iter 2, error = 1.8466767840805172\n",
      "finished iter 3, error = 0.12915051105171896\n",
      "finished iter 4, error = 0.023858013890531087\n",
      "finished iter 5, error = 0.00031404043908051616\n",
      "finished iter 6, error = 6.497196603636414e-07\n",
      "finished iter 7, error = 1.748051261871642e-11\n"
     ]
    },
    {
     "data": {
      "text/plain": [
       "<matplotlib.legend.Legend at 0x7f905c6f5bd0>"
      ]
     },
     "execution_count": 9,
     "metadata": {},
     "output_type": "execute_result"
    },
    {
     "data": {
      "image/png": "[encoded data removed]",
      "text/plain": [
       "<Figure size 640x480 with 1 Axes>"
      ]
     },
     "metadata": {},
     "output_type": "display_data"
    }
   ],
   "source": [
    "fig, ax = plt.subplots()\n",
    "\n",
    "eta, y, z = solve_bvp(16, rhs2, ax=ax, y_right_true=np.sin(1))\n",
    "\n",
    "x = np.linspace(0, 1, 100)\n",
    "ax.plot(x, analytic2(x), color=\"0.5\", ls=\"-\", label=\"analytic\")\n",
    "ax.legend()"
   ]
  },
  {
   "cell_type": "markdown",
   "id": "9595c058-226a-4f6b-bc88-7022a18a2925",
   "metadata": {},
   "source": [
    "Now we see that it takes more iterations, but still converges."
   ]
  }
 ],
 "metadata": {
  "kernelspec": {
   "display_name": "Python 3 (ipykernel)",
   "language": "python",
   "name": "python3"
  },
  "language_info": {
   "codemirror_mode": {
    "name": "ipython",
    "version": 3
   },
   "file_extension": ".py",
   "mimetype": "text/x-python",
   "name": "python",
   "nbconvert_exporter": "python",
   "pygments_lexer": "ipython3",
   "version": "3.13.2"
  }
 },
 "nbformat": 4,
 "nbformat_minor": 5
}
