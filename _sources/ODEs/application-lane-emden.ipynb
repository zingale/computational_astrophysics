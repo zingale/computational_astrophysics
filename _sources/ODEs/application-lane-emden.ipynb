{
 "cells": [
  {
   "cell_type": "markdown",
   "id": "886afbf4-becb-42c3-befa-4ea6d24edcfe",
   "metadata": {
    "editable": true,
    "slideshow": {
     "slide_type": ""
    },
    "tags": []
   },
   "source": [
    "# Application: Stellar Structure"
   ]
  },
  {
   "cell_type": "markdown",
   "id": "b2b1312b-ec1a-4b72-91eb-9b006d5b8443",
   "metadata": {
    "editable": true,
    "slideshow": {
     "slide_type": ""
    },
    "tags": []
   },
   "source": [
    "During most of their lifetimes, stars are in hydrostatic and thermal equilibrium, and the structure of a star is well-described by the [equations of stellar structure](https://en.wikipedia.org/wiki/Stellar_structure):\n",
    "\n",
    "\\begin{align*}\n",
    "\\frac{dP}{dm} &= -\\frac{Gm}{4\\pi r^4} \\\\\n",
    "\\frac{dr}{dm} &= \\frac{1}{4\\pi r^2 \\rho} \\\\\n",
    "\\frac{dT}{dm} &= -\\frac{3}{4ac} \\frac{\\kappa}{T^3} \\frac{F}{16\\pi^2 r^4} \\\\\n",
    "\\frac{dF}{dm} &=  q\n",
    "\\end{align*}\n",
    "\n",
    "with an equation of state, opacity, and energy generation rate of the form:\n",
    "\n",
    "\\begin{align*}\n",
    "p &= \\frac{\\rho k T}{\\mu_I m_u} + p_e + \\frac{1}{3} a T^4 \\\\\n",
    "\\kappa &= \\kappa(\\rho, T, \\{X_k\\}) \\\\\n",
    "q &= q(\\rho, T, \\{X_k\\})\n",
    "\\end{align*}\n",
    "\n",
    "Here, $p$ is the pressure, $m$ is the mass enclosed inside a radius $r$, $T$ is the temperature, where we assume radiative equilibrium with $F$ describing an energy flux through a shell of radius $r$ and $\\kappa$ the opacity of the material, which depends on density, temperature, and composition, $\\{X_k\\}$ (mass fractions).  Finally $q$ is the energy generation rate from nuclear processes.  "
   ]
  },
  {
   "cell_type": "markdown",
   "id": "7e063f47-e9ab-4fe1-b45c-3ed74b1ac094",
   "metadata": {
    "editable": true,
    "slideshow": {
     "slide_type": ""
    },
    "tags": []
   },
   "source": [
    "To solve these, we specify the mass of the star, $M_\\star$, and the composition in the interior, $\\{X_k\\}$."
   ]
  },
  {
   "cell_type": "markdown",
   "id": "dbbb49e5-6f35-4905-8043-1de6d55d63d0",
   "metadata": {
    "editable": true,
    "slideshow": {
     "slide_type": ""
    },
    "tags": []
   },
   "source": [
    "This is a 2-point boundary value problem, with boundary conditions:\n",
    "\n",
    "\\begin{align*}\n",
    "r(m=0) &= 0 \\\\\n",
    "F(m=0) &= 0\n",
    "\\end{align*}\n",
    "\n",
    "at the center and\n",
    "\n",
    "\\begin{align*}\n",
    "p(m=M_\\star) &= 0 \\\\\n",
    "T(m=M_\\star) &= T_\\mathrm{eff} \n",
    "\\end{align*}\n",
    "\n",
    "at the surface."
   ]
  },
  {
   "cell_type": "markdown",
   "id": "1faf6cfe-493b-440c-adf0-403d4766aa08",
   "metadata": {
    "editable": true,
    "slideshow": {
     "slide_type": ""
    },
    "tags": []
   },
   "source": [
    "We'll look at a simplified model here."
   ]
  },
  {
   "cell_type": "markdown",
   "id": "f01f93bd-3abd-4ceb-9a0a-515b9c6609ec",
   "metadata": {
    "editable": true,
    "slideshow": {
     "slide_type": ""
    },
    "tags": []
   },
   "source": [
    "## Polytropes\n",
    "\n",
    "If we consider just the first 2 equations, hydrostatic equilibrium and mass continuity, we can close the system of equations if we have an equation of state of the form $p = p(\\rho)$.  This eliminates the need for the energy equations, simplifying the model and its solution.\n",
    "\n",
    "We'll assume an equation of state of the form:\n",
    "\n",
    "$$p = K \\rho^{1+1/n}$$\n",
    "\n",
    "where $n$ is called the _polytropic index_.\n",
    "\n"
   ]
  },
  {
   "cell_type": "markdown",
   "id": "2f49d7c3-6647-4f17-a33c-a208b8f84c4b",
   "metadata": {},
   "source": [
    "With a bit of algebra, we can combine these equations into a single second-order ODE for density:\n",
    "\n",
    "$$\\left ( \\frac{n+1}{n} \\right ) \\frac{K}{4\\pi G} \\frac{1}{r^2} \\frac{d}{dr} \\left ( \\frac{r^2}{\\rho^{(n-1)/n}} \\frac{d\\rho}{dr} \\right ) = -\\rho$$\n",
    "\n",
    "and then make it dimensionless, but expressing the density in terms of the central density, $\\rho_c$:\n",
    "\n",
    "$$\\rho(r) = \\rho_c \\theta^n(r)$$\n",
    "\n",
    "where we note that $0 \\le \\theta \\le 1$, and a lenghtscale $\\alpha$ such that $r = \\alpha \\xi$:\n",
    "\n",
    "$$\\alpha^2 = \\frac{(n+1)p_c}{4\\pi G\\rho_c^2}$$\n",
    "\n",
    "Giving\n",
    "\n",
    "$$\\frac{1}{\\xi^2}\\frac{d}{d\\xi} \\left ( \\xi^2 \\frac{d\\theta}{d\\xi} \\right ) = -\\theta^n$$\n",
    "\n",
    "The boundary conditions are:\n",
    "\n",
    "* $\\theta(\\xi=0) = 1$\n",
    "* $d\\theta / d\\xi |_{\\xi=0} = 0$ ($g = 0$ at the center, so $dp/dr = d\\rho/dr = 0$)\n",
    "\n",
    "but we don't know where the surface lies.  It is defined as $\\xi_1$ as:\n",
    "\n",
    "$$\\xi_1 : \\, \\theta(\\xi_1) = 0$$\n",
    "\n",
    "This is called the [Lane-Emden equation](https://en.wikipedia.org/wiki/Lane%E2%80%93Emden_equation), and it has analytic solutions for $n = 0, 1, 5$."
   ]
  },
  {
   "cell_type": "markdown",
   "id": "e9a57995-f2c1-4be2-97cd-d8423a23cff8",
   "metadata": {},
   "source": [
    "```{note}\n",
    "Once you have the solution, you can get back physical quantities, including the mass of the star, the central pressure, average density, etc.  For example, the mass is related to the solution as:\n",
    "\n",
    "$$M_\\star = -4\\pi \\alpha^3 \\rho_c  \\left . {\\xi_1}^2 \\left (\\frac{d\\theta}{d\\xi} \\right ) \\right |_{\\xi=\\xi_1}$$\n",
    "\n",
    "\n",
    "A large number of [stellar systems are well-represented by polytropes](https://en.wikipedia.org/wiki/Polytrope#Example_models_by_polytropic_index).\n",
    "```"
   ]
  },
  {
   "cell_type": "markdown",
   "id": "f2ff90dd-eb18-4bfc-aee4-fa9f39b50a43",
   "metadata": {},
   "source": [
    "## Solving the Lane-Emden equation\n",
    "\n",
    "There are a variety of ways to solve this equation.\n",
    "\n",
    "We could just integrate from $\\xi = 0$ and keep integrating until the solution goes negative.  If we make the stepsize small at the end, then we can identify $\\xi_1$ as the location where $\\theta(\\xi) < 0$.\n",
    "\n",
    "However, we are going to take an approach built on the shooting example we just saw.  This is because the full system of the 4 stellar structure equations needs a method like this, so we'd like to understand it based on the Lane-Emden equation."
   ]
  },
  {
   "cell_type": "markdown",
   "id": "3ce35474-3746-42cb-bbbe-9ac22d8631a8",
   "metadata": {},
   "source": [
    "```{important}\n",
    "Unlike our previous example, we have 2 unknowns here: a boundary condition and the location of the surface of the star.\n",
    "```"
   ]
  },
  {
   "cell_type": "markdown",
   "id": "c8b7c95c-7968-4d68-97e7-a937e9aec3a8",
   "metadata": {},
   "source": [
    "```{note}\n",
    "We'll use 4th order RK integration and we'll integrate both inward from the surface and outward from the center and meet at some point in the middle, $\\xi_\\mathrm{f}$.\n",
    "```"
   ]
  },
  {
   "cell_type": "markdown",
   "id": "a8dbccbe-2727-43be-aa13-95ac34c190ea",
   "metadata": {},
   "source": [
    "We rewrite our system by defining:\n",
    "\n",
    "\\begin{align*}\n",
    "y &= \\theta \\\\\n",
    "z &= d\\theta/d\\xi = dy/d\\xi\n",
    "\\end{align*}\n",
    "\n",
    "then our system is:\n",
    "\n",
    "\\begin{align*}\n",
    "\\frac{dy}{d\\xi} &= z \\\\\n",
    "\\frac{dz}{d\\xi} &= -y^n - \\frac{2}{\\xi} z\n",
    "\\end{align*}\n",
    "\n",
    "At $\\xi = 0$, the righthand side of $dz/d\\xi$ looks like it blows up, but in the limit $\\xi \\rightarrow 0$, the solution takes the form:\n",
    "\n",
    "$$\\theta(\\xi) = 1 - \\frac{1}{6}\\xi^2 + \\frac{n}{120} \\xi^4 + \\ldots$$\n",
    "\n",
    "which allows us to simply the $dz/d\\xi$ near $\\xi = 0$ as:\n",
    "\n",
    "$$\\frac{dz}{d\\xi} \\approx -\\frac{1}{3}$$"
   ]
  },
  {
   "cell_type": "markdown",
   "id": "e51ea6f5-9549-428e-b4d8-9c366d53050f",
   "metadata": {
    "editable": true,
    "slideshow": {
     "slide_type": ""
    },
    "tags": []
   },
   "source": [
    "We're going to integrate outward from the center and inward from the surface and meet in the middle.\n",
    "\n",
    "At the center, our boundary conditions are:\n",
    "\n",
    "* $y(0) = 1$\n",
    "* $z(0) = 0$\n",
    "\n",
    "and at the surface, $\\xi_s$, they are:\n",
    "\n",
    "* $y(\\xi_s) = 0$\n",
    "* $z(\\xi_s) = \\eta$"
   ]
  },
  {
   "cell_type": "markdown",
   "id": "11bbd098-cdc3-4cc3-b860-b640c17c73ad",
   "metadata": {
    "editable": true,
    "slideshow": {
     "slide_type": ""
    },
    "tags": []
   },
   "source": [
    "```{note}\n",
    "Initially, we don't know either $\\eta$ or $\\xi_s$.\n",
    "```"
   ]
  },
  {
   "cell_type": "markdown",
   "id": "7a488d29-8975-428d-a147-ff7f5d45c749",
   "metadata": {
    "editable": true,
    "slideshow": {
     "slide_type": ""
    },
    "tags": []
   },
   "source": [
    "Our algorithm will proceed as follows:\n",
    "\n",
    "* Take an initial guess for $\\eta$ and $\\xi_s$.  Pick $\\xi_f = \\xi_s/2$.\n",
    "\n",
    "* Integrate from the center outward to the fit point, $\\xi_f$, getting the solution: $y_\\mathrm{out}(\\xi_f)$, $z_\\mathrm{out}(\\xi_f)$.\n",
    "\n",
    "* Integrate from the surface (starting at the guess $\\xi_s$ inward to the fit point, getting the\n",
    "solution $y_\\mathrm{in}(\\xi_f)$, $z_\\mathrm{in}(\\xi_f)$\n",
    "\n",
    "* Constrain the solution to match at the fit point by finding the zero of:\n",
    "\n",
    "  \\begin{align*}\n",
    "  Y(\\eta, \\xi_s) &\\equiv y_\\mathrm{in}(\\xi_f) - y_\\mathrm{out}(\\xi_f) = 0 \\\\\n",
    "  Z(\\eta, \\xi_s) &\\equiv z_\\mathrm{in}(\\xi_f) - z_\\mathrm{out}(\\xi_f) = 0\n",
    "  \\end{align*}\n",
    "  \n",
    "  we will do this via the secant method.  This will yield a new guess for $\\eta$ and $\\xi_s$.\n",
    "  \n",
    "* Iterate over this procedure until the $\\eta$ and $\\xi_s$ converge."
   ]
  },
  {
   "cell_type": "code",
   "execution_count": 1,
   "id": "32fa235d-1c32-4c37-98ec-7d0e0e7a78de",
   "metadata": {},
   "outputs": [],
   "source": [
    "import numpy as np\n",
    "import matplotlib.pyplot as plt\n",
    "from scipy.integrate import solve_ivp"
   ]
  },
  {
   "cell_type": "markdown",
   "id": "7077a72a-83ef-4654-94b8-2dc3b661784a",
   "metadata": {},
   "source": [
    "Here's our RHS function.  We will pass in the unknown state as $H = (y, z)$."
   ]
  },
  {
   "cell_type": "code",
   "execution_count": 2,
   "id": "58b0b67e-14ee-41e2-a2c1-65fac602bd37",
   "metadata": {},
   "outputs": [],
   "source": [
    "def rhs(xi, H, n):\n",
    "    \n",
    "    y, z = H\n",
    "    \n",
    "    f0 = z\n",
    "\n",
    "    if xi == 0.0:\n",
    "        f1 = -1/3\n",
    "    else:\n",
    "        f1 = -2.0*z/xi - y**n\n",
    "\n",
    "    return np.array([f0, f1])"
   ]
  },
  {
   "cell_type": "markdown",
   "id": "2f789838-bcd6-49b7-abbc-3e4461e6e51a",
   "metadata": {},
   "source": [
    "We'll use SciPy's implementation of 4th order Runge-Kutta here.  We need to pass through the polytropic index, $n$,\n",
    "which we do via the `args=` keyword argument."
   ]
  },
  {
   "cell_type": "code",
   "execution_count": 3,
   "id": "9a4baee8-5396-4636-9f76-d50447b6d408",
   "metadata": {},
   "outputs": [],
   "source": [
    "def le_integrate(xi_start, xi_end, H0, n):\n",
    "\n",
    "    sol = solve_ivp(rhs, (xi_start, xi_end), H0,\n",
    "                    method=\"RK45\", rtol=1.e-8, atol=1.e-8, args=(n,))\n",
    "\n",
    "    xi = sol.t\n",
    "    y = sol.y[0, :]\n",
    "    z = sol.y[1, :]\n",
    "\n",
    "    return xi, y, z"
   ]
  },
  {
   "cell_type": "markdown",
   "id": "47a23fb1-9866-4269-afa0-54fef1317f77",
   "metadata": {
    "editable": true,
    "slideshow": {
     "slide_type": ""
    },
    "tags": []
   },
   "source": [
    "Now, we still need to understand how to solve for 2 roots from 2 equations (so far, we've only done the scalar case).\n",
    "\n",
    "Let's Taylor expand our functions $Y$ and $Z$ about a guess $\\eta_0$, $\\xi_{s,0}$:\n",
    "\n",
    "\\begin{align*}\n",
    "Y(\\eta_0 +\\Delta \\eta, \\xi_{s,0} + \\Delta \\xi_s) &= Y(\\eta_0, \\xi_{s,0}) + \\frac{\\partial Y}{\\partial \\eta} \\Delta \\eta + \\frac{\\partial Y}{\\partial \\xi_s} \\Delta \\xi_s \\sim 0 \\\\\n",
    "Z(\\eta_0 +\\Delta \\eta, \\xi_{s,0} + \\Delta \\xi_s) &= Z(\\eta_0, \\xi_{s,0}) + \\frac{\\partial Z}{\\partial \\eta} \\Delta \\eta + \\frac{\\partial Z}{\\partial \\xi_s} \\Delta \\xi_s \\sim 0 \n",
    "\\end{align*}\n",
    "\n",
    "We want to solve for the corrections, $\\Delta \\eta$ and $\\Delta \\xi_s$ that zero this&mdash;this is Newton's method, but now for a system of equations.\n",
    "\n",
    "We can solve the first equation for $\\Delta \\eta$:\n",
    "\n",
    "$$\\Delta \\eta = -\\left ( \\frac{\\partial Y}{\\partial\\eta} \\right )^{-1} \\left ( \\frac{\\partial Y}{\\partial \\xi_s} \\Delta \\xi_s + Y \\right )$$\n",
    "\n",
    "and then substitute this into the second equation and solve for $\\Delta \\xi_s$:\n",
    "\n",
    "$$\\Delta \\xi_s = \\frac{-Z + \\frac{\\partial Z}{\\partial \\eta} \\left ( \\frac{\\partial Y}{\\partial \\eta} \\right )^{-1} Y}{\\frac{\\partial Z}{\\partial \\xi_s} + \\frac{\\partial Z}{\\partial \\eta} \\left ( \\frac{\\partial Y}{\\partial \\eta} \\right)^{-1} \\frac{\\partial Y}{\\partial \\xi_s}}$$\n",
    "\n",
    "We still need the derivatives, which we will compute via differencing."
   ]
  },
  {
   "cell_type": "code",
   "execution_count": 4,
   "id": "035083a8-92e5-4e25-922d-9e021adbfd47",
   "metadata": {
    "editable": true,
    "slideshow": {
     "slide_type": ""
    },
    "tags": []
   },
   "outputs": [],
   "source": [
    "def solve_le(n, max_iter=1000):\n",
    "\n",
    "    # initial guesses for the unknowns -- if we aren't careful with the\n",
    "    # guess at the outer boundary, we can get 2 roots.  Here we know that\n",
    "    # n = 1 has xi_s = pi\n",
    "\n",
    "    if n > 2.0:\n",
    "        xi_s = 8.0\n",
    "    else:\n",
    "        xi_s = np.pi\n",
    "\n",
    "    eta = -0.01\n",
    "\n",
    "    # for numerical differentiation\n",
    "    eps = 1.e-8\n",
    "\n",
    "    # main iteration loop\n",
    "    iter = 0\n",
    "    converged = False\n",
    "    while not converged and iter < max_iter:\n",
    "\n",
    "        # fitting point\n",
    "        xi_fit = xi_s / 2.0\n",
    "\n",
    "        # baseline integration\n",
    "\n",
    "        # outward from the center\n",
    "        xi_out, y_out, z_out = le_integrate(0.0, xi_fit, [1.0, 0.0], n)\n",
    "\n",
    "        # inward from xi_s\n",
    "        xi_in, y_in, z_in = le_integrate(xi_s, xi_fit, [0.0, eta], n)\n",
    "\n",
    "        # the two functions we want to zero\n",
    "        Ybase = y_in[-1] - y_out[-1]\n",
    "        Zbase = z_in[-1] - z_out[-1]\n",
    "\n",
    "        # now do eta + eps*eta, xi_s\n",
    "        # inward from xi_s\n",
    "        H0 = np.array([0.0, eta*(1.0+eps)])\n",
    "        xi_in, y_in, z_in = le_integrate(xi_s, xi_fit, [0.0, eta * (1.0 + eps)], n)\n",
    "\n",
    "        Ya = y_in[-1] - y_out[-1]\n",
    "        Za = z_in[-1] - z_out[-1]\n",
    "\n",
    "        # our derivatives\n",
    "        dYdeta = (Ya - Ybase) / (eta * eps)\n",
    "        dZdeta = (Za - Zbase) / (eta * eps)\n",
    "\n",
    "        # now do alpha, xi_s + eps*xi_s\n",
    "        # inward from xi_s\n",
    "        xi_in, y_in, z_in = le_integrate(xi_s  * (1.0 + eps), xi_fit, [0.0, eta], n)\n",
    "\n",
    "        Yxi = y_in[-1] - y_out[-1]\n",
    "        Zxi = z_in[-1] - z_out[-1]\n",
    "\n",
    "        # our derivatives\n",
    "        dYdxi_s = (Yxi - Ybase) / (xi_s * eps)\n",
    "        dZdxi_s = (Zxi - Zbase) / (xi_s * eps)\n",
    "\n",
    "        # compute the correction for our two parameters\n",
    "        dxi_s = - (Zbase - dZdeta * Ybase / dYdeta) / \\\n",
    "                    (dZdxi_s - dZdeta * dYdxi_s / dYdeta)\n",
    "\n",
    "        deta = -(Ybase + dYdxi_s * dxi_s) / dYdeta\n",
    "\n",
    "        # limit the changes per iteration\n",
    "        deta = min(abs(deta), 0.1 * abs(eta)) * np.copysign(1.0, deta)\n",
    "        dxi_s = min(abs(dxi_s), 0.1 * abs(xi_s)) * np.copysign(1.0, dxi_s)\n",
    "                    \n",
    "        print(f\"corrections:  {deta:13.10f}, {dxi_s:13.10f}\")\n",
    "        \n",
    "        eta += deta\n",
    "        xi_s += dxi_s\n",
    "\n",
    "        if abs(deta) < eps * abs(eta) and abs(dxi_s) < eps * abs(xi_s):\n",
    "            converged = True\n",
    "\n",
    "        iter += 1\n",
    "        \n",
    "    return xi_in, y_in, z_in, xi_out, y_out, z_out"
   ]
  },
  {
   "cell_type": "markdown",
   "id": "d053c294-41ee-42dc-af12-3dac97d033e3",
   "metadata": {},
   "source": [
    "## Running\n",
    "\n",
    "We'll run this for $n = 3$, which does not have an analytic solution.  Our solver will return the state for both halves of\n",
    "the shooting so we can see how things match up."
   ]
  },
  {
   "cell_type": "markdown",
   "id": "18c82db3-ae29-4f8d-9764-20f33e72ec4a",
   "metadata": {},
   "source": [
    "Let's start by running just for a single iteration to see what the problem looks like"
   ]
  },
  {
   "cell_type": "code",
   "execution_count": 5,
   "id": "d1c6cffe-1a2f-41c5-88dd-2427e44d1f15",
   "metadata": {},
   "outputs": [
    {
     "name": "stdout",
     "output_type": "stream",
     "text": [
      "corrections:  -0.0010000000, -0.8000000000\n"
     ]
    }
   ],
   "source": [
    "n = 3\n",
    "xi_in, y_in, z_in, xi_out, y_out, z_out = solve_le(n, max_iter=1)"
   ]
  },
  {
   "cell_type": "markdown",
   "id": "677cd3dd-e6d3-4d1a-b879-d0b15f9b8ed4",
   "metadata": {},
   "source": [
    "Now we'll plot the inward and outward solutions with different linestyles."
   ]
  },
  {
   "cell_type": "code",
   "execution_count": 6,
   "id": "0625e54d-e471-4c94-ac76-38eed612dbbc",
   "metadata": {},
   "outputs": [
    {
     "data": {
      "image/png": "[encoded data removed]",
      "text/plain": [
       "<Figure size 640x480 with 1 Axes>"
      ]
     },
     "metadata": {},
     "output_type": "display_data"
    }
   ],
   "source": [
    "fig, ax = plt.subplots()\n",
    "\n",
    "ax.plot(xi_in, y_in, color=\"C0\", label=r\"$\\theta$\")\n",
    "ax.plot(xi_out, y_out, color=\"C0\", ls=\"--\")\n",
    "\n",
    "ax.plot(xi_in, z_in, color=\"C1\", label=r\"$\\theta'$\")\n",
    "ax.plot(xi_out, z_out, color=\"C1\", ls=\"--\")\n",
    "\n",
    "ax.set_xlabel(r\"$\\xi$\", fontsize=14)\n",
    "ax.set_ylabel(r\"$\\theta,\\, \\theta'$\", fontsize=14)\n",
    "\n",
    "ax.legend(frameon=False, loc=\"best\")\n",
    "ax.grid()"
   ]
  },
  {
   "cell_type": "markdown",
   "id": "c920eca9-9c4f-4d7f-a8ba-3ecc54a14615",
   "metadata": {},
   "source": [
    "We see that there is a large gap in both $\\theta$ and $\\theta'$.  This is what our method\n",
    "will try to zero."
   ]
  },
  {
   "cell_type": "markdown",
   "id": "637db6a3-6005-4ebe-990b-d09dfc1328cc",
   "metadata": {},
   "source": [
    "Now we rerun until convergence."
   ]
  },
  {
   "cell_type": "code",
   "execution_count": 7,
   "id": "07921fd0-51f5-4a08-93e8-2c5e124a93af",
   "metadata": {
    "tags": []
   },
   "outputs": [
    {
     "name": "stdout",
     "output_type": "stream",
     "text": [
      "corrections:  -0.0010000000, -0.8000000000\n",
      "corrections:  -0.0011000000,  0.1041147613\n",
      "corrections:  -0.0012100000, -0.4023120836\n",
      "corrections:  -0.0013310000,  0.6901802678\n",
      "corrections:  -0.0014641000, -0.7591982946\n",
      "corrections:  -0.0016105100,  0.6832784651\n",
      "corrections:  -0.0017715610, -0.7516063116\n",
      "corrections:  -0.0019487171,  0.6764456804\n",
      "corrections:  -0.0021435888, -0.7440902485\n",
      "corrections:  -0.0023579477,  0.6696812236\n",
      "corrections:  -0.0025937425, -0.6416966814\n",
      "corrections:  -0.0028531167,  0.5277816202\n",
      "corrections:  -0.0031384284, -0.4366105184\n",
      "corrections:  -0.0034522712,  0.1755129920\n",
      "corrections:  -0.0037974983, -0.0987626124\n",
      "corrections:  -0.0006486268,  0.0046186454\n",
      "corrections:  -0.0000086425, -0.0004880736\n",
      "corrections:  -0.0000000003,  0.0000000612\n"
     ]
    }
   ],
   "source": [
    "n = 3\n",
    "xi_in, y_in, z_in, xi_out, y_out, z_out = solve_le(n)"
   ]
  },
  {
   "cell_type": "code",
   "execution_count": 8,
   "id": "7a824e95-65fb-4324-8fce-eae27049ca4c",
   "metadata": {
    "tags": []
   },
   "outputs": [
    {
     "data": {
      "image/png": "[encoded data removed]",
      "text/plain": [
       "<Figure size 640x480 with 1 Axes>"
      ]
     },
     "metadata": {},
     "output_type": "display_data"
    }
   ],
   "source": [
    "fig, ax = plt.subplots()\n",
    "\n",
    "ax.plot(xi_in, y_in, color=\"C0\", label=r\"$\\theta$\")\n",
    "ax.plot(xi_out, y_out, color=\"C0\", ls=\"--\")\n",
    "\n",
    "ax.plot(xi_in, z_in, color=\"C1\", label=r\"$\\theta'$\")\n",
    "ax.plot(xi_out, z_out, color=\"C1\", ls=\"--\")\n",
    "\n",
    "ax.set_xlabel(r\"$\\xi$\", fontsize=14)\n",
    "ax.set_ylabel(r\"$\\theta,\\, \\theta'$\", fontsize=14)\n",
    "\n",
    "ax.legend(frameon=False, loc=\"best\")\n",
    "ax.grid()"
   ]
  },
  {
   "cell_type": "markdown",
   "id": "3c8ee0bc-f950-455d-b093-2664210f1ef7",
   "metadata": {},
   "source": [
    "Now we can get the surface of the polytrope, $\\xi_1$"
   ]
  },
  {
   "cell_type": "code",
   "execution_count": 9,
   "id": "585395f6-082c-406d-b520-4706fa550b98",
   "metadata": {},
   "outputs": [
    {
     "data": {
      "text/plain": [
       "6.896848900808395"
      ]
     },
     "execution_count": 9,
     "metadata": {},
     "output_type": "execute_result"
    }
   ],
   "source": [
    "xi1 = xi_in[0]\n",
    "xi1"
   ]
  },
  {
   "cell_type": "markdown",
   "id": "c018ee34-5e25-48fa-ac0b-6c6372d445e7",
   "metadata": {},
   "source": [
    "and $\\theta^\\prime$ at the surface:"
   ]
  },
  {
   "cell_type": "code",
   "execution_count": 10,
   "id": "821449eb-fcb3-4c74-b850-ee2c362439fa",
   "metadata": {
    "tags": []
   },
   "outputs": [],
   "source": [
    "dthetadxi_1 = z_in[0]"
   ]
  },
  {
   "cell_type": "markdown",
   "id": "d5b65fee-1dd4-49ef-86e8-777fddb69a04",
   "metadata": {},
   "source": [
    "A common quantity needed in finding physical values is $-\\xi_1^2 \\theta^\\prime |_{\\xi=\\xi_1}$"
   ]
  },
  {
   "cell_type": "code",
   "execution_count": 11,
   "id": "bbc5a309-4415-45f3-85fe-e3cefd629874",
   "metadata": {
    "tags": []
   },
   "outputs": [
    {
     "data": {
      "text/plain": [
       "2.0182358018073927"
      ]
     },
     "execution_count": 11,
     "metadata": {},
     "output_type": "execute_result"
    }
   ],
   "source": [
    "-xi1**2 * dthetadxi_1"
   ]
  }
 ],
 "metadata": {
  "kernelspec": {
   "display_name": "Python 3 (ipykernel)",
   "language": "python",
   "name": "python3"
  },
  "language_info": {
   "codemirror_mode": {
    "name": "ipython",
    "version": 3
   },
   "file_extension": ".py",
   "mimetype": "text/x-python",
   "name": "python",
   "nbconvert_exporter": "python",
   "pygments_lexer": "ipython3",
   "version": "3.13.2"
  }
 },
 "nbformat": 4,
 "nbformat_minor": 5
}
