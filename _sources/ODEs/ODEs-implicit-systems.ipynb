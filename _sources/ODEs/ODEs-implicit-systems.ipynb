{
 "cells": [
  {
   "cell_type": "markdown",
   "metadata": {
    "editable": true,
    "slideshow": {
     "slide_type": ""
    },
    "tags": []
   },
   "source": [
    "# Implicit Methods for Systems of ODEs"
   ]
  },
  {
   "cell_type": "markdown",
   "metadata": {
    "editable": true,
    "slideshow": {
     "slide_type": ""
    },
    "tags": []
   },
   "source": [
    "## Linear system\n",
    "\n",
    "Consider the linear system of ODEs\n",
    "\n",
    "$$\\frac{dX_A}{dt} = -\\alpha X_A + \\beta X_B$$ \n",
    "\n",
    "$$\\frac{dX_B}{dt} = \\alpha X_A - \\beta X_B$$\n",
    "\n",
    "(system from F. Timmes summer school notes).  We will take:\n",
    "\n",
    "$$X_A + X_B = 1$$\n",
    "\n",
    "\n",
    "\n",
    "In matrix form, we can write this as:\n",
    "\n",
    "$$\\frac{d}{dt} \\left ( \\begin{array}{c}\n",
    "                                 X_A \\\\ X_B \n",
    "                                \\end{array} \\right ) \n",
    "    = \\left ( \\begin{array}{rr} \n",
    "                           -\\alpha & \\beta \\\\\n",
    "                            \\alpha  & -\\beta \n",
    "                 \\end{array}   \\right )\n",
    " \\left ( \\begin{array}{c}\n",
    "                                 X_A \\\\ X_B \n",
    "                                \\end{array} \\right )$$\n",
    "                                \n",
    "or\n",
    "\n",
    "$$\\dot{\\bf Y} = {\\bf A}{\\bf Y}$$ \n",
    "\n",
    "with ${\\bf Y} = (X_A \\,\\, X_B)^\\intercal$.\n",
    "\n",
    "This has the solution (for $X_B(0) = 0$):\n",
    "\n",
    "$$\\frac{X_B}{X_A} = \\frac{e^{(\\alpha + \\beta)t} - 1}\n",
    "    {\\tfrac{\\beta}{\\alpha} e^{(\\alpha + \\beta)t } + 1}$$\n",
    "    \n",
    "and the long-time behavior:\n",
    "\n",
    "$$X_B/X_A \\rightarrow \\alpha/\\beta$$\n",
    "\n",
    "The characteristic timescale for change is\n",
    "\n",
    "$$\\tau_\\mathrm{ref} = \\frac{1}{\\alpha + \\beta}$$\n",
    "\n",
    "and we see that\n",
    "\n",
    "$$d(X_A + X_B)/dt = 0$$\n",
    "    \n",
    "We'll use $\\alpha = 10^9$ and $\\beta = 10^{-5}$ ."
   ]
  },
  {
   "cell_type": "code",
   "execution_count": 1,
   "metadata": {
    "editable": true,
    "slideshow": {
     "slide_type": ""
    },
    "tags": []
   },
   "outputs": [],
   "source": [
    "alpha = 1.e9\n",
    "beta = 1.e-5"
   ]
  },
  {
   "cell_type": "markdown",
   "metadata": {
    "editable": true,
    "slideshow": {
     "slide_type": ""
    },
    "tags": []
   },
   "source": [
    "### Discretization\n",
    "\n",
    "The backward-Euler discretization of this system is:\n",
    "\n",
    "$${\\bf Y}^{n+1} = {\\bf Y}^{n} + \\tau {\\bf A} {\\bf Y}^{n+1}$$\n",
    "\n",
    "We can write this as a linear system:\n",
    "\n",
    "$$({\\bf I} - \\tau {\\bf A}) {\\bf Y}^{n+1} = {\\bf Y}^n$$\n",
    "\n",
    "This is in the traditional \"${\\bf A}{\\bf x} = {\\bf b}$\" form of a linear system.\n"
   ]
  },
  {
   "cell_type": "markdown",
   "metadata": {},
   "source": [
    "First we need the righthand side function:"
   ]
  },
  {
   "cell_type": "code",
   "execution_count": 2,
   "metadata": {
    "editable": true,
    "slideshow": {
     "slide_type": ""
    },
    "tags": []
   },
   "outputs": [],
   "source": [
    "import numpy as np\n",
    "import matplotlib.pyplot as plt"
   ]
  },
  {
   "cell_type": "code",
   "execution_count": 3,
   "metadata": {},
   "outputs": [],
   "source": [
    "def rhs(t, Y):\n",
    "    \"\"\" RHS of the system for explicit methods \"\"\"\n",
    "    return np.array([-alpha*Y[0] + beta*Y[1],\n",
    "                     +alpha*Y[0] - beta*Y[1]])"
   ]
  },
  {
   "cell_type": "markdown",
   "metadata": {},
   "source": [
    "We'll also provide a function to compute the matrix ${\\bf A}$"
   ]
  },
  {
   "cell_type": "code",
   "execution_count": 4,
   "metadata": {},
   "outputs": [],
   "source": [
    "def ode_mat():\n",
    "    \"\"\" return the matrix A in the linear system of ODEs \"\"\"\n",
    "    return np.array([[-alpha,  beta],\n",
    "                     [+alpha, -beta]], dtype=np.float64)"
   ]
  },
  {
   "cell_type": "markdown",
   "metadata": {},
   "source": [
    "Now we can implement backward Euler.  We'll use the NumPy linear algebra `solve` method to solve the linear system."
   ]
  },
  {
   "cell_type": "code",
   "execution_count": 5,
   "metadata": {},
   "outputs": [],
   "source": [
    "def integrate(Y_0, dt, tmax):\n",
    "    \"\"\" perform a backward-Euler integration \"\"\"\n",
    "\n",
    "    XA = Y_0[0]\n",
    "    XB = Y_0[1]\n",
    "\n",
    "    tout = [0.0]\n",
    "    xaout = [XA]\n",
    "    xbout = [XB]\n",
    "\n",
    "    t = 0.0\n",
    "    while t < tmax:\n",
    "\n",
    "        # create the matrix\n",
    "        J = np.eye(2) - dt*ode_mat()\n",
    "\n",
    "        b = np.array([XA, XB])\n",
    "\n",
    "        # solve the linear system J x = b\n",
    "        x = np.linalg.solve(J, b)\n",
    "\n",
    "        XA = x[0]\n",
    "        XB = x[1]\n",
    "\n",
    "        t += dt\n",
    "\n",
    "        tout.append(t)\n",
    "        xaout.append(XA)\n",
    "        xbout.append(XB)\n",
    "\n",
    "    return np.asarray(tout), np.asarray(xaout), np.asarray(xbout)"
   ]
  },
  {
   "cell_type": "markdown",
   "metadata": {},
   "source": [
    "For comparison, we'll use the analytic solution for the ratio of the species."
   ]
  },
  {
   "cell_type": "code",
   "execution_count": 6,
   "metadata": {
    "editable": true,
    "slideshow": {
     "slide_type": ""
    },
    "tags": []
   },
   "outputs": [],
   "source": [
    "def analytic(t):\n",
    "    return ((np.exp((alpha+beta)*t) - 1.0) /\n",
    "            ((beta/alpha)*np.exp((alpha+beta)*t) + 1.0))"
   ]
  },
  {
   "cell_type": "markdown",
   "metadata": {
    "editable": true,
    "slideshow": {
     "slide_type": ""
    },
    "tags": []
   },
   "source": [
    "Finally, a plotting function.  We'll scale the ratio by the asymptotic limit at long times so the ratio should approach 1."
   ]
  },
  {
   "cell_type": "code",
   "execution_count": 7,
   "metadata": {},
   "outputs": [],
   "source": [
    "def plot(t, XA, XB, label=None):\n",
    "    frac_equil = alpha / beta\n",
    "    \n",
    "    fig = plt.figure()\n",
    "    ax = fig.add_subplot(111)\n",
    "    \n",
    "    tfine = np.linspace(0, t.max(), 1000)\n",
    "    \n",
    "    ax.plot(tfine, analytic(tfine) / frac_equil, label=\"analytic\")\n",
    "    ax.plot(t, (XB/XA) / frac_equil, label=label)\n",
    "    \n",
    "    ax.set_xlabel(\"t\")\n",
    "    ax.set_ylabel(r\"$(X_B/X_A) / (\\alpha/\\beta)$\")\n",
    "    \n",
    "    ax.legend(frameon=False)\n",
    "    return fig"
   ]
  },
  {
   "cell_type": "markdown",
   "metadata": {},
   "source": [
    "We'll work in terms of the characteristic timescale"
   ]
  },
  {
   "cell_type": "code",
   "execution_count": 8,
   "metadata": {},
   "outputs": [],
   "source": [
    "tref = 1.0/(alpha + beta)"
   ]
  },
  {
   "cell_type": "markdown",
   "metadata": {},
   "source": [
    "Let's integrate using a $\\tau < \\tau_\\mathrm{ref}$"
   ]
  },
  {
   "cell_type": "code",
   "execution_count": 9,
   "metadata": {},
   "outputs": [
    {
     "data": {
      "image/png": "[encoded data removed]",
      "text/plain": [
       "<Figure size 640x480 with 1 Axes>"
      ]
     },
     "metadata": {},
     "output_type": "display_data"
    }
   ],
   "source": [
    "t, XA, XB = integrate([1.0, 0.0], 0.5*tref, 200*tref)\n",
    "fig = plot(t, XA, XB)"
   ]
  },
  {
   "cell_type": "markdown",
   "metadata": {},
   "source": [
    "Now let's see what happens with $\\tau > \\tau_\\mathrm{ref}$"
   ]
  },
  {
   "cell_type": "code",
   "execution_count": 10,
   "metadata": {},
   "outputs": [
    {
     "data": {
      "image/png": "[encoded data removed]",
      "text/plain": [
       "<Figure size 640x480 with 1 Axes>"
      ]
     },
     "metadata": {},
     "output_type": "display_data"
    }
   ],
   "source": [
    "t, XA, XB = integrate([1.0, 0.0], 5*tref, 200*tref)\n",
    "fig = plot(t, XA, XB)"
   ]
  },
  {
   "cell_type": "markdown",
   "metadata": {},
   "source": [
    "We see that we don't get the position of the rise correct for either size timestep, but we do get the asymptotic limit correct at the end."
   ]
  },
  {
   "cell_type": "markdown",
   "metadata": {},
   "source": [
    "### Runge-Kutta\n",
    "\n",
    "We can compare the above solution with one from using Runge-Kutta"
   ]
  },
  {
   "cell_type": "code",
   "execution_count": 11,
   "metadata": {
    "editable": true,
    "slideshow": {
     "slide_type": ""
    },
    "tags": []
   },
   "outputs": [],
   "source": [
    "def rk4_integrate(Y_0, dt, tmax):\n",
    "    \"\"\" 4th-order explicit Runge-Kutta for comparison \"\"\"\n",
    "\n",
    "    XA = Y_0[0]\n",
    "    XB = Y_0[1]\n",
    "\n",
    "    tout = [0.0]\n",
    "    xaout = [XA]\n",
    "    xbout = [XB]\n",
    "\n",
    "    t = 0.0\n",
    "    while t < tmax:\n",
    "\n",
    "        k1 = rhs(t, np.array([XA, XB]))\n",
    "        k2 = rhs(t+0.5*dt, np.array([XA+0.5*dt*k1[0], XB+0.5*dt*k1[1]]))\n",
    "        k3 = rhs(t+0.5*dt, np.array([XA+0.5*dt*k2[0], XB+0.5*dt*k2[1]]))\n",
    "        k4 = rhs(t+dt, np.array([XA+dt*k3[0], XB+dt*k3[1]]))\n",
    "\n",
    "        XA += (dt/6.0)*(k1[0] + 2.0*k2[0] + 2.0*k3[0] + k4[0])\n",
    "        XB += (dt/6.0)*(k1[1] + 2.0*k2[1] + 2.0*k3[1] + k4[1])\n",
    "\n",
    "        t += dt\n",
    "\n",
    "        tout.append(t)\n",
    "        xaout.append(XA)\n",
    "        xbout.append(XB)\n",
    "\n",
    "    return np.asarray(tout), np.asarray(xaout), np.asarray(xbout)"
   ]
  },
  {
   "cell_type": "markdown",
   "metadata": {},
   "source": [
    "We'll look at the $\\tau > \\tau_\\mathrm{ref}$ case:"
   ]
  },
  {
   "cell_type": "code",
   "execution_count": 12,
   "metadata": {},
   "outputs": [
    {
     "data": {
      "image/png": "[encoded data removed]",
      "text/plain": [
       "<Figure size 640x480 with 1 Axes>"
      ]
     },
     "metadata": {},
     "output_type": "display_data"
    }
   ],
   "source": [
    "t, XA, XB = rk4_integrate([1.0, 0.0], 5.0*tref, 200*tref)\n",
    "fig = plot(t, XA, XB)"
   ]
  },
  {
   "cell_type": "markdown",
   "metadata": {},
   "source": [
    "Now we see that we completely miss the correct long time solution."
   ]
  },
  {
   "cell_type": "markdown",
   "metadata": {},
   "source": [
    "### Adaptive Timestepping with RK4\n",
    "\n",
    "Just to be fair to RK4, let's use the implementation in scipy, which can adapt the timestep as needed.  Let's see how many steps it can solve this in.\n",
    "\n",
    "Integrators with adaptive stepping change the timestep to ensure that the local error in integration is below a specified tolerance.  We usually specify both a relative, `rtol`, and absolute, `atol`, tolerance and they are combined as:\n",
    "\n",
    "$$\\epsilon_k = {\\tt rtol} | y_k | + {\\tt atol}$$\n",
    "\n",
    "where $y_k$ is the $k$-th member of the integration state.\n",
    "\n",
    "For this problem, we need to make sure that `atol` is really small, or we miss the correct solution."
   ]
  },
  {
   "cell_type": "code",
   "execution_count": 13,
   "metadata": {},
   "outputs": [],
   "source": [
    "from scipy.integrate import solve_ivp"
   ]
  },
  {
   "cell_type": "code",
   "execution_count": 14,
   "metadata": {},
   "outputs": [],
   "source": [
    "sol = solve_ivp(rhs, [0, 200*tref], [1.0, 0.0],\n",
    "                method=\"RK45\", dense_output=True,\n",
    "                rtol=1.e-4, atol=1.e-17)"
   ]
  },
  {
   "cell_type": "code",
   "execution_count": 15,
   "metadata": {},
   "outputs": [
    {
     "name": "stdout",
     "output_type": "stream",
     "text": [
      "  message: The solver successfully reached the end of the integration interval.\n",
      "  success: True\n",
      "   status: 0\n",
      "        t: [ 0.000e+00  1.000e-22 ...  1.969e-07  2.000e-07]\n",
      "        y: [[ 1.000e+00  1.000e+00 ...  1.001e-14  1.001e-14]\n",
      "            [ 0.000e+00  1.000e-13 ...  1.000e+00  1.000e+00]]\n",
      "      sol: <scipy.integrate._ivp.common.OdeSolution object at 0x7fcd4c112480>\n",
      " t_events: None\n",
      " y_events: None\n",
      "     nfev: 734\n",
      "     njev: 0\n",
      "      nlu: 0\n"
     ]
    }
   ],
   "source": [
    "print(sol)"
   ]
  },
  {
   "cell_type": "code",
   "execution_count": 16,
   "metadata": {},
   "outputs": [
    {
     "data": {
      "image/png": "[encoded data removed]",
      "text/plain": [
       "<Figure size 640x480 with 1 Axes>"
      ]
     },
     "metadata": {},
     "output_type": "display_data"
    }
   ],
   "source": [
    "fig = plot(sol.t, sol.y[0,:], sol.y[1,:])"
   ]
  },
  {
   "cell_type": "markdown",
   "metadata": {},
   "source": [
    "We can see how many steps it took, but looking at the shape of the stored solution:"
   ]
  },
  {
   "cell_type": "code",
   "execution_count": 17,
   "metadata": {},
   "outputs": [
    {
     "data": {
      "text/plain": [
       "(2, 121)"
      ]
     },
     "execution_count": 17,
     "metadata": {},
     "output_type": "execute_result"
    }
   ],
   "source": [
    "sol.y.shape"
   ]
  },
  {
   "cell_type": "markdown",
   "metadata": {},
   "source": [
    "It took 121 steps to evolve for a timespan of 200 characteristic timescales, so it basically needed to step at / near the characteristic timescale to get a reasonable solution.\n",
    "\n",
    "This is the difficulty with stiff systems.  Even though the short timescale behavior may be only transient, explicitly methods (generally) need to resolve it in order to stay stable."
   ]
  },
  {
   "cell_type": "markdown",
   "metadata": {},
   "source": [
    "### Definition of Stiffness\n",
    "\n",
    "One common way to define stiffness is to look at the eigenvalues of the Jacobian of the system.  A stiff system has a wide separation between eigenvalues.  For our system, the eigenvalues are:"
   ]
  },
  {
   "cell_type": "code",
   "execution_count": 18,
   "metadata": {},
   "outputs": [
    {
     "name": "stdout",
     "output_type": "stream",
     "text": [
      "IPython console for SymPy 1.13.2 (Python 3.12.7-64-bit) (ground types: gmpy)\n",
      "\n",
      "These commands were executed:\n",
      ">>> from sympy import *\n",
      ">>> x, y, z, t = symbols('x y z t')\n",
      ">>> k, m, n = symbols('k m n', integer=True)\n",
      ">>> f, g, h = symbols('f g h', cls=Function)\n",
      ">>> init_printing()\n",
      "\n",
      "Documentation can be found at https://docs.sympy.org/1.13.2/\n",
      "\n"
     ]
    }
   ],
   "source": [
    "from sympy import init_session\n",
    "init_session(use_latex=\"mathjax\")"
   ]
  },
  {
   "cell_type": "code",
   "execution_count": 19,
   "metadata": {},
   "outputs": [
    {
     "data": {
      "text/latex": [
       "$\\displaystyle \\left\\{ 0 : 1, \\  - \\alpha - \\beta : 1\\right\\}$"
      ],
      "text/plain": [
       "{0: 1, -α - β: 1}"
      ]
     },
     "execution_count": 19,
     "metadata": {},
     "output_type": "execute_result"
    }
   ],
   "source": [
    "alpha, beta = symbols(\"alpha beta\")\n",
    "\n",
    "J = Matrix([[-alpha, beta], [alpha, -beta]])\n",
    "J.eigenvals()"
   ]
  },
  {
   "cell_type": "markdown",
   "metadata": {},
   "source": [
    "Byrne & Hindmarsh (1986) give a more pragmatic definition of a stiff system:\n",
    "\n",
    "  > Perhaps the most pragmatic way to determine the stiffness of a system of ODEs\n",
    "  > is simply to solve it with a non-stiff differential equation package … \n",
    "  > Then, record the cost of solving the problem.  By the way, it would be prudent to\n",
    "  > impose a limit on CPU time or the number of function evaluations.  Similarly, solve \n",
    "  > the problem with a stiff ODE package …  Upper bounds on the cost should again be imposed.\n",
    "  > Now compare the costs of the two solutions over the same time interval.  If the stiff\n",
    "  > ODE solver was substantially less expensive to use than the non-stiff solver, then\n",
    "  > the problem was stiff."
   ]
  },
  {
   "cell_type": "markdown",
   "metadata": {},
   "source": [
    "This particular system is linear, so there is not too much difference in the performance of an implicit and explicit method (like using the `BDF` method in SciPy).  We'll look at a nonlinear system next."
   ]
  }
 ],
 "metadata": {
  "kernelspec": {
   "display_name": "Python 3 (ipykernel)",
   "language": "python",
   "name": "python3"
  },
  "language_info": {
   "codemirror_mode": {
    "name": "ipython",
    "version": 3
   },
   "file_extension": ".py",
   "mimetype": "text/x-python",
   "name": "python",
   "nbconvert_exporter": "python",
   "pygments_lexer": "ipython3",
   "version": "3.12.7"
  }
 },
 "nbformat": 4,
 "nbformat_minor": 4
}
